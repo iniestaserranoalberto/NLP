{
  "nbformat": 4,
  "nbformat_minor": 0,
  "metadata": {
    "colab": {
      "name": "NLPGroupC.ipynb",
      "provenance": [],
      "collapsed_sections": []
    },
    "kernelspec": {
      "display_name": "Python 3",
      "language": "python",
      "name": "python3"
    },
    "language_info": {
      "codemirror_mode": {
        "name": "ipython",
        "version": 3
      },
      "file_extension": ".py",
      "mimetype": "text/x-python",
      "name": "python",
      "nbconvert_exporter": "python",
      "pygments_lexer": "ipython3",
      "version": "3.7.6"
    },
    "accelerator": "GPU"
  },
  "cells": [
    {
      "cell_type": "code",
      "metadata": {
        "colab": {
          "base_uri": "https://localhost:8080/"
        },
        "id": "eSOpp4onaz_4",
        "outputId": "0798b126-1334-4ee1-b2cb-bf5cb49551a9"
      },
      "source": [
        "! pip install -r https://raw.githubusercontent.com/iniestaserranoalberto/NLP/main/requirements.txt"
      ],
      "execution_count": 1,
      "outputs": [
        {
          "output_type": "stream",
          "text": [
            "Collecting git+https://github.com/amaiya/eli5@tfkeras_0_10_1 (from -r https://raw.githubusercontent.com/iniestaserranoalberto/NLP/main/requirements.txt (line 12))\n",
            "  Cloning https://github.com/amaiya/eli5 (to revision tfkeras_0_10_1) to /tmp/pip-req-build-sbxc_h_p\n",
            "  Running command git clone -q https://github.com/amaiya/eli5 /tmp/pip-req-build-sbxc_h_p\n",
            "  Running command git checkout -b tfkeras_0_10_1 --track origin/tfkeras_0_10_1\n",
            "  Switched to a new branch 'tfkeras_0_10_1'\n",
            "  Branch 'tfkeras_0_10_1' set up to track remote branch 'tfkeras_0_10_1' from 'origin'.\n",
            "Requirement already satisfied (use --upgrade to upgrade): eli5==0.10.1 from git+https://github.com/amaiya/eli5@tfkeras_0_10_1 in /usr/local/lib/python3.7/dist-packages (from -r https://raw.githubusercontent.com/iniestaserranoalberto/NLP/main/requirements.txt (line 12))\n",
            "Collecting git+https://github.com/amaiya/stellargraph@no_tf_dep_082 (from -r https://raw.githubusercontent.com/iniestaserranoalberto/NLP/main/requirements.txt (line 13))\n",
            "  Cloning https://github.com/amaiya/stellargraph (to revision no_tf_dep_082) to /tmp/pip-req-build-psmg1lwr\n",
            "  Running command git clone -q https://github.com/amaiya/stellargraph /tmp/pip-req-build-psmg1lwr\n",
            "  Running command git checkout -b no_tf_dep_082 --track origin/no_tf_dep_082\n",
            "  Switched to a new branch 'no_tf_dep_082'\n",
            "  Branch 'no_tf_dep_082' set up to track remote branch 'no_tf_dep_082' from 'origin'.\n",
            "Requirement already satisfied (use --upgrade to upgrade): stellargraph==0.8.2 from git+https://github.com/amaiya/stellargraph@no_tf_dep_082 in /usr/local/lib/python3.7/dist-packages (from -r https://raw.githubusercontent.com/iniestaserranoalberto/NLP/main/requirements.txt (line 13))\n",
            "Requirement already satisfied: nltk in /usr/local/lib/python3.7/dist-packages (from -r https://raw.githubusercontent.com/iniestaserranoalberto/NLP/main/requirements.txt (line 1)) (3.2.5)\n",
            "Requirement already satisfied: spacy<3.0.0,>=2.2.0 in /usr/local/lib/python3.7/dist-packages (from -r https://raw.githubusercontent.com/iniestaserranoalberto/NLP/main/requirements.txt (line 2)) (2.2.4)\n",
            "Requirement already satisfied: en_core_web_sm from https://github.com/explosion/spacy-models/releases/download/en_core_web_sm-2.2.0/en_core_web_sm-2.2.0.tar.gz#egg=en_core_web_sm in /usr/local/lib/python3.7/dist-packages (from -r https://raw.githubusercontent.com/iniestaserranoalberto/NLP/main/requirements.txt (line 3)) (2.2.5)\n",
            "Requirement already satisfied: pandas in /usr/local/lib/python3.7/dist-packages (from -r https://raw.githubusercontent.com/iniestaserranoalberto/NLP/main/requirements.txt (line 4)) (1.1.5)\n",
            "Requirement already satisfied: elasticsearch in /usr/local/lib/python3.7/dist-packages (from -r https://raw.githubusercontent.com/iniestaserranoalberto/NLP/main/requirements.txt (line 5)) (7.13.1)\n",
            "Requirement already satisfied: torch in /usr/local/lib/python3.7/dist-packages (from -r https://raw.githubusercontent.com/iniestaserranoalberto/NLP/main/requirements.txt (line 6)) (1.8.1+cu101)\n",
            "Requirement already satisfied: fastai>=2 in /usr/local/lib/python3.7/dist-packages (from -r https://raw.githubusercontent.com/iniestaserranoalberto/NLP/main/requirements.txt (line 7)) (2.3.1)\n",
            "Requirement already satisfied: fastbook in /usr/local/lib/python3.7/dist-packages (from -r https://raw.githubusercontent.com/iniestaserranoalberto/NLP/main/requirements.txt (line 8)) (0.0.16)\n",
            "Requirement already satisfied: seaborn in /usr/local/lib/python3.7/dist-packages (from -r https://raw.githubusercontent.com/iniestaserranoalberto/NLP/main/requirements.txt (line 9)) (0.11.1)\n",
            "Requirement already satisfied: tensorflow_gpu>=2.0 in /usr/local/lib/python3.7/dist-packages (from -r https://raw.githubusercontent.com/iniestaserranoalberto/NLP/main/requirements.txt (line 10)) (2.5.0)\n",
            "Requirement already satisfied: ktrain in /usr/local/lib/python3.7/dist-packages (from -r https://raw.githubusercontent.com/iniestaserranoalberto/NLP/main/requirements.txt (line 11)) (0.26.3)\n",
            "Requirement already satisfied: tqdm in /usr/local/lib/python3.7/dist-packages (from -r https://raw.githubusercontent.com/iniestaserranoalberto/NLP/main/requirements.txt (line 14)) (4.41.1)\n",
            "Requirement already satisfied: transformers in /usr/local/lib/python3.7/dist-packages (from -r https://raw.githubusercontent.com/iniestaserranoalberto/NLP/main/requirements.txt (line 15)) (4.6.1)\n",
            "Requirement already satisfied: attrs>16.0.0 in /usr/local/lib/python3.7/dist-packages (from eli5==0.10.1->-r https://raw.githubusercontent.com/iniestaserranoalberto/NLP/main/requirements.txt (line 12)) (21.2.0)\n",
            "Requirement already satisfied: jinja2 in /usr/local/lib/python3.7/dist-packages (from eli5==0.10.1->-r https://raw.githubusercontent.com/iniestaserranoalberto/NLP/main/requirements.txt (line 12)) (2.11.3)\n",
            "Requirement already satisfied: numpy>=1.9.0 in /usr/local/lib/python3.7/dist-packages (from eli5==0.10.1->-r https://raw.githubusercontent.com/iniestaserranoalberto/NLP/main/requirements.txt (line 12)) (1.19.5)\n",
            "Requirement already satisfied: scipy in /usr/local/lib/python3.7/dist-packages (from eli5==0.10.1->-r https://raw.githubusercontent.com/iniestaserranoalberto/NLP/main/requirements.txt (line 12)) (1.4.1)\n",
            "Requirement already satisfied: six in /usr/local/lib/python3.7/dist-packages (from eli5==0.10.1->-r https://raw.githubusercontent.com/iniestaserranoalberto/NLP/main/requirements.txt (line 12)) (1.15.0)\n",
            "Requirement already satisfied: scikit-learn>=0.18 in /usr/local/lib/python3.7/dist-packages (from eli5==0.10.1->-r https://raw.githubusercontent.com/iniestaserranoalberto/NLP/main/requirements.txt (line 12)) (0.22.2.post1)\n",
            "Requirement already satisfied: graphviz in /usr/local/lib/python3.7/dist-packages (from eli5==0.10.1->-r https://raw.githubusercontent.com/iniestaserranoalberto/NLP/main/requirements.txt (line 12)) (0.10.1)\n",
            "Requirement already satisfied: tabulate>=0.7.7 in /usr/local/lib/python3.7/dist-packages (from eli5==0.10.1->-r https://raw.githubusercontent.com/iniestaserranoalberto/NLP/main/requirements.txt (line 12)) (0.8.9)\n",
            "Requirement already satisfied: networkx<2.4,>=2.2 in /usr/local/lib/python3.7/dist-packages (from stellargraph==0.8.2->-r https://raw.githubusercontent.com/iniestaserranoalberto/NLP/main/requirements.txt (line 13)) (2.3)\n",
            "Requirement already satisfied: matplotlib>=2.2 in /usr/local/lib/python3.7/dist-packages (from stellargraph==0.8.2->-r https://raw.githubusercontent.com/iniestaserranoalberto/NLP/main/requirements.txt (line 13)) (3.2.2)\n",
            "Requirement already satisfied: catalogue<1.1.0,>=0.0.7 in /usr/local/lib/python3.7/dist-packages (from spacy<3.0.0,>=2.2.0->-r https://raw.githubusercontent.com/iniestaserranoalberto/NLP/main/requirements.txt (line 2)) (1.0.0)\n",
            "Requirement already satisfied: murmurhash<1.1.0,>=0.28.0 in /usr/local/lib/python3.7/dist-packages (from spacy<3.0.0,>=2.2.0->-r https://raw.githubusercontent.com/iniestaserranoalberto/NLP/main/requirements.txt (line 2)) (1.0.5)\n",
            "Requirement already satisfied: requests<3.0.0,>=2.13.0 in /usr/local/lib/python3.7/dist-packages (from spacy<3.0.0,>=2.2.0->-r https://raw.githubusercontent.com/iniestaserranoalberto/NLP/main/requirements.txt (line 2)) (2.23.0)\n",
            "Requirement already satisfied: cymem<2.1.0,>=2.0.2 in /usr/local/lib/python3.7/dist-packages (from spacy<3.0.0,>=2.2.0->-r https://raw.githubusercontent.com/iniestaserranoalberto/NLP/main/requirements.txt (line 2)) (2.0.5)\n",
            "Requirement already satisfied: plac<1.2.0,>=0.9.6 in /usr/local/lib/python3.7/dist-packages (from spacy<3.0.0,>=2.2.0->-r https://raw.githubusercontent.com/iniestaserranoalberto/NLP/main/requirements.txt (line 2)) (1.1.3)\n",
            "Requirement already satisfied: setuptools in /usr/local/lib/python3.7/dist-packages (from spacy<3.0.0,>=2.2.0->-r https://raw.githubusercontent.com/iniestaserranoalberto/NLP/main/requirements.txt (line 2)) (57.0.0)\n",
            "Requirement already satisfied: srsly<1.1.0,>=1.0.2 in /usr/local/lib/python3.7/dist-packages (from spacy<3.0.0,>=2.2.0->-r https://raw.githubusercontent.com/iniestaserranoalberto/NLP/main/requirements.txt (line 2)) (1.0.5)\n",
            "Requirement already satisfied: thinc==7.4.0 in /usr/local/lib/python3.7/dist-packages (from spacy<3.0.0,>=2.2.0->-r https://raw.githubusercontent.com/iniestaserranoalberto/NLP/main/requirements.txt (line 2)) (7.4.0)\n",
            "Requirement already satisfied: wasabi<1.1.0,>=0.4.0 in /usr/local/lib/python3.7/dist-packages (from spacy<3.0.0,>=2.2.0->-r https://raw.githubusercontent.com/iniestaserranoalberto/NLP/main/requirements.txt (line 2)) (0.8.2)\n",
            "Requirement already satisfied: preshed<3.1.0,>=3.0.2 in /usr/local/lib/python3.7/dist-packages (from spacy<3.0.0,>=2.2.0->-r https://raw.githubusercontent.com/iniestaserranoalberto/NLP/main/requirements.txt (line 2)) (3.0.5)\n",
            "Requirement already satisfied: blis<0.5.0,>=0.4.0 in /usr/local/lib/python3.7/dist-packages (from spacy<3.0.0,>=2.2.0->-r https://raw.githubusercontent.com/iniestaserranoalberto/NLP/main/requirements.txt (line 2)) (0.4.1)\n",
            "Requirement already satisfied: pytz>=2017.2 in /usr/local/lib/python3.7/dist-packages (from pandas->-r https://raw.githubusercontent.com/iniestaserranoalberto/NLP/main/requirements.txt (line 4)) (2018.9)\n",
            "Requirement already satisfied: python-dateutil>=2.7.3 in /usr/local/lib/python3.7/dist-packages (from pandas->-r https://raw.githubusercontent.com/iniestaserranoalberto/NLP/main/requirements.txt (line 4)) (2.8.1)\n",
            "Requirement already satisfied: certifi in /usr/local/lib/python3.7/dist-packages (from elasticsearch->-r https://raw.githubusercontent.com/iniestaserranoalberto/NLP/main/requirements.txt (line 5)) (2020.12.5)\n",
            "Requirement already satisfied: urllib3<2,>=1.21.1 in /usr/local/lib/python3.7/dist-packages (from elasticsearch->-r https://raw.githubusercontent.com/iniestaserranoalberto/NLP/main/requirements.txt (line 5)) (1.24.3)\n",
            "Requirement already satisfied: typing-extensions in /usr/local/lib/python3.7/dist-packages (from torch->-r https://raw.githubusercontent.com/iniestaserranoalberto/NLP/main/requirements.txt (line 6)) (3.7.4.3)\n",
            "Requirement already satisfied: torchvision>=0.8.2 in /usr/local/lib/python3.7/dist-packages (from fastai>=2->-r https://raw.githubusercontent.com/iniestaserranoalberto/NLP/main/requirements.txt (line 7)) (0.9.1+cu101)\n",
            "Requirement already satisfied: fastprogress>=0.2.4 in /usr/local/lib/python3.7/dist-packages (from fastai>=2->-r https://raw.githubusercontent.com/iniestaserranoalberto/NLP/main/requirements.txt (line 7)) (1.0.0)\n",
            "Requirement already satisfied: fastcore<1.4,>=1.3.8 in /usr/local/lib/python3.7/dist-packages (from fastai>=2->-r https://raw.githubusercontent.com/iniestaserranoalberto/NLP/main/requirements.txt (line 7)) (1.3.20)\n",
            "Requirement already satisfied: pip in /usr/local/lib/python3.7/dist-packages (from fastai>=2->-r https://raw.githubusercontent.com/iniestaserranoalberto/NLP/main/requirements.txt (line 7)) (19.3.1)\n",
            "Requirement already satisfied: pyyaml in /usr/local/lib/python3.7/dist-packages (from fastai>=2->-r https://raw.githubusercontent.com/iniestaserranoalberto/NLP/main/requirements.txt (line 7)) (3.13)\n",
            "Requirement already satisfied: pillow>6.0.0 in /usr/local/lib/python3.7/dist-packages (from fastai>=2->-r https://raw.githubusercontent.com/iniestaserranoalberto/NLP/main/requirements.txt (line 7)) (7.1.2)\n",
            "Requirement already satisfied: packaging in /usr/local/lib/python3.7/dist-packages (from fastai>=2->-r https://raw.githubusercontent.com/iniestaserranoalberto/NLP/main/requirements.txt (line 7)) (20.9)\n",
            "Requirement already satisfied: nbdev>=0.2.38 in /usr/local/lib/python3.7/dist-packages (from fastbook->-r https://raw.githubusercontent.com/iniestaserranoalberto/NLP/main/requirements.txt (line 8)) (1.1.14)\n",
            "Requirement already satisfied: ipywidgets in /usr/local/lib/python3.7/dist-packages (from fastbook->-r https://raw.githubusercontent.com/iniestaserranoalberto/NLP/main/requirements.txt (line 8)) (7.6.3)\n",
            "Requirement already satisfied: sentencepiece in /usr/local/lib/python3.7/dist-packages (from fastbook->-r https://raw.githubusercontent.com/iniestaserranoalberto/NLP/main/requirements.txt (line 8)) (0.1.95)\n",
            "Requirement already satisfied: opt-einsum~=3.3.0 in /usr/local/lib/python3.7/dist-packages (from tensorflow_gpu>=2.0->-r https://raw.githubusercontent.com/iniestaserranoalberto/NLP/main/requirements.txt (line 10)) (3.3.0)\n",
            "Requirement already satisfied: keras-nightly~=2.5.0.dev in /usr/local/lib/python3.7/dist-packages (from tensorflow_gpu>=2.0->-r https://raw.githubusercontent.com/iniestaserranoalberto/NLP/main/requirements.txt (line 10)) (2.5.0.dev2021032900)\n",
            "Requirement already satisfied: tensorflow-estimator<2.6.0,>=2.5.0rc0 in /usr/local/lib/python3.7/dist-packages (from tensorflow_gpu>=2.0->-r https://raw.githubusercontent.com/iniestaserranoalberto/NLP/main/requirements.txt (line 10)) (2.5.0)\n",
            "Requirement already satisfied: flatbuffers~=1.12.0 in /usr/local/lib/python3.7/dist-packages (from tensorflow_gpu>=2.0->-r https://raw.githubusercontent.com/iniestaserranoalberto/NLP/main/requirements.txt (line 10)) (1.12)\n",
            "Requirement already satisfied: tensorboard~=2.5 in /usr/local/lib/python3.7/dist-packages (from tensorflow_gpu>=2.0->-r https://raw.githubusercontent.com/iniestaserranoalberto/NLP/main/requirements.txt (line 10)) (2.5.0)\n",
            "Requirement already satisfied: termcolor~=1.1.0 in /usr/local/lib/python3.7/dist-packages (from tensorflow_gpu>=2.0->-r https://raw.githubusercontent.com/iniestaserranoalberto/NLP/main/requirements.txt (line 10)) (1.1.0)\n",
            "Requirement already satisfied: wheel~=0.35 in /usr/local/lib/python3.7/dist-packages (from tensorflow_gpu>=2.0->-r https://raw.githubusercontent.com/iniestaserranoalberto/NLP/main/requirements.txt (line 10)) (0.36.2)\n",
            "Requirement already satisfied: keras-preprocessing~=1.1.2 in /usr/local/lib/python3.7/dist-packages (from tensorflow_gpu>=2.0->-r https://raw.githubusercontent.com/iniestaserranoalberto/NLP/main/requirements.txt (line 10)) (1.1.2)\n",
            "Requirement already satisfied: grpcio~=1.34.0 in /usr/local/lib/python3.7/dist-packages (from tensorflow_gpu>=2.0->-r https://raw.githubusercontent.com/iniestaserranoalberto/NLP/main/requirements.txt (line 10)) (1.34.1)\n",
            "Requirement already satisfied: astunparse~=1.6.3 in /usr/local/lib/python3.7/dist-packages (from tensorflow_gpu>=2.0->-r https://raw.githubusercontent.com/iniestaserranoalberto/NLP/main/requirements.txt (line 10)) (1.6.3)\n",
            "Requirement already satisfied: absl-py~=0.10 in /usr/local/lib/python3.7/dist-packages (from tensorflow_gpu>=2.0->-r https://raw.githubusercontent.com/iniestaserranoalberto/NLP/main/requirements.txt (line 10)) (0.12.0)\n",
            "Requirement already satisfied: gast==0.4.0 in /usr/local/lib/python3.7/dist-packages (from tensorflow_gpu>=2.0->-r https://raw.githubusercontent.com/iniestaserranoalberto/NLP/main/requirements.txt (line 10)) (0.4.0)\n",
            "Requirement already satisfied: google-pasta~=0.2 in /usr/local/lib/python3.7/dist-packages (from tensorflow_gpu>=2.0->-r https://raw.githubusercontent.com/iniestaserranoalberto/NLP/main/requirements.txt (line 10)) (0.2.0)\n",
            "Requirement already satisfied: protobuf>=3.9.2 in /usr/local/lib/python3.7/dist-packages (from tensorflow_gpu>=2.0->-r https://raw.githubusercontent.com/iniestaserranoalberto/NLP/main/requirements.txt (line 10)) (3.12.4)\n",
            "Requirement already satisfied: h5py~=3.1.0 in /usr/local/lib/python3.7/dist-packages (from tensorflow_gpu>=2.0->-r https://raw.githubusercontent.com/iniestaserranoalberto/NLP/main/requirements.txt (line 10)) (3.1.0)\n",
            "Requirement already satisfied: wrapt~=1.12.1 in /usr/local/lib/python3.7/dist-packages (from tensorflow_gpu>=2.0->-r https://raw.githubusercontent.com/iniestaserranoalberto/NLP/main/requirements.txt (line 10)) (1.12.1)\n",
            "Requirement already satisfied: seqeval==0.0.19 in /usr/local/lib/python3.7/dist-packages (from ktrain->-r https://raw.githubusercontent.com/iniestaserranoalberto/NLP/main/requirements.txt (line 11)) (0.0.19)\n",
            "Requirement already satisfied: keras-bert>=0.86.0 in /usr/local/lib/python3.7/dist-packages (from ktrain->-r https://raw.githubusercontent.com/iniestaserranoalberto/NLP/main/requirements.txt (line 11)) (0.86.0)\n",
            "Requirement already satisfied: ipython in /usr/local/lib/python3.7/dist-packages (from ktrain->-r https://raw.githubusercontent.com/iniestaserranoalberto/NLP/main/requirements.txt (line 11)) (5.5.0)\n",
            "Requirement already satisfied: joblib in /usr/local/lib/python3.7/dist-packages (from ktrain->-r https://raw.githubusercontent.com/iniestaserranoalberto/NLP/main/requirements.txt (line 11)) (1.0.1)\n",
            "Requirement already satisfied: syntok in /usr/local/lib/python3.7/dist-packages (from ktrain->-r https://raw.githubusercontent.com/iniestaserranoalberto/NLP/main/requirements.txt (line 11)) (1.3.1)\n",
            "Requirement already satisfied: langdetect in /usr/local/lib/python3.7/dist-packages (from ktrain->-r https://raw.githubusercontent.com/iniestaserranoalberto/NLP/main/requirements.txt (line 11)) (1.0.9)\n",
            "Requirement already satisfied: jieba in /usr/local/lib/python3.7/dist-packages (from ktrain->-r https://raw.githubusercontent.com/iniestaserranoalberto/NLP/main/requirements.txt (line 11)) (0.42.1)\n",
            "Requirement already satisfied: cchardet in /usr/local/lib/python3.7/dist-packages (from ktrain->-r https://raw.githubusercontent.com/iniestaserranoalberto/NLP/main/requirements.txt (line 11)) (2.1.7)\n",
            "Requirement already satisfied: whoosh in /usr/local/lib/python3.7/dist-packages (from ktrain->-r https://raw.githubusercontent.com/iniestaserranoalberto/NLP/main/requirements.txt (line 11)) (2.7.4)\n",
            "Requirement already satisfied: sacremoses in /usr/local/lib/python3.7/dist-packages (from transformers->-r https://raw.githubusercontent.com/iniestaserranoalberto/NLP/main/requirements.txt (line 15)) (0.0.45)\n",
            "Requirement already satisfied: importlib-metadata; python_version < \"3.8\" in /usr/local/lib/python3.7/dist-packages (from transformers->-r https://raw.githubusercontent.com/iniestaserranoalberto/NLP/main/requirements.txt (line 15)) (4.0.1)\n",
            "Requirement already satisfied: regex!=2019.12.17 in /usr/local/lib/python3.7/dist-packages (from transformers->-r https://raw.githubusercontent.com/iniestaserranoalberto/NLP/main/requirements.txt (line 15)) (2019.12.20)\n",
            "Requirement already satisfied: filelock in /usr/local/lib/python3.7/dist-packages (from transformers->-r https://raw.githubusercontent.com/iniestaserranoalberto/NLP/main/requirements.txt (line 15)) (3.0.12)\n",
            "Requirement already satisfied: tokenizers<0.11,>=0.10.1 in /usr/local/lib/python3.7/dist-packages (from transformers->-r https://raw.githubusercontent.com/iniestaserranoalberto/NLP/main/requirements.txt (line 15)) (0.10.3)\n",
            "Requirement already satisfied: huggingface-hub==0.0.8 in /usr/local/lib/python3.7/dist-packages (from transformers->-r https://raw.githubusercontent.com/iniestaserranoalberto/NLP/main/requirements.txt (line 15)) (0.0.8)\n",
            "Requirement already satisfied: MarkupSafe>=0.23 in /usr/local/lib/python3.7/dist-packages (from jinja2->eli5==0.10.1->-r https://raw.githubusercontent.com/iniestaserranoalberto/NLP/main/requirements.txt (line 12)) (2.0.1)\n",
            "Requirement already satisfied: decorator>=4.3.0 in /usr/local/lib/python3.7/dist-packages (from networkx<2.4,>=2.2->stellargraph==0.8.2->-r https://raw.githubusercontent.com/iniestaserranoalberto/NLP/main/requirements.txt (line 13)) (4.4.2)\n",
            "Requirement already satisfied: cycler>=0.10 in /usr/local/lib/python3.7/dist-packages (from matplotlib>=2.2->stellargraph==0.8.2->-r https://raw.githubusercontent.com/iniestaserranoalberto/NLP/main/requirements.txt (line 13)) (0.10.0)\n",
            "Requirement already satisfied: kiwisolver>=1.0.1 in /usr/local/lib/python3.7/dist-packages (from matplotlib>=2.2->stellargraph==0.8.2->-r https://raw.githubusercontent.com/iniestaserranoalberto/NLP/main/requirements.txt (line 13)) (1.3.1)\n",
            "Requirement already satisfied: pyparsing!=2.0.4,!=2.1.2,!=2.1.6,>=2.0.1 in /usr/local/lib/python3.7/dist-packages (from matplotlib>=2.2->stellargraph==0.8.2->-r https://raw.githubusercontent.com/iniestaserranoalberto/NLP/main/requirements.txt (line 13)) (2.4.7)\n",
            "Requirement already satisfied: idna<3,>=2.5 in /usr/local/lib/python3.7/dist-packages (from requests<3.0.0,>=2.13.0->spacy<3.0.0,>=2.2.0->-r https://raw.githubusercontent.com/iniestaserranoalberto/NLP/main/requirements.txt (line 2)) (2.10)\n",
            "Requirement already satisfied: chardet<4,>=3.0.2 in /usr/local/lib/python3.7/dist-packages (from requests<3.0.0,>=2.13.0->spacy<3.0.0,>=2.2.0->-r https://raw.githubusercontent.com/iniestaserranoalberto/NLP/main/requirements.txt (line 2)) (3.0.4)\n",
            "Requirement already satisfied: nbconvert<6 in /usr/local/lib/python3.7/dist-packages (from nbdev>=0.2.38->fastbook->-r https://raw.githubusercontent.com/iniestaserranoalberto/NLP/main/requirements.txt (line 8)) (5.6.1)\n",
            "Requirement already satisfied: jupyter-client<=6.1.12 in /usr/local/lib/python3.7/dist-packages (from nbdev>=0.2.38->fastbook->-r https://raw.githubusercontent.com/iniestaserranoalberto/NLP/main/requirements.txt (line 8)) (5.3.5)\n",
            "Requirement already satisfied: ghapi in /usr/local/lib/python3.7/dist-packages (from nbdev>=0.2.38->fastbook->-r https://raw.githubusercontent.com/iniestaserranoalberto/NLP/main/requirements.txt (line 8)) (0.1.17)\n",
            "Requirement already satisfied: jupyter in /usr/local/lib/python3.7/dist-packages (from nbdev>=0.2.38->fastbook->-r https://raw.githubusercontent.com/iniestaserranoalberto/NLP/main/requirements.txt (line 8)) (1.0.0)\n",
            "Requirement already satisfied: ipykernel in /usr/local/lib/python3.7/dist-packages (from nbdev>=0.2.38->fastbook->-r https://raw.githubusercontent.com/iniestaserranoalberto/NLP/main/requirements.txt (line 8)) (4.10.1)\n",
            "Requirement already satisfied: nbformat>=4.4.0 in /usr/local/lib/python3.7/dist-packages (from nbdev>=0.2.38->fastbook->-r https://raw.githubusercontent.com/iniestaserranoalberto/NLP/main/requirements.txt (line 8)) (5.1.3)\n",
            "Requirement already satisfied: fastrelease in /usr/local/lib/python3.7/dist-packages (from nbdev>=0.2.38->fastbook->-r https://raw.githubusercontent.com/iniestaserranoalberto/NLP/main/requirements.txt (line 8)) (0.1.11)\n",
            "Requirement already satisfied: jupyterlab-widgets>=1.0.0; python_version >= \"3.6\" in /usr/local/lib/python3.7/dist-packages (from ipywidgets->fastbook->-r https://raw.githubusercontent.com/iniestaserranoalberto/NLP/main/requirements.txt (line 8)) (1.0.0)\n",
            "Requirement already satisfied: traitlets>=4.3.1 in /usr/local/lib/python3.7/dist-packages (from ipywidgets->fastbook->-r https://raw.githubusercontent.com/iniestaserranoalberto/NLP/main/requirements.txt (line 8)) (5.0.5)\n",
            "Requirement already satisfied: widgetsnbextension~=3.5.0 in /usr/local/lib/python3.7/dist-packages (from ipywidgets->fastbook->-r https://raw.githubusercontent.com/iniestaserranoalberto/NLP/main/requirements.txt (line 8)) (3.5.1)\n",
            "Requirement already satisfied: google-auth-oauthlib<0.5,>=0.4.1 in /usr/local/lib/python3.7/dist-packages (from tensorboard~=2.5->tensorflow_gpu>=2.0->-r https://raw.githubusercontent.com/iniestaserranoalberto/NLP/main/requirements.txt (line 10)) (0.4.4)\n",
            "Requirement already satisfied: google-auth<2,>=1.6.3 in /usr/local/lib/python3.7/dist-packages (from tensorboard~=2.5->tensorflow_gpu>=2.0->-r https://raw.githubusercontent.com/iniestaserranoalberto/NLP/main/requirements.txt (line 10)) (1.30.0)\n",
            "Requirement already satisfied: tensorboard-data-server<0.7.0,>=0.6.0 in /usr/local/lib/python3.7/dist-packages (from tensorboard~=2.5->tensorflow_gpu>=2.0->-r https://raw.githubusercontent.com/iniestaserranoalberto/NLP/main/requirements.txt (line 10)) (0.6.1)\n",
            "Requirement already satisfied: tensorboard-plugin-wit>=1.6.0 in /usr/local/lib/python3.7/dist-packages (from tensorboard~=2.5->tensorflow_gpu>=2.0->-r https://raw.githubusercontent.com/iniestaserranoalberto/NLP/main/requirements.txt (line 10)) (1.8.0)\n",
            "Requirement already satisfied: markdown>=2.6.8 in /usr/local/lib/python3.7/dist-packages (from tensorboard~=2.5->tensorflow_gpu>=2.0->-r https://raw.githubusercontent.com/iniestaserranoalberto/NLP/main/requirements.txt (line 10)) (3.3.4)\n",
            "Requirement already satisfied: werkzeug>=0.11.15 in /usr/local/lib/python3.7/dist-packages (from tensorboard~=2.5->tensorflow_gpu>=2.0->-r https://raw.githubusercontent.com/iniestaserranoalberto/NLP/main/requirements.txt (line 10)) (1.0.1)\n",
            "Requirement already satisfied: cached-property; python_version < \"3.8\" in /usr/local/lib/python3.7/dist-packages (from h5py~=3.1.0->tensorflow_gpu>=2.0->-r https://raw.githubusercontent.com/iniestaserranoalberto/NLP/main/requirements.txt (line 10)) (1.5.2)\n",
            "Requirement already satisfied: Keras>=2.2.4 in /usr/local/lib/python3.7/dist-packages (from seqeval==0.0.19->ktrain->-r https://raw.githubusercontent.com/iniestaserranoalberto/NLP/main/requirements.txt (line 11)) (2.4.3)\n",
            "Requirement already satisfied: keras-transformer>=0.38.0 in /usr/local/lib/python3.7/dist-packages (from keras-bert>=0.86.0->ktrain->-r https://raw.githubusercontent.com/iniestaserranoalberto/NLP/main/requirements.txt (line 11)) (0.38.0)\n",
            "Requirement already satisfied: simplegeneric>0.8 in /usr/local/lib/python3.7/dist-packages (from ipython->ktrain->-r https://raw.githubusercontent.com/iniestaserranoalberto/NLP/main/requirements.txt (line 11)) (0.8.1)\n",
            "Requirement already satisfied: pygments in /usr/local/lib/python3.7/dist-packages (from ipython->ktrain->-r https://raw.githubusercontent.com/iniestaserranoalberto/NLP/main/requirements.txt (line 11)) (2.6.1)\n",
            "Requirement already satisfied: pexpect; sys_platform != \"win32\" in /usr/local/lib/python3.7/dist-packages (from ipython->ktrain->-r https://raw.githubusercontent.com/iniestaserranoalberto/NLP/main/requirements.txt (line 11)) (4.8.0)\n",
            "Requirement already satisfied: prompt-toolkit<2.0.0,>=1.0.4 in /usr/local/lib/python3.7/dist-packages (from ipython->ktrain->-r https://raw.githubusercontent.com/iniestaserranoalberto/NLP/main/requirements.txt (line 11)) (1.0.18)\n",
            "Requirement already satisfied: pickleshare in /usr/local/lib/python3.7/dist-packages (from ipython->ktrain->-r https://raw.githubusercontent.com/iniestaserranoalberto/NLP/main/requirements.txt (line 11)) (0.7.5)\n",
            "Requirement already satisfied: click in /usr/local/lib/python3.7/dist-packages (from sacremoses->transformers->-r https://raw.githubusercontent.com/iniestaserranoalberto/NLP/main/requirements.txt (line 15)) (7.1.2)\n",
            "Requirement already satisfied: zipp>=0.5 in /usr/local/lib/python3.7/dist-packages (from importlib-metadata; python_version < \"3.8\"->transformers->-r https://raw.githubusercontent.com/iniestaserranoalberto/NLP/main/requirements.txt (line 15)) (3.4.1)\n",
            "Requirement already satisfied: pandocfilters>=1.4.1 in /usr/local/lib/python3.7/dist-packages (from nbconvert<6->nbdev>=0.2.38->fastbook->-r https://raw.githubusercontent.com/iniestaserranoalberto/NLP/main/requirements.txt (line 8)) (1.4.3)\n",
            "Requirement already satisfied: testpath in /usr/local/lib/python3.7/dist-packages (from nbconvert<6->nbdev>=0.2.38->fastbook->-r https://raw.githubusercontent.com/iniestaserranoalberto/NLP/main/requirements.txt (line 8)) (0.5.0)\n",
            "Requirement already satisfied: bleach in /usr/local/lib/python3.7/dist-packages (from nbconvert<6->nbdev>=0.2.38->fastbook->-r https://raw.githubusercontent.com/iniestaserranoalberto/NLP/main/requirements.txt (line 8)) (3.3.0)\n",
            "Requirement already satisfied: mistune<2,>=0.8.1 in /usr/local/lib/python3.7/dist-packages (from nbconvert<6->nbdev>=0.2.38->fastbook->-r https://raw.githubusercontent.com/iniestaserranoalberto/NLP/main/requirements.txt (line 8)) (0.8.4)\n",
            "Requirement already satisfied: jupyter-core in /usr/local/lib/python3.7/dist-packages (from nbconvert<6->nbdev>=0.2.38->fastbook->-r https://raw.githubusercontent.com/iniestaserranoalberto/NLP/main/requirements.txt (line 8)) (4.7.1)\n",
            "Requirement already satisfied: entrypoints>=0.2.2 in /usr/local/lib/python3.7/dist-packages (from nbconvert<6->nbdev>=0.2.38->fastbook->-r https://raw.githubusercontent.com/iniestaserranoalberto/NLP/main/requirements.txt (line 8)) (0.3)\n",
            "Requirement already satisfied: defusedxml in /usr/local/lib/python3.7/dist-packages (from nbconvert<6->nbdev>=0.2.38->fastbook->-r https://raw.githubusercontent.com/iniestaserranoalberto/NLP/main/requirements.txt (line 8)) (0.7.1)\n",
            "Requirement already satisfied: tornado>=4.1 in /usr/local/lib/python3.7/dist-packages (from jupyter-client<=6.1.12->nbdev>=0.2.38->fastbook->-r https://raw.githubusercontent.com/iniestaserranoalberto/NLP/main/requirements.txt (line 8)) (5.1.1)\n",
            "Requirement already satisfied: pyzmq>=13 in /usr/local/lib/python3.7/dist-packages (from jupyter-client<=6.1.12->nbdev>=0.2.38->fastbook->-r https://raw.githubusercontent.com/iniestaserranoalberto/NLP/main/requirements.txt (line 8)) (22.0.3)\n",
            "Requirement already satisfied: notebook in /usr/local/lib/python3.7/dist-packages (from jupyter->nbdev>=0.2.38->fastbook->-r https://raw.githubusercontent.com/iniestaserranoalberto/NLP/main/requirements.txt (line 8)) (5.3.1)\n",
            "Requirement already satisfied: qtconsole in /usr/local/lib/python3.7/dist-packages (from jupyter->nbdev>=0.2.38->fastbook->-r https://raw.githubusercontent.com/iniestaserranoalberto/NLP/main/requirements.txt (line 8)) (5.1.0)\n",
            "Requirement already satisfied: jupyter-console in /usr/local/lib/python3.7/dist-packages (from jupyter->nbdev>=0.2.38->fastbook->-r https://raw.githubusercontent.com/iniestaserranoalberto/NLP/main/requirements.txt (line 8)) (5.2.0)\n",
            "Requirement already satisfied: ipython-genutils in /usr/local/lib/python3.7/dist-packages (from nbformat>=4.4.0->nbdev>=0.2.38->fastbook->-r https://raw.githubusercontent.com/iniestaserranoalberto/NLP/main/requirements.txt (line 8)) (0.2.0)\n",
            "Requirement already satisfied: jsonschema!=2.5.0,>=2.4 in /usr/local/lib/python3.7/dist-packages (from nbformat>=4.4.0->nbdev>=0.2.38->fastbook->-r https://raw.githubusercontent.com/iniestaserranoalberto/NLP/main/requirements.txt (line 8)) (2.6.0)\n",
            "Requirement already satisfied: requests-oauthlib>=0.7.0 in /usr/local/lib/python3.7/dist-packages (from google-auth-oauthlib<0.5,>=0.4.1->tensorboard~=2.5->tensorflow_gpu>=2.0->-r https://raw.githubusercontent.com/iniestaserranoalberto/NLP/main/requirements.txt (line 10)) (1.3.0)\n",
            "Requirement already satisfied: cachetools<5.0,>=2.0.0 in /usr/local/lib/python3.7/dist-packages (from google-auth<2,>=1.6.3->tensorboard~=2.5->tensorflow_gpu>=2.0->-r https://raw.githubusercontent.com/iniestaserranoalberto/NLP/main/requirements.txt (line 10)) (4.2.2)\n",
            "Requirement already satisfied: pyasn1-modules>=0.2.1 in /usr/local/lib/python3.7/dist-packages (from google-auth<2,>=1.6.3->tensorboard~=2.5->tensorflow_gpu>=2.0->-r https://raw.githubusercontent.com/iniestaserranoalberto/NLP/main/requirements.txt (line 10)) (0.2.8)\n",
            "Requirement already satisfied: rsa<5,>=3.1.4; python_version >= \"3.6\" in /usr/local/lib/python3.7/dist-packages (from google-auth<2,>=1.6.3->tensorboard~=2.5->tensorflow_gpu>=2.0->-r https://raw.githubusercontent.com/iniestaserranoalberto/NLP/main/requirements.txt (line 10)) (4.7.2)\n",
            "Requirement already satisfied: keras-embed-sim>=0.8.0 in /usr/local/lib/python3.7/dist-packages (from keras-transformer>=0.38.0->keras-bert>=0.86.0->ktrain->-r https://raw.githubusercontent.com/iniestaserranoalberto/NLP/main/requirements.txt (line 11)) (0.8.0)\n",
            "Requirement already satisfied: keras-position-wise-feed-forward>=0.6.0 in /usr/local/lib/python3.7/dist-packages (from keras-transformer>=0.38.0->keras-bert>=0.86.0->ktrain->-r https://raw.githubusercontent.com/iniestaserranoalberto/NLP/main/requirements.txt (line 11)) (0.6.0)\n",
            "Requirement already satisfied: keras-layer-normalization>=0.14.0 in /usr/local/lib/python3.7/dist-packages (from keras-transformer>=0.38.0->keras-bert>=0.86.0->ktrain->-r https://raw.githubusercontent.com/iniestaserranoalberto/NLP/main/requirements.txt (line 11)) (0.14.0)\n",
            "Requirement already satisfied: keras-pos-embd>=0.11.0 in /usr/local/lib/python3.7/dist-packages (from keras-transformer>=0.38.0->keras-bert>=0.86.0->ktrain->-r https://raw.githubusercontent.com/iniestaserranoalberto/NLP/main/requirements.txt (line 11)) (0.11.0)\n",
            "Requirement already satisfied: keras-multi-head>=0.27.0 in /usr/local/lib/python3.7/dist-packages (from keras-transformer>=0.38.0->keras-bert>=0.86.0->ktrain->-r https://raw.githubusercontent.com/iniestaserranoalberto/NLP/main/requirements.txt (line 11)) (0.27.0)\n",
            "Requirement already satisfied: ptyprocess>=0.5 in /usr/local/lib/python3.7/dist-packages (from pexpect; sys_platform != \"win32\"->ipython->ktrain->-r https://raw.githubusercontent.com/iniestaserranoalberto/NLP/main/requirements.txt (line 11)) (0.7.0)\n",
            "Requirement already satisfied: wcwidth in /usr/local/lib/python3.7/dist-packages (from prompt-toolkit<2.0.0,>=1.0.4->ipython->ktrain->-r https://raw.githubusercontent.com/iniestaserranoalberto/NLP/main/requirements.txt (line 11)) (0.2.5)\n",
            "Requirement already satisfied: webencodings in /usr/local/lib/python3.7/dist-packages (from bleach->nbconvert<6->nbdev>=0.2.38->fastbook->-r https://raw.githubusercontent.com/iniestaserranoalberto/NLP/main/requirements.txt (line 8)) (0.5.1)\n",
            "Requirement already satisfied: Send2Trash in /usr/local/lib/python3.7/dist-packages (from notebook->jupyter->nbdev>=0.2.38->fastbook->-r https://raw.githubusercontent.com/iniestaserranoalberto/NLP/main/requirements.txt (line 8)) (1.5.0)\n",
            "Requirement already satisfied: terminado>=0.8.1 in /usr/local/lib/python3.7/dist-packages (from notebook->jupyter->nbdev>=0.2.38->fastbook->-r https://raw.githubusercontent.com/iniestaserranoalberto/NLP/main/requirements.txt (line 8)) (0.10.0)\n",
            "Requirement already satisfied: qtpy in /usr/local/lib/python3.7/dist-packages (from qtconsole->jupyter->nbdev>=0.2.38->fastbook->-r https://raw.githubusercontent.com/iniestaserranoalberto/NLP/main/requirements.txt (line 8)) (1.9.0)\n",
            "Requirement already satisfied: oauthlib>=3.0.0 in /usr/local/lib/python3.7/dist-packages (from requests-oauthlib>=0.7.0->google-auth-oauthlib<0.5,>=0.4.1->tensorboard~=2.5->tensorflow_gpu>=2.0->-r https://raw.githubusercontent.com/iniestaserranoalberto/NLP/main/requirements.txt (line 10)) (3.1.0)\n",
            "Requirement already satisfied: pyasn1<0.5.0,>=0.4.6 in /usr/local/lib/python3.7/dist-packages (from pyasn1-modules>=0.2.1->google-auth<2,>=1.6.3->tensorboard~=2.5->tensorflow_gpu>=2.0->-r https://raw.githubusercontent.com/iniestaserranoalberto/NLP/main/requirements.txt (line 10)) (0.4.8)\n",
            "Requirement already satisfied: keras-self-attention==0.46.0 in /usr/local/lib/python3.7/dist-packages (from keras-multi-head>=0.27.0->keras-transformer>=0.38.0->keras-bert>=0.86.0->ktrain->-r https://raw.githubusercontent.com/iniestaserranoalberto/NLP/main/requirements.txt (line 11)) (0.46.0)\n",
            "Building wheels for collected packages: eli5, stellargraph\n",
            "  Building wheel for eli5 (setup.py) ... \u001b[?25l\u001b[?25hdone\n",
            "  Created wheel for eli5: filename=eli5-0.10.1-py2.py3-none-any.whl size=106850 sha256=7c6494ccb59dd6c5f1702d9f9801adf2587025a7bacd443d7de8ad54874a9cc0\n",
            "  Stored in directory: /tmp/pip-ephem-wheel-cache-c4oosl75/wheels/51/59/0a/0f48442b8d209583a4453580938d7ba2270aca40edacee6d45\n",
            "  Building wheel for stellargraph (setup.py) ... \u001b[?25l\u001b[?25hdone\n",
            "  Created wheel for stellargraph: filename=stellargraph-0.8.2-cp37-none-any.whl size=146391 sha256=a41a8c3f37421c177e67a306ef705e1fd68b86155309efa9499c0e1e7babc9a0\n",
            "  Stored in directory: /tmp/pip-ephem-wheel-cache-c4oosl75/wheels/29/6d/9d/505e95c414d36910e5c319ce9e63dc641973b2c6a2e2e16044\n",
            "Successfully built eli5 stellargraph\n"
          ],
          "name": "stdout"
        }
      ]
    },
    {
      "cell_type": "code",
      "metadata": {
        "colab": {
          "base_uri": "https://localhost:8080/",
          "height": 52
        },
        "id": "5RVuaj0Laor2",
        "outputId": "1140f015-0218-4348-87af-1cd09f7f9947"
      },
      "source": [
        "from IPython.core.display import display, HTML\n",
        "\n",
        "display(HTML(\"<style>.container { width:100% !important; }</style>\")) # Increase cell width\n",
        "display(HTML(\"<style>.rendered_html { font-size: 16px; }</style>\")) # Increase font size\n",
        "\n",
        "# Matplotlib conf\n",
        "import matplotlib.pyplot as plt\n",
        "%matplotlib inline\n",
        "\n",
        "# Seaborn conf\n",
        "import seaborn as sns\n",
        "sns.set_palette(sns.color_palette(\"seismic\"))\n",
        "\n",
        "import sys\n",
        "\n",
        "import pandas as pd\n",
        "import numpy as np\n",
        "import operator\n",
        "import string\n",
        "import nltk\n",
        "import os\n",
        "\n",
        "import regex\n",
        "from nltk.corpus import stopwords \n",
        "from nltk.tokenize import WordPunctTokenizer\n",
        "from string import punctuation\n",
        "from nltk.stem import WordNetLemmatizer\n",
        "from nltk import wordnet\n",
        "\n",
        "nltk.download('stopwords')\n",
        "\n",
        "from collections import Counter\n",
        "\n",
        "from sklearn.datasets import fetch_20newsgroups\n",
        "\n",
        "from sklearn.model_selection import train_test_split, RandomizedSearchCV\n",
        "from sklearn.feature_extraction.text import CountVectorizer, TfidfTransformer, TfidfVectorizer\n",
        "\n",
        "from sklearn.metrics import classification_report, accuracy_score, confusion_matrix \n",
        "from sklearn.metrics import confusion_matrix\n",
        "\n",
        "from sklearn.naive_bayes import MultinomialNB\n",
        "from sklearn.tree import DecisionTreeClassifier\n",
        "from sklearn.neighbors import KNeighborsClassifier"
      ],
      "execution_count": 2,
      "outputs": [
        {
          "output_type": "display_data",
          "data": {
            "text/html": [
              "<style>.container { width:100% !important; }</style>"
            ],
            "text/plain": [
              "<IPython.core.display.HTML object>"
            ]
          },
          "metadata": {
            "tags": []
          }
        },
        {
          "output_type": "display_data",
          "data": {
            "text/html": [
              "<style>.rendered_html { font-size: 16px; }</style>"
            ],
            "text/plain": [
              "<IPython.core.display.HTML object>"
            ]
          },
          "metadata": {
            "tags": []
          }
        },
        {
          "output_type": "stream",
          "text": [
            "[nltk_data] Downloading package stopwords to /root/nltk_data...\n",
            "[nltk_data]   Package stopwords is already up-to-date!\n"
          ],
          "name": "stdout"
        }
      ]
    },
    {
      "cell_type": "markdown",
      "metadata": {
        "id": "zwkz3L33aor3"
      },
      "source": [
        "# Import of 20news groups train dataset"
      ]
    },
    {
      "cell_type": "markdown",
      "metadata": {
        "id": "sQC7Lsy0BE4R"
      },
      "source": [
        "Import of 20news train dataset from sklearn.datasets. "
      ]
    },
    {
      "cell_type": "code",
      "metadata": {
        "id": "Xfw6Xvc2aor3"
      },
      "source": [
        "from sklearn.datasets import fetch_20newsgroups\n",
        "\n",
        "dataset = fetch_20newsgroups(subset='train',remove=('headers', 'footers', 'quotes'), shuffle=True, random_state=42)\n",
        "training_df = pd.DataFrame()\n",
        "training_df['Text'] = dataset.data\n",
        "training_df['source'] = dataset.target\n",
        "label=[]\n",
        "for i in training_df['source']:\n",
        "    label.append(dataset.target_names[i])\n",
        "training_df['Class']=label"
      ],
      "execution_count": 3,
      "outputs": []
    },
    {
      "cell_type": "code",
      "metadata": {
        "colab": {
          "base_uri": "https://localhost:8080/",
          "height": 202
        },
        "id": "oG0ayL5Vaor3",
        "outputId": "424dd2d6-4f31-4d2c-c1d4-cead6dd2cb6d"
      },
      "source": [
        "training_df.head()"
      ],
      "execution_count": 4,
      "outputs": [
        {
          "output_type": "execute_result",
          "data": {
            "text/html": [
              "<div>\n",
              "<style scoped>\n",
              "    .dataframe tbody tr th:only-of-type {\n",
              "        vertical-align: middle;\n",
              "    }\n",
              "\n",
              "    .dataframe tbody tr th {\n",
              "        vertical-align: top;\n",
              "    }\n",
              "\n",
              "    .dataframe thead th {\n",
              "        text-align: right;\n",
              "    }\n",
              "</style>\n",
              "<table border=\"1\" class=\"dataframe\">\n",
              "  <thead>\n",
              "    <tr style=\"text-align: right;\">\n",
              "      <th></th>\n",
              "      <th>Text</th>\n",
              "      <th>source</th>\n",
              "      <th>Class</th>\n",
              "    </tr>\n",
              "  </thead>\n",
              "  <tbody>\n",
              "    <tr>\n",
              "      <th>0</th>\n",
              "      <td>I was wondering if anyone out there could enli...</td>\n",
              "      <td>7</td>\n",
              "      <td>rec.autos</td>\n",
              "    </tr>\n",
              "    <tr>\n",
              "      <th>1</th>\n",
              "      <td>A fair number of brave souls who upgraded thei...</td>\n",
              "      <td>4</td>\n",
              "      <td>comp.sys.mac.hardware</td>\n",
              "    </tr>\n",
              "    <tr>\n",
              "      <th>2</th>\n",
              "      <td>well folks, my mac plus finally gave up the gh...</td>\n",
              "      <td>4</td>\n",
              "      <td>comp.sys.mac.hardware</td>\n",
              "    </tr>\n",
              "    <tr>\n",
              "      <th>3</th>\n",
              "      <td>\\nDo you have Weitek's address/phone number?  ...</td>\n",
              "      <td>1</td>\n",
              "      <td>comp.graphics</td>\n",
              "    </tr>\n",
              "    <tr>\n",
              "      <th>4</th>\n",
              "      <td>From article &lt;C5owCB.n3p@world.std.com&gt;, by to...</td>\n",
              "      <td>14</td>\n",
              "      <td>sci.space</td>\n",
              "    </tr>\n",
              "  </tbody>\n",
              "</table>\n",
              "</div>"
            ],
            "text/plain": [
              "                                                Text  ...                  Class\n",
              "0  I was wondering if anyone out there could enli...  ...              rec.autos\n",
              "1  A fair number of brave souls who upgraded thei...  ...  comp.sys.mac.hardware\n",
              "2  well folks, my mac plus finally gave up the gh...  ...  comp.sys.mac.hardware\n",
              "3  \\nDo you have Weitek's address/phone number?  ...  ...          comp.graphics\n",
              "4  From article <C5owCB.n3p@world.std.com>, by to...  ...              sci.space\n",
              "\n",
              "[5 rows x 3 columns]"
            ]
          },
          "metadata": {
            "tags": []
          },
          "execution_count": 4
        }
      ]
    },
    {
      "cell_type": "code",
      "metadata": {
        "id": "aE_3SCODaor4"
      },
      "source": [
        "training_df.drop(['source'],axis=1,inplace=True)"
      ],
      "execution_count": 5,
      "outputs": []
    },
    {
      "cell_type": "markdown",
      "metadata": {
        "id": "gxc5kUA9BImu"
      },
      "source": [
        "There is a total of 20 categories in the train dataset."
      ]
    },
    {
      "cell_type": "code",
      "metadata": {
        "colab": {
          "base_uri": "https://localhost:8080/"
        },
        "id": "9LzV97dTaor5",
        "outputId": "c8c49aed-4ade-4ef6-a13d-72f8ed6c1836"
      },
      "source": [
        "training_df['Class'].value_counts()"
      ],
      "execution_count": 6,
      "outputs": [
        {
          "output_type": "execute_result",
          "data": {
            "text/plain": [
              "rec.sport.hockey            600\n",
              "soc.religion.christian      599\n",
              "rec.motorcycles             598\n",
              "rec.sport.baseball          597\n",
              "sci.crypt                   595\n",
              "rec.autos                   594\n",
              "sci.med                     594\n",
              "comp.windows.x              593\n",
              "sci.space                   593\n",
              "sci.electronics             591\n",
              "comp.os.ms-windows.misc     591\n",
              "comp.sys.ibm.pc.hardware    590\n",
              "misc.forsale                585\n",
              "comp.graphics               584\n",
              "comp.sys.mac.hardware       578\n",
              "talk.politics.mideast       564\n",
              "talk.politics.guns          546\n",
              "alt.atheism                 480\n",
              "talk.politics.misc          465\n",
              "talk.religion.misc          377\n",
              "Name: Class, dtype: int64"
            ]
          },
          "metadata": {
            "tags": []
          },
          "execution_count": 6
        }
      ]
    },
    {
      "cell_type": "markdown",
      "metadata": {
        "id": "0fNyqTmGBNML"
      },
      "source": [
        "In the next step some of the categories are combined together as simplification purposes."
      ]
    },
    {
      "cell_type": "code",
      "metadata": {
        "id": "HKrPtEDPaor5"
      },
      "source": [
        "training_df['Class'].replace({'talk.politics.misc':'politics','talk.politics.guns':'politics',\n",
        "                     'talk.politics.mideast':'politics'},inplace=True)\n",
        "                    \n",
        "# replace to sport\n",
        "training_df['Class'].replace({'rec.sport.hockey':'sport','rec.sport.baseball':'sport'},inplace=True)\n",
        "                    \n",
        "# replace to religion\n",
        "training_df['Class'].replace({'soc.religion.christian':'religion','talk.religion.misc':'religion','alt.atheism':'religion'},inplace=True)\n",
        "                    \n",
        "# replace to computer\n",
        "training_df['Class'].replace({'comp.windows.x':'computer','comp.sys.ibm.pc.hardware':'computer',\n",
        "                    'comp.os.ms-windows.misc':'computer','comp.graphics':'computer',\n",
        "                    'comp.sys.mac.hardware':'computer'},inplace=True)  \n",
        "# replace to sales\n",
        "training_df['Class'].replace({'misc.forsale':'sales'},inplace=True)\n",
        "\n",
        "# replace to automobile\n",
        "training_df['Class'].replace({'rec.autos':'automobile','rec.motorcycles':'automobile'},inplace=True)\n",
        "\n",
        "# replace to science\n",
        "training_df['Class'].replace({'sci.crypt':'science','sci.electronics':'science','sci.space':'science','sci.med':'medicine'},inplace=True)\n",
        "\n",
        "# replace to medicine\n",
        "training_df['Class'].replace({'sci.med':'medicine'},inplace=True)"
      ],
      "execution_count": 7,
      "outputs": []
    },
    {
      "cell_type": "code",
      "metadata": {
        "colab": {
          "base_uri": "https://localhost:8080/"
        },
        "id": "-IlQ208Caor5",
        "outputId": "68d9fcfb-5043-48a8-e657-49d067c516f1"
      },
      "source": [
        "training_df['Class'].nunique()"
      ],
      "execution_count": 8,
      "outputs": [
        {
          "output_type": "execute_result",
          "data": {
            "text/plain": [
              "8"
            ]
          },
          "metadata": {
            "tags": []
          },
          "execution_count": 8
        }
      ]
    },
    {
      "cell_type": "code",
      "metadata": {
        "colab": {
          "base_uri": "https://localhost:8080/"
        },
        "id": "0XI66tc-aor6",
        "outputId": "2a521d34-99ca-4177-e8e5-d226e8a0a342"
      },
      "source": [
        "training_df['Class'].value_counts()"
      ],
      "execution_count": 9,
      "outputs": [
        {
          "output_type": "execute_result",
          "data": {
            "text/plain": [
              "computer      2936\n",
              "science       1779\n",
              "politics      1575\n",
              "religion      1456\n",
              "sport         1197\n",
              "automobile    1192\n",
              "medicine       594\n",
              "sales          585\n",
              "Name: Class, dtype: int64"
            ]
          },
          "metadata": {
            "tags": []
          },
          "execution_count": 9
        }
      ]
    },
    {
      "cell_type": "code",
      "metadata": {
        "id": "vyteV5l5aor7"
      },
      "source": [
        "training_df = training_df[training_df['Class'].isin(['religion', 'automobile', 'medicine','sport'] )]"
      ],
      "execution_count": 10,
      "outputs": []
    },
    {
      "cell_type": "code",
      "metadata": {
        "colab": {
          "base_uri": "https://localhost:8080/",
          "height": 202
        },
        "id": "eR16C_7Zaor8",
        "outputId": "940a4af5-a568-4eb9-efef-4179cf809fe5"
      },
      "source": [
        "training_df['words_count'] = training_df['Text'].apply(lambda x:len(str(x).split()))\n",
        "training_df.head()"
      ],
      "execution_count": 11,
      "outputs": [
        {
          "output_type": "execute_result",
          "data": {
            "text/html": [
              "<div>\n",
              "<style scoped>\n",
              "    .dataframe tbody tr th:only-of-type {\n",
              "        vertical-align: middle;\n",
              "    }\n",
              "\n",
              "    .dataframe tbody tr th {\n",
              "        vertical-align: top;\n",
              "    }\n",
              "\n",
              "    .dataframe thead th {\n",
              "        text-align: right;\n",
              "    }\n",
              "</style>\n",
              "<table border=\"1\" class=\"dataframe\">\n",
              "  <thead>\n",
              "    <tr style=\"text-align: right;\">\n",
              "      <th></th>\n",
              "      <th>Text</th>\n",
              "      <th>Class</th>\n",
              "      <th>words_count</th>\n",
              "    </tr>\n",
              "  </thead>\n",
              "  <tbody>\n",
              "    <tr>\n",
              "      <th>0</th>\n",
              "      <td>I was wondering if anyone out there could enli...</td>\n",
              "      <td>automobile</td>\n",
              "      <td>91</td>\n",
              "    </tr>\n",
              "    <tr>\n",
              "      <th>6</th>\n",
              "      <td>There were a few people who responded to my re...</td>\n",
              "      <td>medicine</td>\n",
              "      <td>63</td>\n",
              "    </tr>\n",
              "    <tr>\n",
              "      <th>10</th>\n",
              "      <td>I have a line on a Ducati 900GTS 1978 model wi...</td>\n",
              "      <td>automobile</td>\n",
              "      <td>108</td>\n",
              "    </tr>\n",
              "    <tr>\n",
              "      <th>11</th>\n",
              "      <td>\\nYep, that's pretty much it. I'm not a Jew bu...</td>\n",
              "      <td>religion</td>\n",
              "      <td>472</td>\n",
              "    </tr>\n",
              "    <tr>\n",
              "      <th>15</th>\n",
              "      <td>\\nDon't be so sure.  Look what happened to Jap...</td>\n",
              "      <td>religion</td>\n",
              "      <td>94</td>\n",
              "    </tr>\n",
              "  </tbody>\n",
              "</table>\n",
              "</div>"
            ],
            "text/plain": [
              "                                                 Text       Class  words_count\n",
              "0   I was wondering if anyone out there could enli...  automobile           91\n",
              "6   There were a few people who responded to my re...    medicine           63\n",
              "10  I have a line on a Ducati 900GTS 1978 model wi...  automobile          108\n",
              "11  \\nYep, that's pretty much it. I'm not a Jew bu...    religion          472\n",
              "15  \\nDon't be so sure.  Look what happened to Jap...    religion           94"
            ]
          },
          "metadata": {
            "tags": []
          },
          "execution_count": 11
        }
      ]
    },
    {
      "cell_type": "code",
      "metadata": {
        "colab": {
          "base_uri": "https://localhost:8080/"
        },
        "id": "_F4AToEgaor8",
        "outputId": "a2ba632d-418d-4177-c28c-8a420db7595e"
      },
      "source": [
        "no_text = training_df[training_df['words_count']==0]\n",
        "print(len(no_text))"
      ],
      "execution_count": 12,
      "outputs": [
        {
          "output_type": "stream",
          "text": [
            "136\n"
          ],
          "name": "stdout"
        }
      ]
    },
    {
      "cell_type": "code",
      "metadata": {
        "colab": {
          "base_uri": "https://localhost:8080/"
        },
        "id": "Mi2B4PIpaor8",
        "outputId": "b2825a9e-69b4-4a26-97b2-9bcabdcf1a4e"
      },
      "source": [
        "training_df.drop(no_text.index,inplace=True)\n",
        "print(len(no_text))"
      ],
      "execution_count": 13,
      "outputs": [
        {
          "output_type": "stream",
          "text": [
            "136\n"
          ],
          "name": "stdout"
        }
      ]
    },
    {
      "cell_type": "code",
      "metadata": {
        "colab": {
          "base_uri": "https://localhost:8080/"
        },
        "id": "t7NPjaPmeNOf",
        "outputId": "4cc83305-fdad-4cb8-8e05-cd26cd42fbe7"
      },
      "source": [
        "no_text = training_df[training_df['words_count']==0]\n",
        "print(len(no_text))"
      ],
      "execution_count": 14,
      "outputs": [
        {
          "output_type": "stream",
          "text": [
            "0\n"
          ],
          "name": "stdout"
        }
      ]
    },
    {
      "cell_type": "code",
      "metadata": {
        "colab": {
          "base_uri": "https://localhost:8080/",
          "height": 414
        },
        "id": "RKWLIebraor9",
        "outputId": "5dd587a8-711e-491b-b732-b69b22b4b407"
      },
      "source": [
        "training_df"
      ],
      "execution_count": 15,
      "outputs": [
        {
          "output_type": "execute_result",
          "data": {
            "text/html": [
              "<div>\n",
              "<style scoped>\n",
              "    .dataframe tbody tr th:only-of-type {\n",
              "        vertical-align: middle;\n",
              "    }\n",
              "\n",
              "    .dataframe tbody tr th {\n",
              "        vertical-align: top;\n",
              "    }\n",
              "\n",
              "    .dataframe thead th {\n",
              "        text-align: right;\n",
              "    }\n",
              "</style>\n",
              "<table border=\"1\" class=\"dataframe\">\n",
              "  <thead>\n",
              "    <tr style=\"text-align: right;\">\n",
              "      <th></th>\n",
              "      <th>Text</th>\n",
              "      <th>Class</th>\n",
              "      <th>words_count</th>\n",
              "    </tr>\n",
              "  </thead>\n",
              "  <tbody>\n",
              "    <tr>\n",
              "      <th>0</th>\n",
              "      <td>I was wondering if anyone out there could enli...</td>\n",
              "      <td>automobile</td>\n",
              "      <td>91</td>\n",
              "    </tr>\n",
              "    <tr>\n",
              "      <th>6</th>\n",
              "      <td>There were a few people who responded to my re...</td>\n",
              "      <td>medicine</td>\n",
              "      <td>63</td>\n",
              "    </tr>\n",
              "    <tr>\n",
              "      <th>10</th>\n",
              "      <td>I have a line on a Ducati 900GTS 1978 model wi...</td>\n",
              "      <td>automobile</td>\n",
              "      <td>108</td>\n",
              "    </tr>\n",
              "    <tr>\n",
              "      <th>11</th>\n",
              "      <td>\\nYep, that's pretty much it. I'm not a Jew bu...</td>\n",
              "      <td>religion</td>\n",
              "      <td>472</td>\n",
              "    </tr>\n",
              "    <tr>\n",
              "      <th>15</th>\n",
              "      <td>\\nDon't be so sure.  Look what happened to Jap...</td>\n",
              "      <td>religion</td>\n",
              "      <td>94</td>\n",
              "    </tr>\n",
              "    <tr>\n",
              "      <th>...</th>\n",
              "      <td>...</td>\n",
              "      <td>...</td>\n",
              "      <td>...</td>\n",
              "    </tr>\n",
              "    <tr>\n",
              "      <th>11296</th>\n",
              "      <td>\\n\\n\\n\\n\\n   Anaheim.</td>\n",
              "      <td>sport</td>\n",
              "      <td>1</td>\n",
              "    </tr>\n",
              "    <tr>\n",
              "      <th>11298</th>\n",
              "      <td>After reading some of the reports of possible ...</td>\n",
              "      <td>sport</td>\n",
              "      <td>186</td>\n",
              "    </tr>\n",
              "    <tr>\n",
              "      <th>11300</th>\n",
              "      <td>\\nI am asking you to believe in things not vis...</td>\n",
              "      <td>religion</td>\n",
              "      <td>447</td>\n",
              "    </tr>\n",
              "    <tr>\n",
              "      <th>11309</th>\n",
              "      <td>DN&gt; From: nyeda@cnsvax.uwec.edu (David Nye)\\nD...</td>\n",
              "      <td>medicine</td>\n",
              "      <td>300</td>\n",
              "    </tr>\n",
              "    <tr>\n",
              "      <th>11313</th>\n",
              "      <td>Stolen from Pasadena between 4:30 and 6:30 pm ...</td>\n",
              "      <td>automobile</td>\n",
              "      <td>51</td>\n",
              "    </tr>\n",
              "  </tbody>\n",
              "</table>\n",
              "<p>4303 rows × 3 columns</p>\n",
              "</div>"
            ],
            "text/plain": [
              "                                                    Text  ... words_count\n",
              "0      I was wondering if anyone out there could enli...  ...          91\n",
              "6      There were a few people who responded to my re...  ...          63\n",
              "10     I have a line on a Ducati 900GTS 1978 model wi...  ...         108\n",
              "11     \\nYep, that's pretty much it. I'm not a Jew bu...  ...         472\n",
              "15     \\nDon't be so sure.  Look what happened to Jap...  ...          94\n",
              "...                                                  ...  ...         ...\n",
              "11296                              \\n\\n\\n\\n\\n   Anaheim.  ...           1\n",
              "11298  After reading some of the reports of possible ...  ...         186\n",
              "11300  \\nI am asking you to believe in things not vis...  ...         447\n",
              "11309  DN> From: nyeda@cnsvax.uwec.edu (David Nye)\\nD...  ...         300\n",
              "11313  Stolen from Pasadena between 4:30 and 6:30 pm ...  ...          51\n",
              "\n",
              "[4303 rows x 3 columns]"
            ]
          },
          "metadata": {
            "tags": []
          },
          "execution_count": 15
        }
      ]
    },
    {
      "cell_type": "markdown",
      "metadata": {
        "id": "EQiZ1xMNaor9"
      },
      "source": [
        "# Import of 20news groups test dataset"
      ]
    },
    {
      "cell_type": "markdown",
      "metadata": {
        "id": "lU1-XrzmA8iT"
      },
      "source": [
        "Import of 20news test dataset from sklearn.datasets. "
      ]
    },
    {
      "cell_type": "code",
      "metadata": {
        "id": "-saSp7SMaor9"
      },
      "source": [
        "from sklearn.datasets import fetch_20newsgroups\n",
        "\n",
        "dataset = fetch_20newsgroups(subset='test',remove=('headers', 'footers', 'quotes'), shuffle=True, random_state=42)\n",
        "test_df = pd.DataFrame()\n",
        "test_df['Text'] = dataset.data\n",
        "test_df['source'] = dataset.target\n",
        "label=[]\n",
        "for i in test_df['source']:\n",
        "    label.append(dataset.target_names[i])\n",
        "test_df['Class']=label"
      ],
      "execution_count": 16,
      "outputs": []
    },
    {
      "cell_type": "code",
      "metadata": {
        "colab": {
          "base_uri": "https://localhost:8080/",
          "height": 202
        },
        "id": "X_VlWP7Eaor9",
        "outputId": "1d1107d0-051f-4749-c556-a6d2ee96ea8d"
      },
      "source": [
        "test_df.head()"
      ],
      "execution_count": 17,
      "outputs": [
        {
          "output_type": "execute_result",
          "data": {
            "text/html": [
              "<div>\n",
              "<style scoped>\n",
              "    .dataframe tbody tr th:only-of-type {\n",
              "        vertical-align: middle;\n",
              "    }\n",
              "\n",
              "    .dataframe tbody tr th {\n",
              "        vertical-align: top;\n",
              "    }\n",
              "\n",
              "    .dataframe thead th {\n",
              "        text-align: right;\n",
              "    }\n",
              "</style>\n",
              "<table border=\"1\" class=\"dataframe\">\n",
              "  <thead>\n",
              "    <tr style=\"text-align: right;\">\n",
              "      <th></th>\n",
              "      <th>Text</th>\n",
              "      <th>source</th>\n",
              "      <th>Class</th>\n",
              "    </tr>\n",
              "  </thead>\n",
              "  <tbody>\n",
              "    <tr>\n",
              "      <th>0</th>\n",
              "      <td>I am a little confused on all of the models of...</td>\n",
              "      <td>7</td>\n",
              "      <td>rec.autos</td>\n",
              "    </tr>\n",
              "    <tr>\n",
              "      <th>1</th>\n",
              "      <td>I'm not familiar at all with the format of the...</td>\n",
              "      <td>5</td>\n",
              "      <td>comp.windows.x</td>\n",
              "    </tr>\n",
              "    <tr>\n",
              "      <th>2</th>\n",
              "      <td>\\nIn a word, yes.\\n</td>\n",
              "      <td>0</td>\n",
              "      <td>alt.atheism</td>\n",
              "    </tr>\n",
              "    <tr>\n",
              "      <th>3</th>\n",
              "      <td>\\nThey were attacking the Iraqis to drive them...</td>\n",
              "      <td>17</td>\n",
              "      <td>talk.politics.mideast</td>\n",
              "    </tr>\n",
              "    <tr>\n",
              "      <th>4</th>\n",
              "      <td>\\nI've just spent two solid months arguing tha...</td>\n",
              "      <td>19</td>\n",
              "      <td>talk.religion.misc</td>\n",
              "    </tr>\n",
              "  </tbody>\n",
              "</table>\n",
              "</div>"
            ],
            "text/plain": [
              "                                                Text  ...                  Class\n",
              "0  I am a little confused on all of the models of...  ...              rec.autos\n",
              "1  I'm not familiar at all with the format of the...  ...         comp.windows.x\n",
              "2                                \\nIn a word, yes.\\n  ...            alt.atheism\n",
              "3  \\nThey were attacking the Iraqis to drive them...  ...  talk.politics.mideast\n",
              "4  \\nI've just spent two solid months arguing tha...  ...     talk.religion.misc\n",
              "\n",
              "[5 rows x 3 columns]"
            ]
          },
          "metadata": {
            "tags": []
          },
          "execution_count": 17
        }
      ]
    },
    {
      "cell_type": "code",
      "metadata": {
        "id": "m7Fi89RAaor9"
      },
      "source": [
        "test_df.drop(['source'],axis=1,inplace=True)"
      ],
      "execution_count": 18,
      "outputs": []
    },
    {
      "cell_type": "markdown",
      "metadata": {
        "id": "NgIABIuKBXQp"
      },
      "source": [
        "There is a total of 20 categories in the train dataset."
      ]
    },
    {
      "cell_type": "code",
      "metadata": {
        "colab": {
          "base_uri": "https://localhost:8080/"
        },
        "id": "GAb9sFbLaor-",
        "outputId": "277e0013-7c01-47ca-85a4-2fc508451efc"
      },
      "source": [
        "test_df['Class'].value_counts()"
      ],
      "execution_count": 19,
      "outputs": [
        {
          "output_type": "execute_result",
          "data": {
            "text/plain": [
              "rec.sport.hockey            399\n",
              "rec.motorcycles             398\n",
              "soc.religion.christian      398\n",
              "rec.sport.baseball          397\n",
              "sci.med                     396\n",
              "rec.autos                   396\n",
              "sci.crypt                   396\n",
              "comp.windows.x              395\n",
              "sci.space                   394\n",
              "comp.os.ms-windows.misc     394\n",
              "sci.electronics             393\n",
              "comp.sys.ibm.pc.hardware    392\n",
              "misc.forsale                390\n",
              "comp.graphics               389\n",
              "comp.sys.mac.hardware       385\n",
              "talk.politics.mideast       376\n",
              "talk.politics.guns          364\n",
              "alt.atheism                 319\n",
              "talk.politics.misc          310\n",
              "talk.religion.misc          251\n",
              "Name: Class, dtype: int64"
            ]
          },
          "metadata": {
            "tags": []
          },
          "execution_count": 19
        }
      ]
    },
    {
      "cell_type": "markdown",
      "metadata": {
        "id": "G-Kw-pxRBaYE"
      },
      "source": [
        "In the next step some of the categories are combined together as simplification purposes."
      ]
    },
    {
      "cell_type": "code",
      "metadata": {
        "id": "7Io-VgaQaor-"
      },
      "source": [
        "test_df['Class'].replace({'talk.politics.misc':'politics','talk.politics.guns':'politics',\n",
        "                     'talk.politics.mideast':'politics'},inplace=True)\n",
        "                    \n",
        "# replace to sport\n",
        "test_df['Class'].replace({'rec.sport.hockey':'sport','rec.sport.baseball':'sport'},inplace=True)\n",
        "                    \n",
        "# replace to religion\n",
        "test_df['Class'].replace({'soc.religion.christian':'religion','talk.religion.misc':'religion','alt.atheism':'religion'},inplace=True)\n",
        "                    \n",
        "# replace to computer\n",
        "test_df['Class'].replace({'comp.windows.x':'computer','comp.sys.ibm.pc.hardware':'computer',\n",
        "                    'comp.os.ms-windows.misc':'computer','comp.graphics':'computer',\n",
        "                    'comp.sys.mac.hardware':'computer'},inplace=True)  \n",
        "# replace to sales\n",
        "test_df['Class'].replace({'misc.forsale':'sales'},inplace=True)\n",
        "\n",
        "# replace to automobile\n",
        "test_df['Class'].replace({'rec.autos':'automobile','rec.motorcycles':'automobile'},inplace=True)\n",
        "\n",
        "# replace to science\n",
        "test_df['Class'].replace({'sci.crypt':'science','sci.electronics':'science','sci.space':'science'},inplace=True)\n",
        "\n",
        "# replace to medicine\n",
        "test_df['Class'].replace({'sci.med':'medicine'},inplace=True)"
      ],
      "execution_count": 20,
      "outputs": []
    },
    {
      "cell_type": "code",
      "metadata": {
        "colab": {
          "base_uri": "https://localhost:8080/"
        },
        "id": "eiaq3l8Jaor-",
        "outputId": "0cbdfca4-c3c8-4359-ce5f-e28dae427863"
      },
      "source": [
        "test_df['Class'].nunique()"
      ],
      "execution_count": 21,
      "outputs": [
        {
          "output_type": "execute_result",
          "data": {
            "text/plain": [
              "8"
            ]
          },
          "metadata": {
            "tags": []
          },
          "execution_count": 21
        }
      ]
    },
    {
      "cell_type": "code",
      "metadata": {
        "colab": {
          "base_uri": "https://localhost:8080/"
        },
        "id": "jhYGnfGHaor_",
        "outputId": "453037b6-f5e6-4c7f-cb27-d867a59e929a"
      },
      "source": [
        "test_df['Class'].value_counts()"
      ],
      "execution_count": 22,
      "outputs": [
        {
          "output_type": "execute_result",
          "data": {
            "text/plain": [
              "computer      1955\n",
              "science       1183\n",
              "politics      1050\n",
              "religion       968\n",
              "sport          796\n",
              "automobile     794\n",
              "medicine       396\n",
              "sales          390\n",
              "Name: Class, dtype: int64"
            ]
          },
          "metadata": {
            "tags": []
          },
          "execution_count": 22
        }
      ]
    },
    {
      "cell_type": "code",
      "metadata": {
        "id": "Qxs0kA74aor_"
      },
      "source": [
        "test_df = test_df[test_df['Class'].isin(['religion', 'automobile', 'medicine','sport'] )]"
      ],
      "execution_count": 23,
      "outputs": []
    },
    {
      "cell_type": "code",
      "metadata": {
        "colab": {
          "base_uri": "https://localhost:8080/",
          "height": 202
        },
        "id": "FfSSsh36aor_",
        "outputId": "6266e0e6-eb4a-4bf1-f55e-482b38bb2773"
      },
      "source": [
        "test_df['words_count'] =test_df['Text'].apply(lambda x:len(str(x).split()))\n",
        "test_df.head()"
      ],
      "execution_count": 24,
      "outputs": [
        {
          "output_type": "execute_result",
          "data": {
            "text/html": [
              "<div>\n",
              "<style scoped>\n",
              "    .dataframe tbody tr th:only-of-type {\n",
              "        vertical-align: middle;\n",
              "    }\n",
              "\n",
              "    .dataframe tbody tr th {\n",
              "        vertical-align: top;\n",
              "    }\n",
              "\n",
              "    .dataframe thead th {\n",
              "        text-align: right;\n",
              "    }\n",
              "</style>\n",
              "<table border=\"1\" class=\"dataframe\">\n",
              "  <thead>\n",
              "    <tr style=\"text-align: right;\">\n",
              "      <th></th>\n",
              "      <th>Text</th>\n",
              "      <th>Class</th>\n",
              "      <th>words_count</th>\n",
              "    </tr>\n",
              "  </thead>\n",
              "  <tbody>\n",
              "    <tr>\n",
              "      <th>0</th>\n",
              "      <td>I am a little confused on all of the models of...</td>\n",
              "      <td>automobile</td>\n",
              "      <td>92</td>\n",
              "    </tr>\n",
              "    <tr>\n",
              "      <th>2</th>\n",
              "      <td>\\nIn a word, yes.\\n</td>\n",
              "      <td>religion</td>\n",
              "      <td>4</td>\n",
              "    </tr>\n",
              "    <tr>\n",
              "      <th>4</th>\n",
              "      <td>\\nI've just spent two solid months arguing tha...</td>\n",
              "      <td>religion</td>\n",
              "      <td>17</td>\n",
              "    </tr>\n",
              "    <tr>\n",
              "      <th>5</th>\n",
              "      <td>\\nElisabeth, let's set the record straight for...</td>\n",
              "      <td>medicine</td>\n",
              "      <td>454</td>\n",
              "    </tr>\n",
              "    <tr>\n",
              "      <th>6</th>\n",
              "      <td>Dishonest money dwindles away, but he who gath...</td>\n",
              "      <td>religion</td>\n",
              "      <td>17</td>\n",
              "    </tr>\n",
              "  </tbody>\n",
              "</table>\n",
              "</div>"
            ],
            "text/plain": [
              "                                                Text       Class  words_count\n",
              "0  I am a little confused on all of the models of...  automobile           92\n",
              "2                                \\nIn a word, yes.\\n    religion            4\n",
              "4  \\nI've just spent two solid months arguing tha...    religion           17\n",
              "5  \\nElisabeth, let's set the record straight for...    medicine          454\n",
              "6  Dishonest money dwindles away, but he who gath...    religion           17"
            ]
          },
          "metadata": {
            "tags": []
          },
          "execution_count": 24
        }
      ]
    },
    {
      "cell_type": "code",
      "metadata": {
        "colab": {
          "base_uri": "https://localhost:8080/"
        },
        "id": "LzwFtgZCaor_",
        "outputId": "4d17738b-234a-4e6a-ae11-aafcf6ded12b"
      },
      "source": [
        "no_text = test_df[test_df['words_count']==0]\n",
        "print(len(no_text))"
      ],
      "execution_count": 25,
      "outputs": [
        {
          "output_type": "stream",
          "text": [
            "98\n"
          ],
          "name": "stdout"
        }
      ]
    },
    {
      "cell_type": "code",
      "metadata": {
        "colab": {
          "base_uri": "https://localhost:8080/"
        },
        "id": "ziumxVLYaor_",
        "outputId": "b73b1772-def9-438c-ac58-01f8e34dfc47"
      },
      "source": [
        "test_df.drop(no_text.index,inplace=True)\n",
        "print(len(no_text))"
      ],
      "execution_count": 26,
      "outputs": [
        {
          "output_type": "stream",
          "text": [
            "98\n"
          ],
          "name": "stdout"
        }
      ]
    },
    {
      "cell_type": "code",
      "metadata": {
        "colab": {
          "base_uri": "https://localhost:8080/"
        },
        "id": "QZwwTpcqeYJW",
        "outputId": "2af4728c-040a-4490-8360-35f64eba1541"
      },
      "source": [
        "no_text = training_df[training_df['words_count']==0]\n",
        "print(len(no_text))"
      ],
      "execution_count": 27,
      "outputs": [
        {
          "output_type": "stream",
          "text": [
            "0\n"
          ],
          "name": "stdout"
        }
      ]
    },
    {
      "cell_type": "code",
      "metadata": {
        "colab": {
          "base_uri": "https://localhost:8080/",
          "height": 414
        },
        "id": "RrIDcAU2aor_",
        "outputId": "b7ec7989-ad5e-4617-fdd5-a35499d6decd"
      },
      "source": [
        "test_df"
      ],
      "execution_count": 28,
      "outputs": [
        {
          "output_type": "execute_result",
          "data": {
            "text/html": [
              "<div>\n",
              "<style scoped>\n",
              "    .dataframe tbody tr th:only-of-type {\n",
              "        vertical-align: middle;\n",
              "    }\n",
              "\n",
              "    .dataframe tbody tr th {\n",
              "        vertical-align: top;\n",
              "    }\n",
              "\n",
              "    .dataframe thead th {\n",
              "        text-align: right;\n",
              "    }\n",
              "</style>\n",
              "<table border=\"1\" class=\"dataframe\">\n",
              "  <thead>\n",
              "    <tr style=\"text-align: right;\">\n",
              "      <th></th>\n",
              "      <th>Text</th>\n",
              "      <th>Class</th>\n",
              "      <th>words_count</th>\n",
              "    </tr>\n",
              "  </thead>\n",
              "  <tbody>\n",
              "    <tr>\n",
              "      <th>0</th>\n",
              "      <td>I am a little confused on all of the models of...</td>\n",
              "      <td>automobile</td>\n",
              "      <td>92</td>\n",
              "    </tr>\n",
              "    <tr>\n",
              "      <th>2</th>\n",
              "      <td>\\nIn a word, yes.\\n</td>\n",
              "      <td>religion</td>\n",
              "      <td>4</td>\n",
              "    </tr>\n",
              "    <tr>\n",
              "      <th>4</th>\n",
              "      <td>\\nI've just spent two solid months arguing tha...</td>\n",
              "      <td>religion</td>\n",
              "      <td>17</td>\n",
              "    </tr>\n",
              "    <tr>\n",
              "      <th>5</th>\n",
              "      <td>\\nElisabeth, let's set the record straight for...</td>\n",
              "      <td>medicine</td>\n",
              "      <td>454</td>\n",
              "    </tr>\n",
              "    <tr>\n",
              "      <th>6</th>\n",
              "      <td>Dishonest money dwindles away, but he who gath...</td>\n",
              "      <td>religion</td>\n",
              "      <td>17</td>\n",
              "    </tr>\n",
              "    <tr>\n",
              "      <th>...</th>\n",
              "      <td>...</td>\n",
              "      <td>...</td>\n",
              "      <td>...</td>\n",
              "    </tr>\n",
              "    <tr>\n",
              "      <th>7520</th>\n",
              "      <td>First off, if I'm not mistaken, only hibernati...</td>\n",
              "      <td>medicine</td>\n",
              "      <td>95</td>\n",
              "    </tr>\n",
              "    <tr>\n",
              "      <th>7522</th>\n",
              "      <td>: \\n: &gt;move a little, the pain will be excruti...</td>\n",
              "      <td>medicine</td>\n",
              "      <td>171</td>\n",
              "    </tr>\n",
              "    <tr>\n",
              "      <th>7526</th>\n",
              "      <td>1954 MG-TF with frame-up restoration in early ...</td>\n",
              "      <td>automobile</td>\n",
              "      <td>215</td>\n",
              "    </tr>\n",
              "    <tr>\n",
              "      <th>7529</th>\n",
              "      <td>I sent a version of this post out a while ago,...</td>\n",
              "      <td>sport</td>\n",
              "      <td>125</td>\n",
              "    </tr>\n",
              "    <tr>\n",
              "      <th>7531</th>\n",
              "      <td>\\nFine, but one of the points of this entire d...</td>\n",
              "      <td>religion</td>\n",
              "      <td>67</td>\n",
              "    </tr>\n",
              "  </tbody>\n",
              "</table>\n",
              "<p>2856 rows × 3 columns</p>\n",
              "</div>"
            ],
            "text/plain": [
              "                                                   Text  ... words_count\n",
              "0     I am a little confused on all of the models of...  ...          92\n",
              "2                                   \\nIn a word, yes.\\n  ...           4\n",
              "4     \\nI've just spent two solid months arguing tha...  ...          17\n",
              "5     \\nElisabeth, let's set the record straight for...  ...         454\n",
              "6     Dishonest money dwindles away, but he who gath...  ...          17\n",
              "...                                                 ...  ...         ...\n",
              "7520  First off, if I'm not mistaken, only hibernati...  ...          95\n",
              "7522  : \\n: >move a little, the pain will be excruti...  ...         171\n",
              "7526  1954 MG-TF with frame-up restoration in early ...  ...         215\n",
              "7529  I sent a version of this post out a while ago,...  ...         125\n",
              "7531  \\nFine, but one of the points of this entire d...  ...          67\n",
              "\n",
              "[2856 rows x 3 columns]"
            ]
          },
          "metadata": {
            "tags": []
          },
          "execution_count": 28
        }
      ]
    },
    {
      "cell_type": "markdown",
      "metadata": {
        "id": "vL6fJdKOaosA"
      },
      "source": [
        "# Dataset Analysis"
      ]
    },
    {
      "cell_type": "code",
      "metadata": {
        "colab": {
          "base_uri": "https://localhost:8080/",
          "height": 202
        },
        "id": "FUbJsFBqaosA",
        "outputId": "b01fcec4-993a-4fb8-8443-176dbf92319b"
      },
      "source": [
        "training_df.columns = ['text', 'target','words_count']\n",
        "training_df.head()"
      ],
      "execution_count": 29,
      "outputs": [
        {
          "output_type": "execute_result",
          "data": {
            "text/html": [
              "<div>\n",
              "<style scoped>\n",
              "    .dataframe tbody tr th:only-of-type {\n",
              "        vertical-align: middle;\n",
              "    }\n",
              "\n",
              "    .dataframe tbody tr th {\n",
              "        vertical-align: top;\n",
              "    }\n",
              "\n",
              "    .dataframe thead th {\n",
              "        text-align: right;\n",
              "    }\n",
              "</style>\n",
              "<table border=\"1\" class=\"dataframe\">\n",
              "  <thead>\n",
              "    <tr style=\"text-align: right;\">\n",
              "      <th></th>\n",
              "      <th>text</th>\n",
              "      <th>target</th>\n",
              "      <th>words_count</th>\n",
              "    </tr>\n",
              "  </thead>\n",
              "  <tbody>\n",
              "    <tr>\n",
              "      <th>0</th>\n",
              "      <td>I was wondering if anyone out there could enli...</td>\n",
              "      <td>automobile</td>\n",
              "      <td>91</td>\n",
              "    </tr>\n",
              "    <tr>\n",
              "      <th>6</th>\n",
              "      <td>There were a few people who responded to my re...</td>\n",
              "      <td>medicine</td>\n",
              "      <td>63</td>\n",
              "    </tr>\n",
              "    <tr>\n",
              "      <th>10</th>\n",
              "      <td>I have a line on a Ducati 900GTS 1978 model wi...</td>\n",
              "      <td>automobile</td>\n",
              "      <td>108</td>\n",
              "    </tr>\n",
              "    <tr>\n",
              "      <th>11</th>\n",
              "      <td>\\nYep, that's pretty much it. I'm not a Jew bu...</td>\n",
              "      <td>religion</td>\n",
              "      <td>472</td>\n",
              "    </tr>\n",
              "    <tr>\n",
              "      <th>15</th>\n",
              "      <td>\\nDon't be so sure.  Look what happened to Jap...</td>\n",
              "      <td>religion</td>\n",
              "      <td>94</td>\n",
              "    </tr>\n",
              "  </tbody>\n",
              "</table>\n",
              "</div>"
            ],
            "text/plain": [
              "                                                 text      target  words_count\n",
              "0   I was wondering if anyone out there could enli...  automobile           91\n",
              "6   There were a few people who responded to my re...    medicine           63\n",
              "10  I have a line on a Ducati 900GTS 1978 model wi...  automobile          108\n",
              "11  \\nYep, that's pretty much it. I'm not a Jew bu...    religion          472\n",
              "15  \\nDon't be so sure.  Look what happened to Jap...    religion           94"
            ]
          },
          "metadata": {
            "tags": []
          },
          "execution_count": 29
        }
      ]
    },
    {
      "cell_type": "code",
      "metadata": {
        "colab": {
          "base_uri": "https://localhost:8080/",
          "height": 202
        },
        "id": "XnE0VI00aosA",
        "outputId": "c3216ea0-e240-4125-f41e-3b971c70aa75"
      },
      "source": [
        "test_df.columns = ['text', 'target','words_count']\n",
        "test_df.head()"
      ],
      "execution_count": 30,
      "outputs": [
        {
          "output_type": "execute_result",
          "data": {
            "text/html": [
              "<div>\n",
              "<style scoped>\n",
              "    .dataframe tbody tr th:only-of-type {\n",
              "        vertical-align: middle;\n",
              "    }\n",
              "\n",
              "    .dataframe tbody tr th {\n",
              "        vertical-align: top;\n",
              "    }\n",
              "\n",
              "    .dataframe thead th {\n",
              "        text-align: right;\n",
              "    }\n",
              "</style>\n",
              "<table border=\"1\" class=\"dataframe\">\n",
              "  <thead>\n",
              "    <tr style=\"text-align: right;\">\n",
              "      <th></th>\n",
              "      <th>text</th>\n",
              "      <th>target</th>\n",
              "      <th>words_count</th>\n",
              "    </tr>\n",
              "  </thead>\n",
              "  <tbody>\n",
              "    <tr>\n",
              "      <th>0</th>\n",
              "      <td>I am a little confused on all of the models of...</td>\n",
              "      <td>automobile</td>\n",
              "      <td>92</td>\n",
              "    </tr>\n",
              "    <tr>\n",
              "      <th>2</th>\n",
              "      <td>\\nIn a word, yes.\\n</td>\n",
              "      <td>religion</td>\n",
              "      <td>4</td>\n",
              "    </tr>\n",
              "    <tr>\n",
              "      <th>4</th>\n",
              "      <td>\\nI've just spent two solid months arguing tha...</td>\n",
              "      <td>religion</td>\n",
              "      <td>17</td>\n",
              "    </tr>\n",
              "    <tr>\n",
              "      <th>5</th>\n",
              "      <td>\\nElisabeth, let's set the record straight for...</td>\n",
              "      <td>medicine</td>\n",
              "      <td>454</td>\n",
              "    </tr>\n",
              "    <tr>\n",
              "      <th>6</th>\n",
              "      <td>Dishonest money dwindles away, but he who gath...</td>\n",
              "      <td>religion</td>\n",
              "      <td>17</td>\n",
              "    </tr>\n",
              "  </tbody>\n",
              "</table>\n",
              "</div>"
            ],
            "text/plain": [
              "                                                text      target  words_count\n",
              "0  I am a little confused on all of the models of...  automobile           92\n",
              "2                                \\nIn a word, yes.\\n    religion            4\n",
              "4  \\nI've just spent two solid months arguing tha...    religion           17\n",
              "5  \\nElisabeth, let's set the record straight for...    medicine          454\n",
              "6  Dishonest money dwindles away, but he who gath...    religion           17"
            ]
          },
          "metadata": {
            "tags": []
          },
          "execution_count": 30
        }
      ]
    },
    {
      "cell_type": "markdown",
      "metadata": {
        "id": "KsqPcvb8ApPr"
      },
      "source": [
        "Representation for both train and test count of records. "
      ]
    },
    {
      "cell_type": "code",
      "metadata": {
        "colab": {
          "base_uri": "https://localhost:8080/",
          "height": 324
        },
        "id": "R1yEjmO1aosA",
        "outputId": "97c73bb4-8fc0-4464-8ded-d1f51c8edc40"
      },
      "source": [
        "sns.countplot(x=training_df.target, order=[x for x, count in sorted(Counter(training_df.target).items(), key=lambda x: -x[1])], palette=\"seismic\")\n",
        "plt.xticks(rotation=90);"
      ],
      "execution_count": 31,
      "outputs": [
        {
          "output_type": "display_data",
          "data": {
            "image/png": "[encoded data removed]",
            "text/plain": [
              "<Figure size 432x288 with 1 Axes>"
            ]
          },
          "metadata": {
            "tags": [],
            "needs_background": "light"
          }
        }
      ]
    },
    {
      "cell_type": "code",
      "metadata": {
        "colab": {
          "base_uri": "https://localhost:8080/",
          "height": 324
        },
        "id": "5h_vhiE3aosB",
        "outputId": "412fa7be-9ad8-4a79-8376-2940c613035e"
      },
      "source": [
        "sns.countplot(x=test_df.target, order=[x for x, count in sorted(Counter(training_df.target).items(), key=lambda x: -x[1])], palette=\"seismic\")\n",
        "plt.xticks(rotation=90);"
      ],
      "execution_count": 32,
      "outputs": [
        {
          "output_type": "display_data",
          "data": {
            "image/png": "[encoded data removed]",
            "text/plain": [
              "<Figure size 432x288 with 1 Axes>"
            ]
          },
          "metadata": {
            "tags": [],
            "needs_background": "light"
          }
        }
      ]
    },
    {
      "cell_type": "code",
      "metadata": {
        "id": "JLd7yj5AaosB"
      },
      "source": [
        "def plot_most_common_features(text_col, target_col, n_features=50):\n",
        "    from matplotlib import interactive\n",
        "\n",
        "    df = pd.DataFrame({\"text\": text_col, \"CLASS\": target_col})\n",
        "    grouped = df.groupby([\"CLASS\"]).apply(lambda x: x[\"text\"].sum())\n",
        "    grouped_df = pd.DataFrame({\"CLASS\": grouped.index, \"text\": grouped.values})\n",
        "\n",
        "    from nltk.tokenize import WhitespaceTokenizer\n",
        "    tokenizer = WhitespaceTokenizer()\n",
        "\n",
        "    for ii, text in enumerate(grouped_df.text):\n",
        "        pd.DataFrame(tokenizer.tokenize(text)).apply(pd.value_counts).head(n_features).plot(kind=\"bar\", cmap=plt.cm.seismic, figsize=(20,5))\n",
        "        plt.title(grouped_df.CLASS[ii], fontsize=20)\n",
        "        plt.xticks(fontsize=15)\n",
        "        plt.legend([])\n",
        "        interactive(True)\n",
        "        plt.show()"
      ],
      "execution_count": 33,
      "outputs": []
    },
    {
      "cell_type": "markdown",
      "metadata": {
        "id": "ivA6NZhSAXL0"
      },
      "source": [
        "First tokenization of text and visualization of words highest value count is quite poor."
      ]
    },
    {
      "cell_type": "code",
      "metadata": {
        "colab": {
          "base_uri": "https://localhost:8080/",
          "height": 1000
        },
        "id": "nUvOxSE1aosB",
        "outputId": "b3d5d7d6-9400-4c60-d45e-4ac98ff97deb"
      },
      "source": [
        "plot_most_common_features(training_df.text, training_df.target)"
      ],
      "execution_count": 34,
      "outputs": [
        {
          "output_type": "display_data",
          "data": {
            "image/png": "[encoded data removed]",
            "text/plain": [
              "<Figure size 1440x360 with 1 Axes>"
            ]
          },
          "metadata": {
            "tags": [],
            "needs_background": "light"
          }
        },
        {
          "output_type": "display_data",
          "data": {
            "image/png": "[encoded data removed]",
            "text/plain": [
              "<Figure size 1440x360 with 1 Axes>"
            ]
          },
          "metadata": {
            "tags": [],
            "needs_background": "light"
          }
        },
        {
          "output_type": "display_data",
          "data": {
            "image/png": "[encoded data removed]",
            "text/plain": [
              "<Figure size 1440x360 with 1 Axes>"
            ]
          },
          "metadata": {
            "tags": [],
            "needs_background": "light"
          }
        },
        {
          "output_type": "display_data",
          "data": {
            "image/png": "[encoded data removed]",
            "text/plain": [
              "<Figure size 1440x360 with 1 Axes>"
            ]
          },
          "metadata": {
            "tags": [],
            "needs_background": "light"
          }
        }
      ]
    },
    {
      "cell_type": "code",
      "metadata": {
        "id": "quimYScpaosB"
      },
      "source": [
        "dataset = pd.concat([training_df,test_df], sort=True)"
      ],
      "execution_count": 35,
      "outputs": []
    },
    {
      "cell_type": "code",
      "metadata": {
        "colab": {
          "base_uri": "https://localhost:8080/",
          "height": 414
        },
        "id": "9BcWvbwNaosB",
        "outputId": "3644c613-f519-4323-af36-3ef793ebbc60"
      },
      "source": [
        "dataset"
      ],
      "execution_count": 36,
      "outputs": [
        {
          "output_type": "execute_result",
          "data": {
            "text/html": [
              "<div>\n",
              "<style scoped>\n",
              "    .dataframe tbody tr th:only-of-type {\n",
              "        vertical-align: middle;\n",
              "    }\n",
              "\n",
              "    .dataframe tbody tr th {\n",
              "        vertical-align: top;\n",
              "    }\n",
              "\n",
              "    .dataframe thead th {\n",
              "        text-align: right;\n",
              "    }\n",
              "</style>\n",
              "<table border=\"1\" class=\"dataframe\">\n",
              "  <thead>\n",
              "    <tr style=\"text-align: right;\">\n",
              "      <th></th>\n",
              "      <th>target</th>\n",
              "      <th>text</th>\n",
              "      <th>words_count</th>\n",
              "    </tr>\n",
              "  </thead>\n",
              "  <tbody>\n",
              "    <tr>\n",
              "      <th>0</th>\n",
              "      <td>automobile</td>\n",
              "      <td>I was wondering if anyone out there could enli...</td>\n",
              "      <td>91</td>\n",
              "    </tr>\n",
              "    <tr>\n",
              "      <th>6</th>\n",
              "      <td>medicine</td>\n",
              "      <td>There were a few people who responded to my re...</td>\n",
              "      <td>63</td>\n",
              "    </tr>\n",
              "    <tr>\n",
              "      <th>10</th>\n",
              "      <td>automobile</td>\n",
              "      <td>I have a line on a Ducati 900GTS 1978 model wi...</td>\n",
              "      <td>108</td>\n",
              "    </tr>\n",
              "    <tr>\n",
              "      <th>11</th>\n",
              "      <td>religion</td>\n",
              "      <td>\\nYep, that's pretty much it. I'm not a Jew bu...</td>\n",
              "      <td>472</td>\n",
              "    </tr>\n",
              "    <tr>\n",
              "      <th>15</th>\n",
              "      <td>religion</td>\n",
              "      <td>\\nDon't be so sure.  Look what happened to Jap...</td>\n",
              "      <td>94</td>\n",
              "    </tr>\n",
              "    <tr>\n",
              "      <th>...</th>\n",
              "      <td>...</td>\n",
              "      <td>...</td>\n",
              "      <td>...</td>\n",
              "    </tr>\n",
              "    <tr>\n",
              "      <th>7520</th>\n",
              "      <td>medicine</td>\n",
              "      <td>First off, if I'm not mistaken, only hibernati...</td>\n",
              "      <td>95</td>\n",
              "    </tr>\n",
              "    <tr>\n",
              "      <th>7522</th>\n",
              "      <td>medicine</td>\n",
              "      <td>: \\n: &gt;move a little, the pain will be excruti...</td>\n",
              "      <td>171</td>\n",
              "    </tr>\n",
              "    <tr>\n",
              "      <th>7526</th>\n",
              "      <td>automobile</td>\n",
              "      <td>1954 MG-TF with frame-up restoration in early ...</td>\n",
              "      <td>215</td>\n",
              "    </tr>\n",
              "    <tr>\n",
              "      <th>7529</th>\n",
              "      <td>sport</td>\n",
              "      <td>I sent a version of this post out a while ago,...</td>\n",
              "      <td>125</td>\n",
              "    </tr>\n",
              "    <tr>\n",
              "      <th>7531</th>\n",
              "      <td>religion</td>\n",
              "      <td>\\nFine, but one of the points of this entire d...</td>\n",
              "      <td>67</td>\n",
              "    </tr>\n",
              "  </tbody>\n",
              "</table>\n",
              "<p>7159 rows × 3 columns</p>\n",
              "</div>"
            ],
            "text/plain": [
              "          target  ... words_count\n",
              "0     automobile  ...          91\n",
              "6       medicine  ...          63\n",
              "10    automobile  ...         108\n",
              "11      religion  ...         472\n",
              "15      religion  ...          94\n",
              "...          ...  ...         ...\n",
              "7520    medicine  ...          95\n",
              "7522    medicine  ...         171\n",
              "7526  automobile  ...         215\n",
              "7529       sport  ...         125\n",
              "7531    religion  ...          67\n",
              "\n",
              "[7159 rows x 3 columns]"
            ]
          },
          "metadata": {
            "tags": []
          },
          "execution_count": 36
        }
      ]
    },
    {
      "cell_type": "markdown",
      "metadata": {
        "id": "ApjD_x8J_0O5"
      },
      "source": [
        "Removal of certain characters, stopwords and stemming."
      ]
    },
    {
      "cell_type": "code",
      "metadata": {
        "id": "pxEgg25faosB"
      },
      "source": [
        "from nltk.stem import *\n",
        "from nltk.corpus import stopwords\n",
        "\n",
        "import re\n",
        "\n",
        "def process_text(raw_text):\n",
        "\n",
        "    letters_only = re.sub(\"[^a-zA-Z]\", \" \",raw_text) \n",
        "    letters_only = letters_only.lower()\n",
        "    letters_only = re.sub('\\[.*?\\]', '', letters_only)\n",
        "    letters_only= re.sub('http?://\\S+|www\\.\\S+', '', letters_only)\n",
        "    letters_only = re.sub('<.*?>+', '', letters_only)\n",
        "    letters_only = re.sub('[%s]' % re.escape(string.punctuation), '', letters_only)\n",
        "    letters_only = re.sub('\\n', '', letters_only)\n",
        "    letters_only = re.sub('\\w*\\d\\w*', '', letters_only)\n",
        "    words = letters_only.lower().split()\n",
        "    \n",
        "    stops = set(stopwords.words(\"english\")) \n",
        "    not_stop_words = [w for w in words if not w in stops]\n",
        "    \n",
        "    stemmer = PorterStemmer()\n",
        "    stemmed = [stemmer.stem(word) for word in not_stop_words]\n",
        "    \n",
        "    return( \" \".join( stemmed ))  "
      ],
      "execution_count": 37,
      "outputs": []
    },
    {
      "cell_type": "code",
      "metadata": {
        "colab": {
          "base_uri": "https://localhost:8080/",
          "height": 202
        },
        "id": "TIUihCl9aosC",
        "outputId": "142507bc-2289-48f7-c090-6e256ec951e6"
      },
      "source": [
        "dataset['clean_text'] = dataset['text'].apply(lambda x: process_text(x))\n",
        "dataset.head()"
      ],
      "execution_count": 38,
      "outputs": [
        {
          "output_type": "execute_result",
          "data": {
            "text/html": [
              "<div>\n",
              "<style scoped>\n",
              "    .dataframe tbody tr th:only-of-type {\n",
              "        vertical-align: middle;\n",
              "    }\n",
              "\n",
              "    .dataframe tbody tr th {\n",
              "        vertical-align: top;\n",
              "    }\n",
              "\n",
              "    .dataframe thead th {\n",
              "        text-align: right;\n",
              "    }\n",
              "</style>\n",
              "<table border=\"1\" class=\"dataframe\">\n",
              "  <thead>\n",
              "    <tr style=\"text-align: right;\">\n",
              "      <th></th>\n",
              "      <th>target</th>\n",
              "      <th>text</th>\n",
              "      <th>words_count</th>\n",
              "      <th>clean_text</th>\n",
              "    </tr>\n",
              "  </thead>\n",
              "  <tbody>\n",
              "    <tr>\n",
              "      <th>0</th>\n",
              "      <td>automobile</td>\n",
              "      <td>I was wondering if anyone out there could enli...</td>\n",
              "      <td>91</td>\n",
              "      <td>wonder anyon could enlighten car saw day door ...</td>\n",
              "    </tr>\n",
              "    <tr>\n",
              "      <th>6</th>\n",
              "      <td>medicine</td>\n",
              "      <td>There were a few people who responded to my re...</td>\n",
              "      <td>63</td>\n",
              "      <td>peopl respond request info treatment astrocyto...</td>\n",
              "    </tr>\n",
              "    <tr>\n",
              "      <th>10</th>\n",
              "      <td>automobile</td>\n",
              "      <td>I have a line on a Ducati 900GTS 1978 model wi...</td>\n",
              "      <td>108</td>\n",
              "      <td>line ducati gt model k clock run well paint br...</td>\n",
              "    </tr>\n",
              "    <tr>\n",
              "      <th>11</th>\n",
              "      <td>religion</td>\n",
              "      <td>\\nYep, that's pretty much it. I'm not a Jew bu...</td>\n",
              "      <td>472</td>\n",
              "      <td>yep pretti much jew understand jewish way thin...</td>\n",
              "    </tr>\n",
              "    <tr>\n",
              "      <th>15</th>\n",
              "      <td>religion</td>\n",
              "      <td>\\nDon't be so sure.  Look what happened to Jap...</td>\n",
              "      <td>94</td>\n",
              "      <td>sure look happen japanes citizen us world war ...</td>\n",
              "    </tr>\n",
              "  </tbody>\n",
              "</table>\n",
              "</div>"
            ],
            "text/plain": [
              "        target  ...                                         clean_text\n",
              "0   automobile  ...  wonder anyon could enlighten car saw day door ...\n",
              "6     medicine  ...  peopl respond request info treatment astrocyto...\n",
              "10  automobile  ...  line ducati gt model k clock run well paint br...\n",
              "11    religion  ...  yep pretti much jew understand jewish way thin...\n",
              "15    religion  ...  sure look happen japanes citizen us world war ...\n",
              "\n",
              "[5 rows x 4 columns]"
            ]
          },
          "metadata": {
            "tags": []
          },
          "execution_count": 38
        }
      ]
    },
    {
      "cell_type": "code",
      "metadata": {
        "colab": {
          "base_uri": "https://localhost:8080/",
          "height": 1000
        },
        "id": "yN2J_-vUaosC",
        "outputId": "a807201f-2085-4ba2-fa6a-947e30cdec78"
      },
      "source": [
        "plot_most_common_features(dataset.clean_text, dataset.target)"
      ],
      "execution_count": 39,
      "outputs": [
        {
          "output_type": "display_data",
          "data": {
            "image/png": "[encoded data removed]",
            "text/plain": [
              "<Figure size 1440x360 with 1 Axes>"
            ]
          },
          "metadata": {
            "tags": [],
            "needs_background": "light"
          }
        },
        {
          "output_type": "display_data",
          "data": {
            "image/png": "[encoded data removed]",
            "text/plain": [
              "<Figure size 1440x360 with 1 Axes>"
            ]
          },
          "metadata": {
            "tags": [],
            "needs_background": "light"
          }
        },
        {
          "output_type": "display_data",
          "data": {
            "image/png": "[encoded data removed]",
            "text/plain": [
              "<Figure size 1440x360 with 1 Axes>"
            ]
          },
          "metadata": {
            "tags": [],
            "needs_background": "light"
          }
        },
        {
          "output_type": "display_data",
          "data": {
            "image/png": "[encoded data removed]",
            "text/plain": [
              "<Figure size 1440x360 with 1 Axes>"
            ]
          },
          "metadata": {
            "tags": [],
            "needs_background": "light"
          }
        }
      ]
    },
    {
      "cell_type": "markdown",
      "metadata": {
        "id": "sFeePZHX_a-t"
      },
      "source": [
        "In the next function clean special characters, typos, slang, abbreviations, punctuations and special characters are removed."
      ]
    },
    {
      "cell_type": "code",
      "metadata": {
        "id": "iFrA6kBaaosC"
      },
      "source": [
        "def clean(email):            \n",
        "    # Special characters\n",
        "    email = re.sub(r\"\\x89Û_\", \"\", email)\n",
        "    email = re.sub(r\"\\x89ÛÒ\", \"\", email)\n",
        "    email = re.sub(r\"\\x89ÛÓ\", \"\", email)\n",
        "    email = re.sub(r\"\\x89ÛÏWhen\", \"When\", email)\n",
        "    email = re.sub(r\"\\x89ÛÏ\", \"\", email)\n",
        "    email = re.sub(r\"China\\x89Ûªs\", \"China's\", email)\n",
        "    email = re.sub(r\"let\\x89Ûªs\", \"let's\", email)\n",
        "    email = re.sub(r\"\\x89Û÷\", \"\", email)\n",
        "    email = re.sub(r\"\\x89Ûª\", \"\", email)\n",
        "    email = re.sub(r\"\\x89Û\\x9d\", \"\", email)\n",
        "    email = re.sub(r\"å_\", \"\", email)\n",
        "    email = re.sub(r\"\\x89Û¢\", \"\", email)\n",
        "    email = re.sub(r\"\\x89Û¢åÊ\", \"\", email)\n",
        "    email = re.sub(r\"fromåÊwounds\", \"from wounds\", email)\n",
        "    email = re.sub(r\"åÊ\", \"\", email)\n",
        "    email = re.sub(r\"åÈ\", \"\", email)\n",
        "    email = re.sub(r\"JapÌ_n\", \"Japan\", email)    \n",
        "    email = re.sub(r\"Ì©\", \"e\", email)\n",
        "    email = re.sub(r\"å¨\", \"\", email)\n",
        "    email = re.sub(r\"SuruÌ¤\", \"Suruc\", email)\n",
        "    email = re.sub(r\"åÇ\", \"\", email)\n",
        "    email = re.sub(r\"å£3million\", \"3 million\", email)\n",
        "    email = re.sub(r\"åÀ\", \"\", email)\n",
        "            \n",
        "    # Character entity references\n",
        "    email = re.sub(r\"&gt;\", \">\", email)\n",
        "    email = re.sub(r\"&lt;\", \"<\", email)\n",
        "    email = re.sub(r\"&amp;\", \"&\", email)\n",
        "    \n",
        "    # Typos, slang and informal abbreviations\n",
        "    email = re.sub(r\"w/e\", \"whatever\", email)\n",
        "    email = re.sub(r\"w/\", \"with\", email)\n",
        "    email = re.sub(r\"USAgov\", \"USA government\", email)\n",
        "    email = re.sub(r\"recentlu\", \"recently\", email)\n",
        "    email = re.sub(r\"Ph0tos\", \"Photos\", email)\n",
        "    email = re.sub(r\"amirite\", \"am I right\", email)\n",
        "    email = re.sub(r\"exp0sed\", \"exposed\", email)\n",
        "    email = re.sub(r\"<3\", \"love\", email)\n",
        "    email = re.sub(r\"amageddon\", \"armageddon\", email)\n",
        "    email = re.sub(r\"Trfc\", \"Traffic\", email)\n",
        "    email = re.sub(r\"8/5/2015\", \"2015-08-05\", email)\n",
        "    email = re.sub(r\"WindStorm\", \"Wind Storm\", email)\n",
        "    email = re.sub(r\"8/6/2015\", \"2015-08-06\", email)\n",
        "    email = re.sub(r\"10:38PM\", \"10:38 PM\", email)\n",
        "    email = re.sub(r\"10:30pm\", \"10:30 PM\", email)\n",
        "    email = re.sub(r\"16yr\", \"16 year\", email)\n",
        "    email = re.sub(r\"lmao\", \"laughing my ass off\", email)   \n",
        "    email = re.sub(r\"TRAUMATISED\", \"traumatized\", email)\n",
        "        \n",
        "    # Words with punctuations and special characters\n",
        "    punctuations = '@#!?+&*[]-%.:/();$=><|{}^' + \"'`\"\n",
        "    for p in punctuations:\n",
        "        email = email.replace(p, f' {p} ')\n",
        "        \n",
        "    return email"
      ],
      "execution_count": 42,
      "outputs": []
    },
    {
      "cell_type": "markdown",
      "metadata": {
        "id": "aTpOcANaACzp"
      },
      "source": [
        "In next function removes stopwords and performs stemming."
      ]
    },
    {
      "cell_type": "code",
      "metadata": {
        "id": "zuBHzgaU0Wep"
      },
      "source": [
        "def process_text_additional(raw_text):\n",
        " \n",
        "    raw_text = clean(raw_text)\n",
        "\n",
        "    letters_only = re.sub(\"[^a-zA-Z]\", \" \",raw_text) \n",
        "    letters_only = letters_only.lower()\n",
        "    letters_only = re.sub('\\[.*?\\]', '', letters_only)\n",
        "    letters_only= re.sub('http?://\\S+|www\\.\\S+', '', letters_only)\n",
        "    letters_only = re.sub('<.*?>+', '', letters_only)\n",
        "    letters_only = re.sub('[%s]' % re.escape(string.punctuation), '', letters_only)\n",
        "    letters_only = re.sub('\\n', '', letters_only)\n",
        "    letters_only = re.sub('\\w*\\d\\w*', '', letters_only)\n",
        "    words = letters_only.lower().split()\n",
        "    \n",
        "    stops = set(stopwords.words(\"english\"))  \n",
        "    not_stop_words = [w for w in words if not w in stops]\n",
        "    \n",
        "    stemmer = PorterStemmer()\n",
        "    stemmed = [stemmer.stem(word) for word in not_stop_words]\n",
        "    \n",
        "    return( \" \".join( stemmed ))"
      ],
      "execution_count": 43,
      "outputs": []
    },
    {
      "cell_type": "markdown",
      "metadata": {
        "id": "kgEXyrXG_N04"
      },
      "source": [
        "Additional processing of the data."
      ]
    },
    {
      "cell_type": "code",
      "metadata": {
        "colab": {
          "base_uri": "https://localhost:8080/",
          "height": 1000
        },
        "id": "LaO_j45aaosG",
        "outputId": "0f29ccdf-a768-4894-dd7b-7b5e28d8f916"
      },
      "source": [
        "dataset['clean_text'] = dataset['text'].apply(lambda x: process_text_additional(x))\n",
        "plot_most_common_features(dataset.clean_text, dataset.target)"
      ],
      "execution_count": 44,
      "outputs": [
        {
          "output_type": "display_data",
          "data": {
            "image/png": "[encoded data removed]",
            "text/plain": [
              "<Figure size 1440x360 with 1 Axes>"
            ]
          },
          "metadata": {
            "tags": [],
            "needs_background": "light"
          }
        },
        {
          "output_type": "display_data",
          "data": {
            "image/png": "[encoded data removed]",
            "text/plain": [
              "<Figure size 1440x360 with 1 Axes>"
            ]
          },
          "metadata": {
            "tags": [],
            "needs_background": "light"
          }
        },
        {
          "output_type": "display_data",
          "data": {
            "image/png": "[encoded data removed]",
            "text/plain": [
              "<Figure size 1440x360 with 1 Axes>"
            ]
          },
          "metadata": {
            "tags": [],
            "needs_background": "light"
          }
        },
        {
          "output_type": "display_data",
          "data": {
            "image/png": "[encoded data removed]",
            "text/plain": [
              "<Figure size 1440x360 with 1 Axes>"
            ]
          },
          "metadata": {
            "tags": [],
            "needs_background": "light"
          }
        }
      ]
    },
    {
      "cell_type": "markdown",
      "metadata": {
        "id": "LdqpL4cNR6eV"
      },
      "source": [
        "Encoding of the labels."
      ]
    },
    {
      "cell_type": "code",
      "metadata": {
        "id": "2v03klcD_tse"
      },
      "source": [
        "# Hot encoding for the labels for train and test sets together\n",
        "from sklearn import preprocessing\n",
        "le = preprocessing.LabelEncoder()\n",
        "le.fit(dataset.target.values)\n",
        "target_labels = le.classes_\n",
        "dataset.target = le.transform(dataset.target.values)"
      ],
      "execution_count": 45,
      "outputs": []
    },
    {
      "cell_type": "markdown",
      "metadata": {
        "id": "r0y4-BotR-p3"
      },
      "source": [
        "Split of train and test sets to avoid any data leakage."
      ]
    },
    {
      "cell_type": "code",
      "metadata": {
        "id": "xlvJE5jbaosG"
      },
      "source": [
        "X_train = dataset[0:len(training_df)][[\"clean_text\"]]\n",
        "y_train = dataset[0:len(training_df)][[\"target\"]]"
      ],
      "execution_count": 46,
      "outputs": []
    },
    {
      "cell_type": "code",
      "metadata": {
        "id": "2VCVTZ0NaosH"
      },
      "source": [
        "X_test = dataset[len(training_df):len(dataset)][[\"clean_text\"]]\n",
        "y_test = dataset[len(training_df):len(dataset)][[\"target\"]]"
      ],
      "execution_count": 47,
      "outputs": []
    },
    {
      "cell_type": "markdown",
      "metadata": {
        "id": "IKhxPyavaosH"
      },
      "source": [
        "# Machine Learning Models"
      ]
    },
    {
      "cell_type": "markdown",
      "metadata": {
        "id": "-9AZvVtOR0U9"
      },
      "source": [
        "Correct management of train and test sets for tfidf application.\n",
        "\n",
        "---\n",
        "\n"
      ]
    },
    {
      "cell_type": "code",
      "metadata": {
        "id": "-_-BDrG7aosI"
      },
      "source": [
        "count_vect = CountVectorizer(analyzer = \"word\")\n",
        "train_features = count_vect.fit_transform(X_train['clean_text'])\n",
        "\n",
        "tfidf = TfidfTransformer(norm=\"l2\")\n",
        "train_text_tfidf_features = tfidf.fit_transform(train_features)"
      ],
      "execution_count": 48,
      "outputs": []
    },
    {
      "cell_type": "code",
      "metadata": {
        "id": "SLYJuEMqNwnz"
      },
      "source": [
        "testData = count_vect.transform(X_test['clean_text'])\n",
        "test_text_tfidf_features = tfidf.transform(testData)"
      ],
      "execution_count": 49,
      "outputs": []
    },
    {
      "cell_type": "markdown",
      "metadata": {
        "id": "_xd8ZT9BSIwQ"
      },
      "source": [
        "Grid search function to retrieve the best hyperparameters."
      ]
    },
    {
      "cell_type": "code",
      "metadata": {
        "id": "T1HnefZSaosI"
      },
      "source": [
        "def train_and_evaluate_classifier(X, yt, estimator, grid):\n",
        "    \"\"\"Train and Evaluate a estimator (defined as input parameter) on the given labeled data using accuracy.\"\"\"\n",
        "    \n",
        "    # Cross validation\n",
        "    from sklearn.model_selection import ShuffleSplit\n",
        "    cv = ShuffleSplit(n_splits=5, test_size=0.2, random_state=0)\n",
        "      \n",
        "    from sklearn.model_selection import GridSearchCV\n",
        "    grid_search = GridSearchCV(estimator=estimator, cv=cv,  param_grid=grid, error_score=0.0, n_jobs = -1, verbose = 0)\n",
        "    \n",
        "    # Train the model over and tune the parameters\n",
        "    print(\"Training model\")\n",
        "    grid_search.fit(X, yt)\n",
        "\n",
        "    # CV-score\n",
        "    print(\"Best score: %0.3f\" % grid_search.best_score_)\n",
        "    if len(grid) > 0:\n",
        "        best_parameters = grid_search.best_estimator_.get_params()\n",
        "        print(\"Best parameters set:\",best_parameters)\n",
        "    return grid_search, best_parameters"
      ],
      "execution_count": 88,
      "outputs": []
    },
    {
      "cell_type": "markdown",
      "metadata": {
        "id": "Ijx0KUWbaosI"
      },
      "source": [
        "# Decision Trees "
      ]
    },
    {
      "cell_type": "code",
      "metadata": {
        "colab": {
          "base_uri": "https://localhost:8080/"
        },
        "id": "gOj1ZjKlaosJ",
        "outputId": "ba3f5d25-9c72-4375-87d8-f6f535e7a6d5"
      },
      "source": [
        "# Decision Trees model\n",
        "from sklearn.tree import DecisionTreeClassifier\n",
        "\n",
        "criterion = ['gini', 'entropy']\n",
        "splitter = ['best', 'random']\n",
        "max_depth = range(5, 200)\n",
        "max_features = ['auto', 'sqrt', 'log2']\n",
        "\n",
        "params_DT = {\n",
        "    'criterion' : criterion,\n",
        "    'splitter' : splitter,\n",
        "    'max_depth' : max_depth,\n",
        "    'max_features' : max_features\n",
        "}\n",
        "\n",
        "DT_gridsearch, DT_best_params = train_and_evaluate_classifier(train_text_tfidf_features, y_train, DecisionTreeClassifier(), params_DT)"
      ],
      "execution_count": 51,
      "outputs": [
        {
          "output_type": "stream",
          "text": [
            "Training model\n",
            "Best score: 0.675\n",
            "Best parameters set: {'ccp_alpha': 0.0, 'class_weight': None, 'criterion': 'gini', 'max_depth': 164, 'max_features': 'auto', 'max_leaf_nodes': None, 'min_impurity_decrease': 0.0, 'min_impurity_split': None, 'min_samples_leaf': 1, 'min_samples_split': 2, 'min_weight_fraction_leaf': 0.0, 'presort': 'deprecated', 'random_state': None, 'splitter': 'best'}\n"
          ],
          "name": "stdout"
        }
      ]
    },
    {
      "cell_type": "code",
      "metadata": {
        "id": "t6fYZYRyLyYH"
      },
      "source": [
        "DT=DecisionTreeClassifier(**DT_best_params)\n",
        "DT_classifier= DT.fit(train_text_tfidf_features, y_train)"
      ],
      "execution_count": 52,
      "outputs": []
    },
    {
      "cell_type": "code",
      "metadata": {
        "id": "nc7jUIPSaosJ"
      },
      "source": [
        "# predict y values over the test set\n",
        "y_predict = DT_classifier.predict(test_text_tfidf_features)"
      ],
      "execution_count": 53,
      "outputs": []
    },
    {
      "cell_type": "code",
      "metadata": {
        "colab": {
          "base_uri": "https://localhost:8080/"
        },
        "id": "d8TKLGgP5pqs",
        "outputId": "7af2b51a-38c8-4687-fd32-55aa8a8d173e"
      },
      "source": [
        "# calculate metrics\n",
        "from sklearn.metrics import classification_report, confusion_matrix, accuracy_score\n",
        "print(classification_report(y_test, y_predict))"
      ],
      "execution_count": 54,
      "outputs": [
        {
          "output_type": "stream",
          "text": [
            "              precision    recall  f1-score   support\n",
            "\n",
            "           0       0.72      0.61      0.66       761\n",
            "           1       0.50      0.36      0.42       382\n",
            "           2       0.68      0.67      0.68       940\n",
            "           3       0.57      0.74      0.64       773\n",
            "\n",
            "    accuracy                           0.63      2856\n",
            "   macro avg       0.62      0.60      0.60      2856\n",
            "weighted avg       0.64      0.63      0.63      2856\n",
            "\n"
          ],
          "name": "stdout"
        }
      ]
    },
    {
      "cell_type": "code",
      "metadata": {
        "colab": {
          "base_uri": "https://localhost:8080/"
        },
        "id": "WIGKEhUsmCu3",
        "outputId": "365821fa-487e-40a5-a5f2-32d8cf3cbb61"
      },
      "source": [
        "import joblib\n",
        "joblib.dump(DT_classifier, 'DT_classifier.pkl')"
      ],
      "execution_count": 134,
      "outputs": [
        {
          "output_type": "execute_result",
          "data": {
            "text/plain": [
              "['DT_classifier.pkl']"
            ]
          },
          "metadata": {
            "tags": []
          },
          "execution_count": 134
        }
      ]
    },
    {
      "cell_type": "markdown",
      "metadata": {
        "id": "KXRtmc1MaosJ"
      },
      "source": [
        "# SVM"
      ]
    },
    {
      "cell_type": "code",
      "metadata": {
        "colab": {
          "base_uri": "https://localhost:8080/"
        },
        "id": "93nXtaF4aosK",
        "outputId": "d70d31da-151b-4b0d-ab2c-4b78fb4800ad"
      },
      "source": [
        "# SVM model\n",
        "from sklearn.svm import SVC\n",
        "\n",
        "svm_grid = [\n",
        "  {'C': [0.01, 0.1, 1], 'kernel': ['linear']},\n",
        "  {'C': [1, 10, 100, 1000], 'gamma': ['scale', 'auto'], 'kernel': ['rbf']},\n",
        " ]\n",
        "# Required y_train to be specified as y_train.values.ravel() for it to run.\n",
        "SVM_gridsearch, SVM_best_params = train_and_evaluate_classifier(train_text_tfidf_features, y_train.values.ravel(), SVC(), svm_grid)"
      ],
      "execution_count": 55,
      "outputs": [
        {
          "output_type": "stream",
          "text": [
            "Training model\n",
            "Best score: 0.902\n",
            "Best parameters set: {'C': 10, 'break_ties': False, 'cache_size': 200, 'class_weight': None, 'coef0': 0.0, 'decision_function_shape': 'ovr', 'degree': 3, 'gamma': 'scale', 'kernel': 'rbf', 'max_iter': -1, 'probability': False, 'random_state': None, 'shrinking': True, 'tol': 0.001, 'verbose': False}\n"
          ],
          "name": "stdout"
        }
      ]
    },
    {
      "cell_type": "code",
      "metadata": {
        "id": "R-nF9-fdTJTD"
      },
      "source": [
        "SVM= SVC(**SVM_best_params)\n"
      ],
      "execution_count": 56,
      "outputs": []
    },
    {
      "cell_type": "code",
      "metadata": {
        "id": "uhc5RIJIYVJI"
      },
      "source": [
        "SVM_classifier= SVM.fit(train_text_tfidf_features, y_train.values.ravel())"
      ],
      "execution_count": 57,
      "outputs": []
    },
    {
      "cell_type": "code",
      "metadata": {
        "id": "Wf4cAPXsTJVy"
      },
      "source": [
        "# predict y values over the test set\n",
        "y_predict = SVM_classifier.predict(test_text_tfidf_features)"
      ],
      "execution_count": 58,
      "outputs": []
    },
    {
      "cell_type": "code",
      "metadata": {
        "colab": {
          "base_uri": "https://localhost:8080/"
        },
        "id": "pqAD5mQlTJYa",
        "outputId": "f8749b66-1f3c-4377-f6c4-d293e980c52a"
      },
      "source": [
        "# calculate metrics\n",
        "print(classification_report(y_test, y_predict))"
      ],
      "execution_count": 59,
      "outputs": [
        {
          "output_type": "stream",
          "text": [
            "              precision    recall  f1-score   support\n",
            "\n",
            "           0       0.84      0.92      0.88       761\n",
            "           1       0.96      0.68      0.80       382\n",
            "           2       0.86      0.93      0.90       940\n",
            "           3       0.94      0.91      0.93       773\n",
            "\n",
            "    accuracy                           0.89      2856\n",
            "   macro avg       0.90      0.86      0.87      2856\n",
            "weighted avg       0.89      0.89      0.89      2856\n",
            "\n"
          ],
          "name": "stdout"
        }
      ]
    },
    {
      "cell_type": "code",
      "metadata": {
        "colab": {
          "base_uri": "https://localhost:8080/"
        },
        "id": "XK9N1-j3l8tl",
        "outputId": "2eaf2d03-8047-475f-96d9-830d06764070"
      },
      "source": [
        "import joblib\n",
        "joblib.dump(SVM_classifier, 'SVM_classifier.pkl')"
      ],
      "execution_count": 130,
      "outputs": [
        {
          "output_type": "execute_result",
          "data": {
            "text/plain": [
              "['SVM_classifier.pkl']"
            ]
          },
          "metadata": {
            "tags": []
          },
          "execution_count": 130
        }
      ]
    },
    {
      "cell_type": "markdown",
      "metadata": {
        "id": "4KIWUcfyaosK"
      },
      "source": [
        "# KNN"
      ]
    },
    {
      "cell_type": "code",
      "metadata": {
        "colab": {
          "base_uri": "https://localhost:8080/"
        },
        "id": "VjAYaSiBaosK",
        "outputId": "1f8735d2-c1a1-4b81-cf3f-98d6d6ae096a"
      },
      "source": [
        "# KNN model\n",
        "from sklearn.neighbors import KNeighborsClassifier\n",
        "\n",
        "n_neighbors = range(5, 6)\n",
        "weights = ['uniform', 'distance']\n",
        "algorithm = ['auto', 'ball_tree', 'kd_tree', 'brute']\n",
        "leaf_size = range(30, 100)\n",
        "p = range(1, 4)\n",
        "\n",
        "params_knn = {\n",
        "    'n_neighbors' : n_neighbors,\n",
        "    'weights' : weights,\n",
        "    'algorithm' : algorithm,\n",
        "    'leaf_size' : leaf_size,\n",
        "    'p'  : p\n",
        "}\n",
        "\n",
        "KNN_gridsearch, KNN_best_params = train_and_evaluate_classifier(train_text_tfidf_features, y_train.values.ravel(), KNeighborsClassifier(), params_knn)"
      ],
      "execution_count": 64,
      "outputs": [
        {
          "output_type": "stream",
          "text": [
            "Training model\n",
            "Best score: 0.398\n",
            "Best parameters set: {'algorithm': 'auto', 'leaf_size': 30, 'metric': 'minkowski', 'metric_params': None, 'n_jobs': None, 'n_neighbors': 5, 'p': 2, 'weights': 'uniform'}\n"
          ],
          "name": "stdout"
        }
      ]
    },
    {
      "cell_type": "code",
      "metadata": {
        "id": "BDOC1Q4ZTcL7"
      },
      "source": [
        "KNN = KNeighborsClassifier(**KNN_best_params)\n",
        "KNN_classifier= KNN.fit(train_text_tfidf_features, y_train.values.ravel())"
      ],
      "execution_count": 65,
      "outputs": []
    },
    {
      "cell_type": "code",
      "metadata": {
        "id": "jY9TTW9LTcOZ"
      },
      "source": [
        "# predict y values over the test set\n",
        "y_predict = KNN_classifier.predict(test_text_tfidf_features)"
      ],
      "execution_count": 66,
      "outputs": []
    },
    {
      "cell_type": "code",
      "metadata": {
        "colab": {
          "base_uri": "https://localhost:8080/"
        },
        "id": "agIe1uD2TcQ2",
        "outputId": "143ed874-b9e1-4cf8-f5fc-0b6e6652caee"
      },
      "source": [
        "# calculate metrics\n",
        "print(classification_report(y_test, y_predict))"
      ],
      "execution_count": 67,
      "outputs": [
        {
          "output_type": "stream",
          "text": [
            "              precision    recall  f1-score   support\n",
            "\n",
            "           0       1.00      0.02      0.04       761\n",
            "           1       1.00      0.01      0.01       382\n",
            "           2       1.00      0.01      0.02       940\n",
            "           3       0.27      1.00      0.43       773\n",
            "\n",
            "    accuracy                           0.28      2856\n",
            "   macro avg       0.82      0.26      0.12      2856\n",
            "weighted avg       0.80      0.28      0.13      2856\n",
            "\n"
          ],
          "name": "stdout"
        }
      ]
    },
    {
      "cell_type": "code",
      "metadata": {
        "colab": {
          "base_uri": "https://localhost:8080/"
        },
        "id": "bG5ChuFGl0gn",
        "outputId": "4607a18b-a00a-4a52-f45e-dbbe56d88661"
      },
      "source": [
        "import joblib\n",
        "joblib.dump(KNN_classifier, 'KNN_classifier.pkl')"
      ],
      "execution_count": 129,
      "outputs": [
        {
          "output_type": "execute_result",
          "data": {
            "text/plain": [
              "['KNN_classifier.pkl']"
            ]
          },
          "metadata": {
            "tags": []
          },
          "execution_count": 129
        }
      ]
    },
    {
      "cell_type": "markdown",
      "metadata": {
        "id": "apswemVhaosK"
      },
      "source": [
        "# MaxEnt Classifiers"
      ]
    },
    {
      "cell_type": "code",
      "metadata": {
        "colab": {
          "base_uri": "https://localhost:8080/"
        },
        "id": "ICZ6gR8qaosK",
        "outputId": "977cf365-9deb-4fd3-a669-9d28bb0b0c35"
      },
      "source": [
        "from sklearn.linear_model import LogisticRegression\n",
        "max_ent_grid= {'penalty': ['l1','l2'], 'C': [0.001,0.01,0.1,1,10,100]}\n",
        "MaxEnt_gridsearch, MaxEnt_best_params = train_and_evaluate_classifier(train_text_tfidf_features, y_train.values.ravel(), LogisticRegression(), max_ent_grid)"
      ],
      "execution_count": 72,
      "outputs": [
        {
          "output_type": "stream",
          "text": [
            "Training model\n",
            "Best score: 0.910\n",
            "Best parameters set: {'C': 10, 'class_weight': None, 'dual': False, 'fit_intercept': True, 'intercept_scaling': 1, 'l1_ratio': None, 'max_iter': 100, 'multi_class': 'auto', 'n_jobs': None, 'penalty': 'l2', 'random_state': None, 'solver': 'lbfgs', 'tol': 0.0001, 'verbose': 0, 'warm_start': False}\n"
          ],
          "name": "stdout"
        },
        {
          "output_type": "stream",
          "text": [
            "/usr/local/lib/python3.7/dist-packages/sklearn/linear_model/_logistic.py:940: ConvergenceWarning: lbfgs failed to converge (status=1):\n",
            "STOP: TOTAL NO. of ITERATIONS REACHED LIMIT.\n",
            "\n",
            "Increase the number of iterations (max_iter) or scale the data as shown in:\n",
            "    https://scikit-learn.org/stable/modules/preprocessing.html\n",
            "Please also refer to the documentation for alternative solver options:\n",
            "    https://scikit-learn.org/stable/modules/linear_model.html#logistic-regression\n",
            "  extra_warning_msg=_LOGISTIC_SOLVER_CONVERGENCE_MSG)\n"
          ],
          "name": "stderr"
        }
      ]
    },
    {
      "cell_type": "code",
      "metadata": {
        "colab": {
          "base_uri": "https://localhost:8080/"
        },
        "id": "zC2hK_dxTppw",
        "outputId": "7a18965a-afe8-4347-8feb-bb4008a8495b"
      },
      "source": [
        "MaxEnt = LogisticRegression(**MaxEnt_best_params)\n",
        "MaxEnt_classifier= MaxEnt.fit(train_text_tfidf_features, y_train.values.ravel())"
      ],
      "execution_count": 76,
      "outputs": [
        {
          "output_type": "stream",
          "text": [
            "/usr/local/lib/python3.7/dist-packages/sklearn/linear_model/_logistic.py:940: ConvergenceWarning: lbfgs failed to converge (status=1):\n",
            "STOP: TOTAL NO. of ITERATIONS REACHED LIMIT.\n",
            "\n",
            "Increase the number of iterations (max_iter) or scale the data as shown in:\n",
            "    https://scikit-learn.org/stable/modules/preprocessing.html\n",
            "Please also refer to the documentation for alternative solver options:\n",
            "    https://scikit-learn.org/stable/modules/linear_model.html#logistic-regression\n",
            "  extra_warning_msg=_LOGISTIC_SOLVER_CONVERGENCE_MSG)\n"
          ],
          "name": "stderr"
        }
      ]
    },
    {
      "cell_type": "code",
      "metadata": {
        "id": "kwRiuCRuTpso"
      },
      "source": [
        "# predict y values over the test set\n",
        "y_predict = MaxEnt_classifier.predict(test_text_tfidf_features)"
      ],
      "execution_count": 77,
      "outputs": []
    },
    {
      "cell_type": "code",
      "metadata": {
        "colab": {
          "base_uri": "https://localhost:8080/"
        },
        "id": "_J_DwWKMTpu9",
        "outputId": "cf71f467-925a-428c-d5a8-5150e42b389c"
      },
      "source": [
        "# calculate metrics\n",
        "print(classification_report(y_test, y_predict))"
      ],
      "execution_count": 78,
      "outputs": [
        {
          "output_type": "stream",
          "text": [
            "              precision    recall  f1-score   support\n",
            "\n",
            "           0       0.87      0.92      0.89       761\n",
            "           1       0.94      0.76      0.84       382\n",
            "           2       0.88      0.92      0.90       940\n",
            "           3       0.93      0.92      0.92       773\n",
            "\n",
            "    accuracy                           0.90      2856\n",
            "   macro avg       0.91      0.88      0.89      2856\n",
            "weighted avg       0.90      0.90      0.90      2856\n",
            "\n"
          ],
          "name": "stdout"
        }
      ]
    },
    {
      "cell_type": "code",
      "metadata": {
        "colab": {
          "base_uri": "https://localhost:8080/"
        },
        "id": "Ww0QgE64lqUh",
        "outputId": "bdf76df8-d31e-49fa-ae17-d2d87d9533b4"
      },
      "source": [
        "import joblib\n",
        "joblib.dump(MaxEnt_classifier, 'MaxEnt_classifier.pkl')"
      ],
      "execution_count": 128,
      "outputs": [
        {
          "output_type": "execute_result",
          "data": {
            "text/plain": [
              "['MaxEnt_classifier.pkl']"
            ]
          },
          "metadata": {
            "tags": []
          },
          "execution_count": 128
        }
      ]
    },
    {
      "cell_type": "markdown",
      "metadata": {
        "id": "BFW_C68QaosJ"
      },
      "source": [
        "# Naive Bayes"
      ]
    },
    {
      "cell_type": "code",
      "metadata": {
        "colab": {
          "base_uri": "https://localhost:8080/"
        },
        "id": "Kvk4UnvaaosJ",
        "outputId": "6e4083b2-6e87-4a47-d7dc-cf4ca79e465c"
      },
      "source": [
        "NB_params={'alpha':[0,1]}\n",
        "NB_gridsearch, NB_best_params  = train_and_evaluate_classifier(train_text_tfidf_features, y_train.values.ravel(), MultinomialNB(), NB_params)"
      ],
      "execution_count": 122,
      "outputs": [
        {
          "output_type": "stream",
          "text": [
            "Training model\n",
            "Best score: 0.909\n",
            "Best parameters set: {'alpha': 0, 'class_prior': None, 'fit_prior': True}\n"
          ],
          "name": "stdout"
        },
        {
          "output_type": "stream",
          "text": [
            "/usr/local/lib/python3.7/dist-packages/sklearn/naive_bayes.py:507: UserWarning: alpha too small will result in numeric errors, setting alpha = 1.0e-10\n",
            "  'setting alpha = %.1e' % _ALPHA_MIN)\n"
          ],
          "name": "stderr"
        }
      ]
    },
    {
      "cell_type": "code",
      "metadata": {
        "id": "n1Shu8kqSeH5"
      },
      "source": [
        "NB=MultinomialNB()\n",
        "NB_classifier= NB.fit(train_text_tfidf_features, y_train.values.ravel())"
      ],
      "execution_count": 123,
      "outputs": []
    },
    {
      "cell_type": "code",
      "metadata": {
        "id": "-BszZpHuSePm"
      },
      "source": [
        "# predict y values over the test set\n",
        "y_predict = NB_classifier.predict(test_text_tfidf_features)"
      ],
      "execution_count": 124,
      "outputs": []
    },
    {
      "cell_type": "code",
      "metadata": {
        "colab": {
          "base_uri": "https://localhost:8080/"
        },
        "id": "CHncoDwIS8MC",
        "outputId": "a7aaa32b-e4dc-494e-ad1a-cbdbcb61d632"
      },
      "source": [
        "# calculate metrics\n",
        "print(classification_report(y_test, y_predict))"
      ],
      "execution_count": 125,
      "outputs": [
        {
          "output_type": "stream",
          "text": [
            "              precision    recall  f1-score   support\n",
            "\n",
            "           0       0.91      0.87      0.89       761\n",
            "           1       1.00      0.21      0.35       382\n",
            "           2       0.69      0.98      0.81       940\n",
            "           3       0.96      0.89      0.93       773\n",
            "\n",
            "    accuracy                           0.82      2856\n",
            "   macro avg       0.89      0.74      0.74      2856\n",
            "weighted avg       0.86      0.82      0.80      2856\n",
            "\n"
          ],
          "name": "stdout"
        }
      ]
    },
    {
      "cell_type": "code",
      "metadata": {
        "colab": {
          "base_uri": "https://localhost:8080/"
        },
        "id": "rcPnwLwWlOya",
        "outputId": "461717ac-1e62-4b2e-a302-2a4b24ab8f5c"
      },
      "source": [
        "import joblib\n",
        "joblib.dump(NB_classifier, 'NB_classifier.pkl')"
      ],
      "execution_count": 127,
      "outputs": [
        {
          "output_type": "execute_result",
          "data": {
            "text/plain": [
              "['NB_classifier.pkl']"
            ]
          },
          "metadata": {
            "tags": []
          },
          "execution_count": 127
        }
      ]
    },
    {
      "cell_type": "markdown",
      "metadata": {
        "id": "BR3nXzSRaosK"
      },
      "source": [
        "# LSTM"
      ]
    },
    {
      "cell_type": "code",
      "metadata": {
        "colab": {
          "base_uri": "https://localhost:8080/",
          "height": 35
        },
        "id": "1eh-ffsW05YN",
        "outputId": "f6550f7d-e4d9-416a-c7b3-fb414e97fa5e"
      },
      "source": [
        "import fastai\n",
        "fastai.__version__"
      ],
      "execution_count": 45,
      "outputs": [
        {
          "output_type": "execute_result",
          "data": {
            "application/vnd.google.colaboratory.intrinsic+json": {
              "type": "string"
            },
            "text/plain": [
              "'2.3.1'"
            ]
          },
          "metadata": {
            "tags": []
          },
          "execution_count": 45
        }
      ]
    },
    {
      "cell_type": "code",
      "metadata": {
        "id": "SBCUz1Md0Dnw"
      },
      "source": [
        "from fastai.basics import *\n",
        "from fastai.callback.all import *\n",
        "from fastai.text.all import *"
      ],
      "execution_count": 46,
      "outputs": []
    },
    {
      "cell_type": "code",
      "metadata": {
        "id": "aOWdCBJRaosL",
        "colab": {
          "base_uri": "https://localhost:8080/",
          "height": 341
        },
        "outputId": "05785ac4-7a7a-4782-8a0c-8ba06d7cbe53"
      },
      "source": [
        "# Language model data\n",
        "df_all = pd.concat([training_df, test_df])\n",
        "\n",
        "dls_lm = DataBlock(\n",
        "    blocks=TextBlock.from_df('text', is_lm=True),\n",
        "    get_x=ColReader('text'),\n",
        "    splitter=RandomSplitter(0.1)\n",
        ").dataloaders(df_all, bs=64, seq_len=40)\n",
        "\n",
        "dls_lm.show_batch(max_n=5)"
      ],
      "execution_count": 47,
      "outputs": [
        {
          "output_type": "display_data",
          "data": {
            "text/html": [
              ""
            ],
            "text/plain": [
              "<IPython.core.display.HTML object>"
            ]
          },
          "metadata": {
            "tags": []
          }
        },
        {
          "output_type": "stream",
          "text": [
            "/usr/local/lib/python3.7/dist-packages/numpy/core/_asarray.py:83: VisibleDeprecationWarning: Creating an ndarray from ragged nested sequences (which is a list-or-tuple of lists-or-tuples-or ndarrays with different lengths or shapes) is deprecated. If you meant to do this, you must specify 'dtype=object' when creating the ndarray\n",
            "  return array(a, dtype, copy=False, order=order)\n"
          ],
          "name": "stderr"
        },
        {
          "output_type": "display_data",
          "data": {
            "text/html": [
              "<table border=\"1\" class=\"dataframe\">\n",
              "  <thead>\n",
              "    <tr style=\"text-align: right;\">\n",
              "      <th></th>\n",
              "      <th>text</th>\n",
              "      <th>text_</th>\n",
              "    </tr>\n",
              "  </thead>\n",
              "  <tbody>\n",
              "    <tr>\n",
              "      <th>0</th>\n",
              "      <td>xxbos xxmaj as will xxup i , and the xxmaj ultimate xxmaj xxunk . xxbos [ writing to someone else ] \\n\\n\\n xxmaj can we get back to using the terms \" strong xxmaj atheist \" and \" weak xxmaj</td>\n",
              "      <td>xxmaj as will xxup i , and the xxmaj ultimate xxmaj xxunk . xxbos [ writing to someone else ] \\n\\n\\n xxmaj can we get back to using the terms \" strong xxmaj atheist \" and \" weak xxmaj atheist</td>\n",
              "    </tr>\n",
              "    <tr>\n",
              "      <th>1</th>\n",
              "      <td>too much like xxmaj bobby 's \" atheism xxmaj is xxmaj false \" stuff . xxmaj are \\n we really going to have to go through this again ? xxmaj maybe the universe is \\n cyclical ! :) :( xxbos</td>\n",
              "      <td>much like xxmaj bobby 's \" atheism xxmaj is xxmaj false \" stuff . xxmaj are \\n we really going to have to go through this again ? xxmaj maybe the universe is \\n cyclical ! :) :( xxbos xxmaj</td>\n",
              "    </tr>\n",
              "    <tr>\n",
              "      <th>2</th>\n",
              "      <td>of the countries i mentioned . \\n xxmaj these are not \" members only \" events . xxmaj god and xxmaj mary invites \\n everybody . \\n\\n xxmaj so in conclusion ( finally ) … \\n xxmaj we rc 's</td>\n",
              "      <td>the countries i mentioned . \\n xxmaj these are not \" members only \" events . xxmaj god and xxmaj mary invites \\n everybody . \\n\\n xxmaj so in conclusion ( finally ) … \\n xxmaj we rc 's believe</td>\n",
              "    </tr>\n",
              "    <tr>\n",
              "      <th>3</th>\n",
              "      <td>in particular xxmaj i 'm interested to know if any \\n stigma is attached to the children as opposed to the parents . xxmaj i 'm especially \\n keen to learn if there is or is not any prohibition in</td>\n",
              "      <td>particular xxmaj i 'm interested to know if any \\n stigma is attached to the children as opposed to the parents . xxmaj i 'm especially \\n keen to learn if there is or is not any prohibition in the</td>\n",
              "    </tr>\n",
              "    <tr>\n",
              "      <th>4</th>\n",
              "      <td>\\t▁ -- fuzzy picture \\n▁ xxunk \\t▁ -- key layout schematic \\n▁ xxunk \\t▁ -- a much better picture of the datahand \\n▁ xxunk \\t\\t▁ -- the xxmaj key xxmaj tronic flexpro keyboard \\t\\t▁ || \\n▁ xxunk -- the xxmaj</td>\n",
              "      <td>-- fuzzy picture \\n▁ xxunk \\t▁ -- key layout schematic \\n▁ xxunk \\t▁ -- a much better picture of the datahand \\n▁ xxunk \\t\\t▁ -- the xxmaj key xxmaj tronic flexpro keyboard \\t\\t▁ || \\n▁ xxunk -- the xxmaj kinesis</td>\n",
              "    </tr>\n",
              "  </tbody>\n",
              "</table>"
            ],
            "text/plain": [
              "<IPython.core.display.HTML object>"
            ]
          },
          "metadata": {
            "tags": []
          }
        }
      ]
    },
    {
      "cell_type": "code",
      "metadata": {
        "id": "HlELfI2YaosL",
        "colab": {
          "base_uri": "https://localhost:8080/",
          "height": 16
        },
        "outputId": "f46e9cd0-ca1d-4a95-8ba7-1c498fa97d83"
      },
      "source": [
        "learn = language_model_learner(\n",
        "    dls_lm, AWD_LSTM, drop_mult=0.3, \n",
        "    metrics=[accuracy_multi, Perplexity()]).to_fp16()"
      ],
      "execution_count": 48,
      "outputs": [
        {
          "output_type": "display_data",
          "data": {
            "text/html": [
              ""
            ],
            "text/plain": [
              "<IPython.core.display.HTML object>"
            ]
          },
          "metadata": {
            "tags": []
          }
        }
      ]
    },
    {
      "cell_type": "code",
      "metadata": {
        "id": "ccH6deFJaosL",
        "colab": {
          "base_uri": "https://localhost:8080/",
          "height": 301
        },
        "outputId": "e412421e-f285-483d-c6d1-1f0ae900a166"
      },
      "source": [
        "learn.lr_find(start_lr=1e-6, end_lr=1)"
      ],
      "execution_count": 49,
      "outputs": [
        {
          "output_type": "display_data",
          "data": {
            "text/html": [
              ""
            ],
            "text/plain": [
              "<IPython.core.display.HTML object>"
            ]
          },
          "metadata": {
            "tags": []
          }
        },
        {
          "output_type": "execute_result",
          "data": {
            "text/plain": [
              "SuggestedLRs(lr_min=0.019054606556892395, lr_steep=0.03162277489900589)"
            ]
          },
          "metadata": {
            "tags": []
          },
          "execution_count": 49
        },
        {
          "output_type": "display_data",
          "data": {
            "image/png": "[encoded data removed]",
            "text/plain": [
              "<Figure size 432x288 with 1 Axes>"
            ]
          },
          "metadata": {
            "tags": [],
            "needs_background": "light"
          }
        }
      ]
    },
    {
      "cell_type": "code",
      "metadata": {
        "id": "DNP19MFyaosM",
        "colab": {
          "base_uri": "https://localhost:8080/",
          "height": 78
        },
        "outputId": "25b6441d-820b-4a46-b50d-f2bef52e8f12"
      },
      "source": [
        "learn.fit_one_cycle(1, 1e-2)"
      ],
      "execution_count": 50,
      "outputs": [
        {
          "output_type": "display_data",
          "data": {
            "text/html": [
              "<table border=\"1\" class=\"dataframe\">\n",
              "  <thead>\n",
              "    <tr style=\"text-align: left;\">\n",
              "      <th>epoch</th>\n",
              "      <th>train_loss</th>\n",
              "      <th>valid_loss</th>\n",
              "      <th>accuracy</th>\n",
              "      <th>perplexity</th>\n",
              "      <th>time</th>\n",
              "    </tr>\n",
              "  </thead>\n",
              "  <tbody>\n",
              "    <tr>\n",
              "      <td>0</td>\n",
              "      <td>4.141516</td>\n",
              "      <td>4.057790</td>\n",
              "      <td>0.268703</td>\n",
              "      <td>57.846344</td>\n",
              "      <td>01:39</td>\n",
              "    </tr>\n",
              "  </tbody>\n",
              "</table>"
            ],
            "text/plain": [
              "<IPython.core.display.HTML object>"
            ]
          },
          "metadata": {
            "tags": []
          }
        }
      ]
    },
    {
      "cell_type": "code",
      "metadata": {
        "id": "gPLYSaxGaosM",
        "colab": {
          "base_uri": "https://localhost:8080/",
          "height": 355
        },
        "outputId": "c912444d-5181-477d-cde8-8360856b136c"
      },
      "source": [
        "learn.unfreeze()\n",
        "learn.fit_one_cycle(10, 1e-3)"
      ],
      "execution_count": 51,
      "outputs": [
        {
          "output_type": "display_data",
          "data": {
            "text/html": [
              "<table border=\"1\" class=\"dataframe\">\n",
              "  <thead>\n",
              "    <tr style=\"text-align: left;\">\n",
              "      <th>epoch</th>\n",
              "      <th>train_loss</th>\n",
              "      <th>valid_loss</th>\n",
              "      <th>accuracy</th>\n",
              "      <th>perplexity</th>\n",
              "      <th>time</th>\n",
              "    </tr>\n",
              "  </thead>\n",
              "  <tbody>\n",
              "    <tr>\n",
              "      <td>0</td>\n",
              "      <td>3.677200</td>\n",
              "      <td>3.935183</td>\n",
              "      <td>0.283659</td>\n",
              "      <td>51.171505</td>\n",
              "      <td>01:46</td>\n",
              "    </tr>\n",
              "    <tr>\n",
              "      <td>1</td>\n",
              "      <td>3.602710</td>\n",
              "      <td>3.850332</td>\n",
              "      <td>0.299482</td>\n",
              "      <td>47.008656</td>\n",
              "      <td>01:45</td>\n",
              "    </tr>\n",
              "    <tr>\n",
              "      <td>2</td>\n",
              "      <td>3.331624</td>\n",
              "      <td>3.801209</td>\n",
              "      <td>0.308077</td>\n",
              "      <td>44.755280</td>\n",
              "      <td>01:45</td>\n",
              "    </tr>\n",
              "    <tr>\n",
              "      <td>3</td>\n",
              "      <td>3.100209</td>\n",
              "      <td>3.810623</td>\n",
              "      <td>0.312644</td>\n",
              "      <td>45.178574</td>\n",
              "      <td>01:44</td>\n",
              "    </tr>\n",
              "    <tr>\n",
              "      <td>4</td>\n",
              "      <td>2.922946</td>\n",
              "      <td>3.829518</td>\n",
              "      <td>0.314110</td>\n",
              "      <td>46.040356</td>\n",
              "      <td>01:45</td>\n",
              "    </tr>\n",
              "    <tr>\n",
              "      <td>5</td>\n",
              "      <td>2.718126</td>\n",
              "      <td>3.889591</td>\n",
              "      <td>0.314506</td>\n",
              "      <td>48.890896</td>\n",
              "      <td>01:44</td>\n",
              "    </tr>\n",
              "    <tr>\n",
              "      <td>6</td>\n",
              "      <td>2.436998</td>\n",
              "      <td>3.948607</td>\n",
              "      <td>0.313960</td>\n",
              "      <td>51.863083</td>\n",
              "      <td>01:44</td>\n",
              "    </tr>\n",
              "    <tr>\n",
              "      <td>7</td>\n",
              "      <td>2.319853</td>\n",
              "      <td>4.006198</td>\n",
              "      <td>0.313126</td>\n",
              "      <td>54.937595</td>\n",
              "      <td>01:44</td>\n",
              "    </tr>\n",
              "    <tr>\n",
              "      <td>8</td>\n",
              "      <td>2.190447</td>\n",
              "      <td>4.048784</td>\n",
              "      <td>0.311842</td>\n",
              "      <td>57.327721</td>\n",
              "      <td>01:44</td>\n",
              "    </tr>\n",
              "    <tr>\n",
              "      <td>9</td>\n",
              "      <td>2.168391</td>\n",
              "      <td>4.064586</td>\n",
              "      <td>0.311849</td>\n",
              "      <td>58.240803</td>\n",
              "      <td>01:44</td>\n",
              "    </tr>\n",
              "  </tbody>\n",
              "</table>"
            ],
            "text/plain": [
              "<IPython.core.display.HTML object>"
            ]
          },
          "metadata": {
            "tags": []
          }
        }
      ]
    },
    {
      "cell_type": "code",
      "metadata": {
        "id": "whf0Wpl9aosM",
        "colab": {
          "base_uri": "https://localhost:8080/",
          "height": 16
        },
        "outputId": "59435a26-7130-44a8-ee2d-dd06d9c20150"
      },
      "source": [
        "TEXT = \"My country is Spain\"\n",
        "N_WORDS = 40\n",
        "N_SENTENCES = 2\n",
        "preds = [learn.predict(TEXT, N_WORDS, temperature=0.75) \n",
        "         for _ in range(N_SENTENCES)]"
      ],
      "execution_count": 52,
      "outputs": [
        {
          "output_type": "display_data",
          "data": {
            "text/html": [
              ""
            ],
            "text/plain": [
              "<IPython.core.display.HTML object>"
            ]
          },
          "metadata": {
            "tags": []
          }
        },
        {
          "output_type": "display_data",
          "data": {
            "text/html": [
              ""
            ],
            "text/plain": [
              "<IPython.core.display.HTML object>"
            ]
          },
          "metadata": {
            "tags": []
          }
        }
      ]
    },
    {
      "cell_type": "code",
      "metadata": {
        "id": "rg3n1TZraosM",
        "colab": {
          "base_uri": "https://localhost:8080/"
        },
        "outputId": "56b6e6f2-a907-46c7-9f9e-4f2c8bee1f8e"
      },
      "source": [
        "print(\"\\n\".join(preds))"
      ],
      "execution_count": 53,
      "outputs": [
        {
          "output_type": "stream",
          "text": [
            "My country is Spain and i am not an International Christian Humanist Anybody . i \n",
            " know that the Golden Dawn is a great country of the south , but i ca n't \n",
            " think of any \"\n",
            "My country is Spain , and Italy is not an Italian city . i am here \n",
            " for the European Olympic Sports ( olympic Games ) , if there is a \n",
            " park - effect effect on\n"
          ],
          "name": "stdout"
        }
      ]
    },
    {
      "cell_type": "code",
      "metadata": {
        "id": "dHKga_SUaosM"
      },
      "source": [
        "learn.save_encoder('ft_enc_extended')"
      ],
      "execution_count": 54,
      "outputs": []
    },
    {
      "cell_type": "code",
      "metadata": {
        "id": "gGPQOBn2aosM",
        "colab": {
          "base_uri": "https://localhost:8080/",
          "height": 794
        },
        "outputId": "ee78f636-908b-495c-ff7d-ce10f7af4846"
      },
      "source": [
        "dls_class = DataBlock(\n",
        "    blocks=(\n",
        "        TextBlock.from_df('text', # We take the textual information from the column \"text\" in the dataset\n",
        "                          seq_len=40, # Maximum length\n",
        "                          vocab=dls_lm.vocab # We use the same vocabulary representation than the one used for the LM\n",
        "                          ), \n",
        "            CategoryBlock), # Because we will use these data for classification\n",
        "    get_x=ColReader('text'),\n",
        "    get_y=ColReader('target'),\n",
        "    splitter=RandomSplitter(0.2) # Randomly splits the dataset (20% for Validation, 80% for training)\n",
        ").dataloaders(training_df, bs=64)\n",
        "\n",
        "dls_class.show_batch(max_n=10)"
      ],
      "execution_count": 59,
      "outputs": [
        {
          "output_type": "display_data",
          "data": {
            "text/html": [
              ""
            ],
            "text/plain": [
              "<IPython.core.display.HTML object>"
            ]
          },
          "metadata": {
            "tags": []
          }
        },
        {
          "output_type": "stream",
          "text": [
            "/usr/local/lib/python3.7/dist-packages/numpy/core/_asarray.py:83: VisibleDeprecationWarning: Creating an ndarray from ragged nested sequences (which is a list-or-tuple of lists-or-tuples-or ndarrays with different lengths or shapes) is deprecated. If you meant to do this, you must specify 'dtype=object' when creating the ndarray\n",
            "  return array(a, dtype, copy=False, order=order)\n"
          ],
          "name": "stderr"
        },
        {
          "output_type": "display_data",
          "data": {
            "text/html": [
              "<table border=\"1\" class=\"dataframe\">\n",
              "  <thead>\n",
              "    <tr style=\"text-align: right;\">\n",
              "      <th></th>\n",
              "      <th>text</th>\n",
              "      <th>category</th>\n",
              "    </tr>\n",
              "  </thead>\n",
              "  <tbody>\n",
              "    <tr>\n",
              "      <th>0</th>\n",
              "      <td>xxbos xxmaj the recent rise of nostalgia in this group , combined with the \\n▁ incredible level of utter bullshit , has prompted me to xxunk \\n▁ through my archives and pull out some of \" the xxmaj best of alt.atheism \" \\n▁ for your reading pleasure . xxmaj i 'll post a couple of these a day \\n▁ unless group xxunk demands that i stop , or i run out of good \\n▁ material . \\n\\n▁ i have n't been particularly careful in the past about saving \\n▁ attributions . i think the following comes from xxmaj john xxup a. xxmaj johnson , \\n▁ but someone correct me if xxmaj i 'm wrong . xxmaj this is probably the longest \\n▁ of my entire collection . \\n\\n▁ xxrep 56 _ \\n\\n\\n▁ xxmaj so that the \\n▁ xxmaj prophecy be \\n▁ xxmaj fulfilled \\n\\n▁ * * * \\n\\n▁ xxmaj in</td>\n",
              "      <td>religion</td>\n",
              "    </tr>\n",
              "    <tr>\n",
              "      <th>1</th>\n",
              "      <td>xxbos xxmaj individual leaders by total points ( final standings ) \\n▁ xxup note : xxmaj games played and points per games not accurate ! ! \\n\\n▁ xxmaj player xxmaj team xxup gp g a xxmaj pts ppg xxmaj xxunk xxup pim + / - \\n\\n▁ m.lemieux xxup pit 59 69 91 160 xxunk 160 38 53 \\n▁ lafontaine xxup buf 82 53 95 148 xxunk 148 63 13 \\n▁ xxmaj oates xxup bos 83 45 97 142 xxunk 142 32 12 \\n▁ xxmaj yzerman xxup det 83 58 79 137 1.65 137 44 33 \\n▁ xxmaj turgeon xxup nyi 80 58 74 132 1.65 132 26 -2 \\n▁ xxmaj selanne xxup win 82 76 56 132 xxunk 132 45 6 \\n▁ xxmaj mogilny xxup buf 75 76 51 127 xxunk 127 40 9 \\n▁ xxmaj gilmour xxup tor 81 32 95 127 xxunk 127 96 32 \\n▁ xxmaj robitaille</td>\n",
              "      <td>sport</td>\n",
              "    </tr>\n",
              "    <tr>\n",
              "      <th>2</th>\n",
              "      <td>xxbos xxrep 13 - cut here xxrep 17 - xxunk hicnet xxmaj medical xxmaj newsletter xxmaj page 13 \\n xxmaj volume 6 , xxmaj number 10 xxmaj april 20 , 1993 \\n\\n▁ xxmaj gonorrhea -- xxmaj colorado , 1985 - 1992 \\n▁ xxrep 32 = \\n▁ xxup source : xxup mmwr 42(14 ) xxup date : xxmaj apr 16 , 1993 \\n\\n▁ xxmaj the number of reported cases of gonorrhea in xxmaj colorado increased xxunk % \\n from 1991 to 1992 after declining steadily during the 1980s . xxmaj in comparison , in \\n the xxmaj united xxmaj states , reported cases of gonorrhea in 1992 continued an overall \\n decreasing trend ( 1 ) . xxmaj this report summarizes an analysis of the increase in \\n gonorrhea in xxmaj colorado in 1992 and characterizes trends in the occurrence of \\n this disease from 1985 through 1992 . \\n▁ xxmaj</td>\n",
              "      <td>medicine</td>\n",
              "    </tr>\n",
              "    <tr>\n",
              "      <th>3</th>\n",
              "      <td>xxbos xxrep 13 - cut here xxrep 17 - \\n xxmaj volume 6 , xxmaj number 10 xxmaj april 20 , 1993 \\n\\n▁ + xxrep 48 - + \\n▁ ! ! \\n▁ ! xxmaj health info - com xxmaj network ! \\n▁ ! xxmaj medical xxmaj newsletter ! \\n▁ + xxrep 48 - + \\n▁ xxmaj editor : xxmaj david xxmaj dodell , xxup d.m.d . \\n▁ xxunk xxmaj north xxunk xxmaj street , xxmaj suite 210 , xxmaj scottsdale , xxmaj arizona xxunk - xxunk xxup usa \\n▁ xxmaj telephone +1 ( 602 ) 860 - 1121 \\n▁ xxup fax +1 ( 602 ) 451 - xxunk \\n\\n xxmaj compilation xxmaj copyright 1993 by xxmaj david xxmaj dodell , xxup d.m.d . xxmaj all rights xxmaj reserved . \\n xxmaj license is hereby granted to xxunk on electronic media for which no \\n fees are charged , so long</td>\n",
              "      <td>medicine</td>\n",
              "    </tr>\n",
              "    <tr>\n",
              "      <th>4</th>\n",
              "      <td>xxbos xxmaj archive - name : atheism / introduction \\n xxmaj alt - atheism - archive - name : introduction \\n xxmaj last - modified : 5 xxmaj april 1993 \\n xxmaj version : 1.2 \\n\\n▁ xxrep 5 - xxup begin xxup pgp xxup signed xxup message xxrep 5 - \\n\\n▁ xxmaj an xxmaj introduction to xxmaj atheism \\n▁ by mathew &lt; mathew@mantis.co.uk &gt; \\n\\n xxmaj this article attempts to provide a general introduction to atheism . xxmaj whilst i \\n have tried to be as neutral as possible regarding contentious issues , you \\n should always remember that this document represents only one viewpoint . i \\n would encourage you to read widely and draw your own conclusions ; some \\n relevant books are listed in a companion article . \\n\\n xxmaj to provide a sense of xxunk and progression , i have presented this article \\n as an</td>\n",
              "      <td>religion</td>\n",
              "    </tr>\n",
              "    <tr>\n",
              "      <th>5</th>\n",
              "      <td>xxbos xxmaj archive - name : atheism / faq \\n xxmaj alt - atheism - archive - name : faq \\n xxmaj last - modified : 5 xxmaj april 1993 \\n xxmaj version : 1.1 \\n\\n▁ alt.atheism frequently - asked xxmaj questions \\n\\n xxmaj this file contains responses to articles which occur repeatedly in \\n alt.atheism . xxmaj points covered here are ones which are not covered in the \\n \" introduction to xxmaj atheism \" ; you are advised to read that article as well \\n before posting . \\n\\n xxmaj these answers are not intended to be exhaustive or definitive . xxmaj the purpose of \\n the periodic xxup faq postings is not to xxunk debate , but to raise its level . xxmaj if \\n you have something to say concerning one of these questions and which is n't \\n covered by the answer given , please</td>\n",
              "      <td>religion</td>\n",
              "    </tr>\n",
              "    <tr>\n",
              "      <th>6</th>\n",
              "      <td>xxbos i posted this several days ago for xxmaj dave xxmaj butler . xxmaj he may have missed it - my \\n xxmaj usenet board has changed a little . xxmaj just in case he missed it , here it is again . \\n\\n\\n xxmaj dave xxmaj butler writes … \\n▁\\n xxmaj from : xxunk ( dave xxmaj butler ) \\n xxmaj subject : xxmaj re : xxup new xxup biblical xxup contradictions [ fallaciously ] xxup answered ( judas ) \\n xxmaj date : xxmaj thu xxmaj apr 1 xxunk 1993 \\n▁\\n \" i can basically restrict this post to showing the type of evidence xxmaj mr decenso \\n has presented , and answering his two questions ( and a couple of his spurious \\n insults and false claims ) . \" \\n▁\\n xxup my xxup reply … \\n xxup o.k . \\n▁\\n xxup db … \\n [ by</td>\n",
              "      <td>religion</td>\n",
              "    </tr>\n",
              "    <tr>\n",
              "      <th>7</th>\n",
              "      <td>xxbos xxmaj archive - name : typing - injury - faq / keyboards \\n xxmaj version : $ revision : xxunk $ $ date : 1993 / 04 / 13 xxunk $ \\n\\n▁ xxrep 79 - \\n▁ xxmaj answers xxmaj to xxmaj frequently xxmaj asked xxmaj questions about xxmaj keyboard xxmaj alternatives \\n▁ xxrep 79 - \\n\\n xxmaj the xxmaj alternative xxmaj keyboard xxup faq \\n xxmaj copyright xxunk xxmaj by xxmaj dan xxmaj wallach &lt; dwallach@cs.berkeley.edu &gt; \\n\\n xxmaj the opinions in here are my own , unless otherwise mentioned , and do not \\n represent the opinions of any organization or vendor . \\n\\n [ current distribution : sci.med.occupational , sci.med , comp.human - factors , \\n▁ { news , sci , xxunk , and e - mail to c+health@iubvm.ucs.indiana.edu , \\n▁ sorehand@vm.ucsf.edu , and xxunk ] \\n\\n xxmaj changes since previously distributed versions are marked with change</td>\n",
              "      <td>medicine</td>\n",
              "    </tr>\n",
              "    <tr>\n",
              "      <th>8</th>\n",
              "      <td>xxbos xxmaj here are the standings after the xxmaj april 6 update . xxmaj i 'll be leaving for xxmaj japan \\n in 1.5 hours , and i wo n't be back until xxmaj april 17 . xxmaj consequently , i will not \\n post the week 27 results until xxmaj april 18 . xxmaj email sent between xxmaj april 13 and \\n xxmaj april 18 will be processed using the numbers available xxmaj april 18 . \\n\\n\\t - xxmaj andrew \\n\\n xxup usenet xxmaj hockey xxmaj draft xxmaj standings \\n xxmaj week 26 \\n\\n xxmaj posn \\t xxmaj team \\t\\t\\t\\t xxmaj pts \\t xxmaj xxunk \\t xxmaj cash \\t xxmaj last xxmaj posn \\n\\n 1 . \\t xxmaj dave xxmaj wessels xxunk \\t xxunk \\t 1.9 \\t ( 1 ) \\n 2 . \\t xxmaj gilles xxmaj carmel xxunk \\t xxunk \\t 56.3 \\t ( 5 ) \\n 3</td>\n",
              "      <td>sport</td>\n",
              "    </tr>\n",
              "    <tr>\n",
              "      <th>9</th>\n",
              "      <td>xxbos xxmaj well , xxmaj i 'm back from xxmaj tokyo , so here are the standings after the xxmaj april 13 update . \\n\\n\\t - xxmaj andrew \\n\\n xxup usenet xxmaj hockey xxmaj draft xxmaj standings \\n xxmaj week 27 \\n\\n xxmaj posn \\t xxmaj team \\t\\t\\t\\t xxmaj pts \\t xxmaj xxunk \\t xxmaj cash \\t xxmaj last xxmaj posn \\n\\n 1 . \\t xxmaj dave xxmaj wessels xxunk \\t xxunk \\t 1.9 \\t ( 1 ) \\n 2 . \\t xxmaj bob xxmaj hill xxunk \\t xxunk \\t 24.0 \\t ( 3 ) \\n 3 . \\t xxmaj gilles xxmaj carmel xxunk \\t xxunk \\t 1.0 \\t ( 2 ) \\n 4 . \\t xxmaj seppo xxmaj kemppainen 1430 \\t xxunk \\t 47.2 \\t ( 5 ) \\n 5 . \\t xxmaj the xxmaj awesome xxmaj oilers 1412 \\t xxunk \\t 68.6 \\t ( 4 ) \\n 6</td>\n",
              "      <td>sport</td>\n",
              "    </tr>\n",
              "  </tbody>\n",
              "</table>"
            ],
            "text/plain": [
              "<IPython.core.display.HTML object>"
            ]
          },
          "metadata": {
            "tags": []
          }
        }
      ]
    },
    {
      "cell_type": "code",
      "metadata": {
        "id": "153fCQjlaosN"
      },
      "source": [
        "learn = text_classifier_learner(dls_class, AWD_LSTM, drop_mult=0.8, metrics=[accuracy_multi,FBetaMulti(beta=1)]).to_fp16()\n",
        "learn.load_encoder('ft_enc_extended')\n",
        "learn.freeze()"
      ],
      "execution_count": 63,
      "outputs": []
    },
    {
      "cell_type": "code",
      "metadata": {
        "id": "X4Phz4hJaosN",
        "colab": {
          "base_uri": "https://localhost:8080/",
          "height": 304
        },
        "outputId": "b446f2e4-1a12-49f8-d4c5-31445eebd4e0"
      },
      "source": [
        "learn.lr_find()"
      ],
      "execution_count": 64,
      "outputs": [
        {
          "output_type": "display_data",
          "data": {
            "text/html": [
              ""
            ],
            "text/plain": [
              "<IPython.core.display.HTML object>"
            ]
          },
          "metadata": {
            "tags": []
          }
        },
        {
          "output_type": "execute_result",
          "data": {
            "text/plain": [
              "SuggestedLRs(lr_min=0.10964782238006592, lr_steep=0.0030199517495930195)"
            ]
          },
          "metadata": {
            "tags": []
          },
          "execution_count": 64
        },
        {
          "output_type": "display_data",
          "data": {
            "image/png": "[encoded data removed]",
            "text/plain": [
              "<Figure size 432x288 with 1 Axes>"
            ]
          },
          "metadata": {
            "tags": [],
            "needs_background": "light"
          }
        }
      ]
    },
    {
      "cell_type": "code",
      "metadata": {
        "id": "C8CJQaLYaosN",
        "colab": {
          "base_uri": "https://localhost:8080/",
          "height": 430
        },
        "outputId": "58cba8fe-6e3b-4dfc-8b9c-8ef3d10e38c2"
      },
      "source": [
        "learn.fit_one_cycle(1, 1e-4)"
      ],
      "execution_count": 65,
      "outputs": [
        {
          "output_type": "display_data",
          "data": {
            "text/html": [
              "\n",
              "    <div>\n",
              "        <style>\n",
              "            /* Turns off some styling */\n",
              "            progress {\n",
              "                /* gets rid of default border in Firefox and Opera. */\n",
              "                border: none;\n",
              "                /* Needs to be in here for Safari polyfill so background images work as expected. */\n",
              "                background-size: auto;\n",
              "            }\n",
              "            .progress-bar-interrupted, .progress-bar-interrupted::-webkit-progress-bar {\n",
              "                background: #F44336;\n",
              "            }\n",
              "        </style>\n",
              "      <progress value='0' class='' max='1' style='width:300px; height:20px; vertical-align: middle;'></progress>\n",
              "      0.00% [0/1 00:00<00:00]\n",
              "    </div>\n",
              "    \n",
              "<table border=\"1\" class=\"dataframe\">\n",
              "  <thead>\n",
              "    <tr style=\"text-align: left;\">\n",
              "      <th>epoch</th>\n",
              "      <th>train_loss</th>\n",
              "      <th>valid_loss</th>\n",
              "      <th>accuracy_multi</th>\n",
              "      <th>fbeta_score</th>\n",
              "      <th>time</th>\n",
              "    </tr>\n",
              "  </thead>\n",
              "  <tbody>\n",
              "  </tbody>\n",
              "</table><p>\n",
              "\n",
              "    <div>\n",
              "        <style>\n",
              "            /* Turns off some styling */\n",
              "            progress {\n",
              "                /* gets rid of default border in Firefox and Opera. */\n",
              "                border: none;\n",
              "                /* Needs to be in here for Safari polyfill so background images work as expected. */\n",
              "                background-size: auto;\n",
              "            }\n",
              "            .progress-bar-interrupted, .progress-bar-interrupted::-webkit-progress-bar {\n",
              "                background: #F44336;\n",
              "            }\n",
              "        </style>\n",
              "      <progress value='0' class='' max='14' style='width:300px; height:20px; vertical-align: middle;'></progress>\n",
              "      0.00% [0/14 00:00<00:00]\n",
              "    </div>\n",
              "    "
            ],
            "text/plain": [
              "<IPython.core.display.HTML object>"
            ]
          },
          "metadata": {
            "tags": []
          }
        },
        {
          "output_type": "error",
          "ename": "AssertionError",
          "evalue": "ignored",
          "traceback": [
            "\u001b[0;31m---------------------------------------------------------------------------\u001b[0m",
            "\u001b[0;31mAssertionError\u001b[0m                            Traceback (most recent call last)",
            "\u001b[0;32m<ipython-input-65-22c6171ecc97>\u001b[0m in \u001b[0;36m<module>\u001b[0;34m()\u001b[0m\n\u001b[0;32m----> 1\u001b[0;31m \u001b[0mlearn\u001b[0m\u001b[0;34m.\u001b[0m\u001b[0mfit_one_cycle\u001b[0m\u001b[0;34m(\u001b[0m\u001b[0;36m1\u001b[0m\u001b[0;34m,\u001b[0m \u001b[0;36m1e-4\u001b[0m\u001b[0;34m)\u001b[0m\u001b[0;34m\u001b[0m\u001b[0;34m\u001b[0m\u001b[0m\n\u001b[0m",
            "\u001b[0;32m/usr/local/lib/python3.7/dist-packages/fastai/callback/schedule.py\u001b[0m in \u001b[0;36mfit_one_cycle\u001b[0;34m(self, n_epoch, lr_max, div, div_final, pct_start, wd, moms, cbs, reset_opt)\u001b[0m\n\u001b[1;32m    110\u001b[0m     scheds = {'lr': combined_cos(pct_start, lr_max/div, lr_max, lr_max/div_final),\n\u001b[1;32m    111\u001b[0m               'mom': combined_cos(pct_start, *(self.moms if moms is None else moms))}\n\u001b[0;32m--> 112\u001b[0;31m     \u001b[0mself\u001b[0m\u001b[0;34m.\u001b[0m\u001b[0mfit\u001b[0m\u001b[0;34m(\u001b[0m\u001b[0mn_epoch\u001b[0m\u001b[0;34m,\u001b[0m \u001b[0mcbs\u001b[0m\u001b[0;34m=\u001b[0m\u001b[0mParamScheduler\u001b[0m\u001b[0;34m(\u001b[0m\u001b[0mscheds\u001b[0m\u001b[0;34m)\u001b[0m\u001b[0;34m+\u001b[0m\u001b[0mL\u001b[0m\u001b[0;34m(\u001b[0m\u001b[0mcbs\u001b[0m\u001b[0;34m)\u001b[0m\u001b[0;34m,\u001b[0m \u001b[0mreset_opt\u001b[0m\u001b[0;34m=\u001b[0m\u001b[0mreset_opt\u001b[0m\u001b[0;34m,\u001b[0m \u001b[0mwd\u001b[0m\u001b[0;34m=\u001b[0m\u001b[0mwd\u001b[0m\u001b[0;34m)\u001b[0m\u001b[0;34m\u001b[0m\u001b[0;34m\u001b[0m\u001b[0m\n\u001b[0m\u001b[1;32m    113\u001b[0m \u001b[0;34m\u001b[0m\u001b[0m\n\u001b[1;32m    114\u001b[0m \u001b[0;31m# Cell\u001b[0m\u001b[0;34m\u001b[0m\u001b[0;34m\u001b[0m\u001b[0;34m\u001b[0m\u001b[0m\n",
            "\u001b[0;32m/usr/local/lib/python3.7/dist-packages/fastai/learner.py\u001b[0m in \u001b[0;36mfit\u001b[0;34m(self, n_epoch, lr, wd, cbs, reset_opt)\u001b[0m\n\u001b[1;32m    216\u001b[0m             \u001b[0mself\u001b[0m\u001b[0;34m.\u001b[0m\u001b[0mopt\u001b[0m\u001b[0;34m.\u001b[0m\u001b[0mset_hypers\u001b[0m\u001b[0;34m(\u001b[0m\u001b[0mlr\u001b[0m\u001b[0;34m=\u001b[0m\u001b[0mself\u001b[0m\u001b[0;34m.\u001b[0m\u001b[0mlr\u001b[0m \u001b[0;32mif\u001b[0m \u001b[0mlr\u001b[0m \u001b[0;32mis\u001b[0m \u001b[0;32mNone\u001b[0m \u001b[0;32melse\u001b[0m \u001b[0mlr\u001b[0m\u001b[0;34m)\u001b[0m\u001b[0;34m\u001b[0m\u001b[0;34m\u001b[0m\u001b[0m\n\u001b[1;32m    217\u001b[0m             \u001b[0mself\u001b[0m\u001b[0;34m.\u001b[0m\u001b[0mn_epoch\u001b[0m \u001b[0;34m=\u001b[0m \u001b[0mn_epoch\u001b[0m\u001b[0;34m\u001b[0m\u001b[0;34m\u001b[0m\u001b[0m\n\u001b[0;32m--> 218\u001b[0;31m             \u001b[0mself\u001b[0m\u001b[0;34m.\u001b[0m\u001b[0m_with_events\u001b[0m\u001b[0;34m(\u001b[0m\u001b[0mself\u001b[0m\u001b[0;34m.\u001b[0m\u001b[0m_do_fit\u001b[0m\u001b[0;34m,\u001b[0m \u001b[0;34m'fit'\u001b[0m\u001b[0;34m,\u001b[0m \u001b[0mCancelFitException\u001b[0m\u001b[0;34m,\u001b[0m \u001b[0mself\u001b[0m\u001b[0;34m.\u001b[0m\u001b[0m_end_cleanup\u001b[0m\u001b[0;34m)\u001b[0m\u001b[0;34m\u001b[0m\u001b[0;34m\u001b[0m\u001b[0m\n\u001b[0m\u001b[1;32m    219\u001b[0m \u001b[0;34m\u001b[0m\u001b[0m\n\u001b[1;32m    220\u001b[0m     \u001b[0;32mdef\u001b[0m \u001b[0m_end_cleanup\u001b[0m\u001b[0;34m(\u001b[0m\u001b[0mself\u001b[0m\u001b[0;34m)\u001b[0m\u001b[0;34m:\u001b[0m \u001b[0mself\u001b[0m\u001b[0;34m.\u001b[0m\u001b[0mdl\u001b[0m\u001b[0;34m,\u001b[0m\u001b[0mself\u001b[0m\u001b[0;34m.\u001b[0m\u001b[0mxb\u001b[0m\u001b[0;34m,\u001b[0m\u001b[0mself\u001b[0m\u001b[0;34m.\u001b[0m\u001b[0myb\u001b[0m\u001b[0;34m,\u001b[0m\u001b[0mself\u001b[0m\u001b[0;34m.\u001b[0m\u001b[0mpred\u001b[0m\u001b[0;34m,\u001b[0m\u001b[0mself\u001b[0m\u001b[0;34m.\u001b[0m\u001b[0mloss\u001b[0m \u001b[0;34m=\u001b[0m \u001b[0;32mNone\u001b[0m\u001b[0;34m,\u001b[0m\u001b[0;34m(\u001b[0m\u001b[0;32mNone\u001b[0m\u001b[0;34m,\u001b[0m\u001b[0;34m)\u001b[0m\u001b[0;34m,\u001b[0m\u001b[0;34m(\u001b[0m\u001b[0;32mNone\u001b[0m\u001b[0;34m,\u001b[0m\u001b[0;34m)\u001b[0m\u001b[0;34m,\u001b[0m\u001b[0;32mNone\u001b[0m\u001b[0;34m,\u001b[0m\u001b[0;32mNone\u001b[0m\u001b[0;34m\u001b[0m\u001b[0;34m\u001b[0m\u001b[0m\n",
            "\u001b[0;32m/usr/local/lib/python3.7/dist-packages/fastai/learner.py\u001b[0m in \u001b[0;36m_with_events\u001b[0;34m(self, f, event_type, ex, final)\u001b[0m\n\u001b[1;32m    158\u001b[0m \u001b[0;34m\u001b[0m\u001b[0m\n\u001b[1;32m    159\u001b[0m     \u001b[0;32mdef\u001b[0m \u001b[0m_with_events\u001b[0m\u001b[0;34m(\u001b[0m\u001b[0mself\u001b[0m\u001b[0;34m,\u001b[0m \u001b[0mf\u001b[0m\u001b[0;34m,\u001b[0m \u001b[0mevent_type\u001b[0m\u001b[0;34m,\u001b[0m \u001b[0mex\u001b[0m\u001b[0;34m,\u001b[0m \u001b[0mfinal\u001b[0m\u001b[0;34m=\u001b[0m\u001b[0mnoop\u001b[0m\u001b[0;34m)\u001b[0m\u001b[0;34m:\u001b[0m\u001b[0;34m\u001b[0m\u001b[0;34m\u001b[0m\u001b[0m\n\u001b[0;32m--> 160\u001b[0;31m         \u001b[0;32mtry\u001b[0m\u001b[0;34m:\u001b[0m \u001b[0mself\u001b[0m\u001b[0;34m(\u001b[0m\u001b[0;34mf'before_{event_type}'\u001b[0m\u001b[0;34m)\u001b[0m\u001b[0;34m;\u001b[0m  \u001b[0mf\u001b[0m\u001b[0;34m(\u001b[0m\u001b[0;34m)\u001b[0m\u001b[0;34m\u001b[0m\u001b[0;34m\u001b[0m\u001b[0m\n\u001b[0m\u001b[1;32m    161\u001b[0m         \u001b[0;32mexcept\u001b[0m \u001b[0mex\u001b[0m\u001b[0;34m:\u001b[0m \u001b[0mself\u001b[0m\u001b[0;34m(\u001b[0m\u001b[0;34mf'after_cancel_{event_type}'\u001b[0m\u001b[0;34m)\u001b[0m\u001b[0;34m\u001b[0m\u001b[0;34m\u001b[0m\u001b[0m\n\u001b[1;32m    162\u001b[0m         \u001b[0mself\u001b[0m\u001b[0;34m(\u001b[0m\u001b[0;34mf'after_{event_type}'\u001b[0m\u001b[0;34m)\u001b[0m\u001b[0;34m;\u001b[0m  \u001b[0mfinal\u001b[0m\u001b[0;34m(\u001b[0m\u001b[0;34m)\u001b[0m\u001b[0;34m\u001b[0m\u001b[0;34m\u001b[0m\u001b[0m\n",
            "\u001b[0;32m/usr/local/lib/python3.7/dist-packages/fastai/learner.py\u001b[0m in \u001b[0;36m_do_fit\u001b[0;34m(self)\u001b[0m\n\u001b[1;32m    207\u001b[0m         \u001b[0;32mfor\u001b[0m \u001b[0mepoch\u001b[0m \u001b[0;32min\u001b[0m \u001b[0mrange\u001b[0m\u001b[0;34m(\u001b[0m\u001b[0mself\u001b[0m\u001b[0;34m.\u001b[0m\u001b[0mn_epoch\u001b[0m\u001b[0;34m)\u001b[0m\u001b[0;34m:\u001b[0m\u001b[0;34m\u001b[0m\u001b[0;34m\u001b[0m\u001b[0m\n\u001b[1;32m    208\u001b[0m             \u001b[0mself\u001b[0m\u001b[0;34m.\u001b[0m\u001b[0mepoch\u001b[0m\u001b[0;34m=\u001b[0m\u001b[0mepoch\u001b[0m\u001b[0;34m\u001b[0m\u001b[0;34m\u001b[0m\u001b[0m\n\u001b[0;32m--> 209\u001b[0;31m             \u001b[0mself\u001b[0m\u001b[0;34m.\u001b[0m\u001b[0m_with_events\u001b[0m\u001b[0;34m(\u001b[0m\u001b[0mself\u001b[0m\u001b[0;34m.\u001b[0m\u001b[0m_do_epoch\u001b[0m\u001b[0;34m,\u001b[0m \u001b[0;34m'epoch'\u001b[0m\u001b[0;34m,\u001b[0m \u001b[0mCancelEpochException\u001b[0m\u001b[0;34m)\u001b[0m\u001b[0;34m\u001b[0m\u001b[0;34m\u001b[0m\u001b[0m\n\u001b[0m\u001b[1;32m    210\u001b[0m \u001b[0;34m\u001b[0m\u001b[0m\n\u001b[1;32m    211\u001b[0m     \u001b[0;32mdef\u001b[0m \u001b[0mfit\u001b[0m\u001b[0;34m(\u001b[0m\u001b[0mself\u001b[0m\u001b[0;34m,\u001b[0m \u001b[0mn_epoch\u001b[0m\u001b[0;34m,\u001b[0m \u001b[0mlr\u001b[0m\u001b[0;34m=\u001b[0m\u001b[0;32mNone\u001b[0m\u001b[0;34m,\u001b[0m \u001b[0mwd\u001b[0m\u001b[0;34m=\u001b[0m\u001b[0;32mNone\u001b[0m\u001b[0;34m,\u001b[0m \u001b[0mcbs\u001b[0m\u001b[0;34m=\u001b[0m\u001b[0;32mNone\u001b[0m\u001b[0;34m,\u001b[0m \u001b[0mreset_opt\u001b[0m\u001b[0;34m=\u001b[0m\u001b[0;32mFalse\u001b[0m\u001b[0;34m)\u001b[0m\u001b[0;34m:\u001b[0m\u001b[0;34m\u001b[0m\u001b[0;34m\u001b[0m\u001b[0m\n",
            "\u001b[0;32m/usr/local/lib/python3.7/dist-packages/fastai/learner.py\u001b[0m in \u001b[0;36m_with_events\u001b[0;34m(self, f, event_type, ex, final)\u001b[0m\n\u001b[1;32m    158\u001b[0m \u001b[0;34m\u001b[0m\u001b[0m\n\u001b[1;32m    159\u001b[0m     \u001b[0;32mdef\u001b[0m \u001b[0m_with_events\u001b[0m\u001b[0;34m(\u001b[0m\u001b[0mself\u001b[0m\u001b[0;34m,\u001b[0m \u001b[0mf\u001b[0m\u001b[0;34m,\u001b[0m \u001b[0mevent_type\u001b[0m\u001b[0;34m,\u001b[0m \u001b[0mex\u001b[0m\u001b[0;34m,\u001b[0m \u001b[0mfinal\u001b[0m\u001b[0;34m=\u001b[0m\u001b[0mnoop\u001b[0m\u001b[0;34m)\u001b[0m\u001b[0;34m:\u001b[0m\u001b[0;34m\u001b[0m\u001b[0;34m\u001b[0m\u001b[0m\n\u001b[0;32m--> 160\u001b[0;31m         \u001b[0;32mtry\u001b[0m\u001b[0;34m:\u001b[0m \u001b[0mself\u001b[0m\u001b[0;34m(\u001b[0m\u001b[0;34mf'before_{event_type}'\u001b[0m\u001b[0;34m)\u001b[0m\u001b[0;34m;\u001b[0m  \u001b[0mf\u001b[0m\u001b[0;34m(\u001b[0m\u001b[0;34m)\u001b[0m\u001b[0;34m\u001b[0m\u001b[0;34m\u001b[0m\u001b[0m\n\u001b[0m\u001b[1;32m    161\u001b[0m         \u001b[0;32mexcept\u001b[0m \u001b[0mex\u001b[0m\u001b[0;34m:\u001b[0m \u001b[0mself\u001b[0m\u001b[0;34m(\u001b[0m\u001b[0;34mf'after_cancel_{event_type}'\u001b[0m\u001b[0;34m)\u001b[0m\u001b[0;34m\u001b[0m\u001b[0;34m\u001b[0m\u001b[0m\n\u001b[1;32m    162\u001b[0m         \u001b[0mself\u001b[0m\u001b[0;34m(\u001b[0m\u001b[0;34mf'after_{event_type}'\u001b[0m\u001b[0;34m)\u001b[0m\u001b[0;34m;\u001b[0m  \u001b[0mfinal\u001b[0m\u001b[0;34m(\u001b[0m\u001b[0;34m)\u001b[0m\u001b[0;34m\u001b[0m\u001b[0;34m\u001b[0m\u001b[0m\n",
            "\u001b[0;32m/usr/local/lib/python3.7/dist-packages/fastai/learner.py\u001b[0m in \u001b[0;36m_do_epoch\u001b[0;34m(self)\u001b[0m\n\u001b[1;32m    202\u001b[0m     \u001b[0;32mdef\u001b[0m \u001b[0m_do_epoch\u001b[0m\u001b[0;34m(\u001b[0m\u001b[0mself\u001b[0m\u001b[0;34m)\u001b[0m\u001b[0;34m:\u001b[0m\u001b[0;34m\u001b[0m\u001b[0;34m\u001b[0m\u001b[0m\n\u001b[1;32m    203\u001b[0m         \u001b[0mself\u001b[0m\u001b[0;34m.\u001b[0m\u001b[0m_do_epoch_train\u001b[0m\u001b[0;34m(\u001b[0m\u001b[0;34m)\u001b[0m\u001b[0;34m\u001b[0m\u001b[0;34m\u001b[0m\u001b[0m\n\u001b[0;32m--> 204\u001b[0;31m         \u001b[0mself\u001b[0m\u001b[0;34m.\u001b[0m\u001b[0m_do_epoch_validate\u001b[0m\u001b[0;34m(\u001b[0m\u001b[0;34m)\u001b[0m\u001b[0;34m\u001b[0m\u001b[0;34m\u001b[0m\u001b[0m\n\u001b[0m\u001b[1;32m    205\u001b[0m \u001b[0;34m\u001b[0m\u001b[0m\n\u001b[1;32m    206\u001b[0m     \u001b[0;32mdef\u001b[0m \u001b[0m_do_fit\u001b[0m\u001b[0;34m(\u001b[0m\u001b[0mself\u001b[0m\u001b[0;34m)\u001b[0m\u001b[0;34m:\u001b[0m\u001b[0;34m\u001b[0m\u001b[0;34m\u001b[0m\u001b[0m\n",
            "\u001b[0;32m/usr/local/lib/python3.7/dist-packages/fastai/learner.py\u001b[0m in \u001b[0;36m_do_epoch_validate\u001b[0;34m(self, ds_idx, dl)\u001b[0m\n\u001b[1;32m    198\u001b[0m         \u001b[0;32mif\u001b[0m \u001b[0mdl\u001b[0m \u001b[0;32mis\u001b[0m \u001b[0;32mNone\u001b[0m\u001b[0;34m:\u001b[0m \u001b[0mdl\u001b[0m \u001b[0;34m=\u001b[0m \u001b[0mself\u001b[0m\u001b[0;34m.\u001b[0m\u001b[0mdls\u001b[0m\u001b[0;34m[\u001b[0m\u001b[0mds_idx\u001b[0m\u001b[0;34m]\u001b[0m\u001b[0;34m\u001b[0m\u001b[0;34m\u001b[0m\u001b[0m\n\u001b[1;32m    199\u001b[0m         \u001b[0mself\u001b[0m\u001b[0;34m.\u001b[0m\u001b[0mdl\u001b[0m \u001b[0;34m=\u001b[0m \u001b[0mdl\u001b[0m\u001b[0;34m\u001b[0m\u001b[0;34m\u001b[0m\u001b[0m\n\u001b[0;32m--> 200\u001b[0;31m         \u001b[0;32mwith\u001b[0m \u001b[0mtorch\u001b[0m\u001b[0;34m.\u001b[0m\u001b[0mno_grad\u001b[0m\u001b[0;34m(\u001b[0m\u001b[0;34m)\u001b[0m\u001b[0;34m:\u001b[0m \u001b[0mself\u001b[0m\u001b[0;34m.\u001b[0m\u001b[0m_with_events\u001b[0m\u001b[0;34m(\u001b[0m\u001b[0mself\u001b[0m\u001b[0;34m.\u001b[0m\u001b[0mall_batches\u001b[0m\u001b[0;34m,\u001b[0m \u001b[0;34m'validate'\u001b[0m\u001b[0;34m,\u001b[0m \u001b[0mCancelValidException\u001b[0m\u001b[0;34m)\u001b[0m\u001b[0;34m\u001b[0m\u001b[0;34m\u001b[0m\u001b[0m\n\u001b[0m\u001b[1;32m    201\u001b[0m \u001b[0;34m\u001b[0m\u001b[0m\n\u001b[1;32m    202\u001b[0m     \u001b[0;32mdef\u001b[0m \u001b[0m_do_epoch\u001b[0m\u001b[0;34m(\u001b[0m\u001b[0mself\u001b[0m\u001b[0;34m)\u001b[0m\u001b[0;34m:\u001b[0m\u001b[0;34m\u001b[0m\u001b[0;34m\u001b[0m\u001b[0m\n",
            "\u001b[0;32m/usr/local/lib/python3.7/dist-packages/fastai/learner.py\u001b[0m in \u001b[0;36m_with_events\u001b[0;34m(self, f, event_type, ex, final)\u001b[0m\n\u001b[1;32m    158\u001b[0m \u001b[0;34m\u001b[0m\u001b[0m\n\u001b[1;32m    159\u001b[0m     \u001b[0;32mdef\u001b[0m \u001b[0m_with_events\u001b[0m\u001b[0;34m(\u001b[0m\u001b[0mself\u001b[0m\u001b[0;34m,\u001b[0m \u001b[0mf\u001b[0m\u001b[0;34m,\u001b[0m \u001b[0mevent_type\u001b[0m\u001b[0;34m,\u001b[0m \u001b[0mex\u001b[0m\u001b[0;34m,\u001b[0m \u001b[0mfinal\u001b[0m\u001b[0;34m=\u001b[0m\u001b[0mnoop\u001b[0m\u001b[0;34m)\u001b[0m\u001b[0;34m:\u001b[0m\u001b[0;34m\u001b[0m\u001b[0;34m\u001b[0m\u001b[0m\n\u001b[0;32m--> 160\u001b[0;31m         \u001b[0;32mtry\u001b[0m\u001b[0;34m:\u001b[0m \u001b[0mself\u001b[0m\u001b[0;34m(\u001b[0m\u001b[0;34mf'before_{event_type}'\u001b[0m\u001b[0;34m)\u001b[0m\u001b[0;34m;\u001b[0m  \u001b[0mf\u001b[0m\u001b[0;34m(\u001b[0m\u001b[0;34m)\u001b[0m\u001b[0;34m\u001b[0m\u001b[0;34m\u001b[0m\u001b[0m\n\u001b[0m\u001b[1;32m    161\u001b[0m         \u001b[0;32mexcept\u001b[0m \u001b[0mex\u001b[0m\u001b[0;34m:\u001b[0m \u001b[0mself\u001b[0m\u001b[0;34m(\u001b[0m\u001b[0;34mf'after_cancel_{event_type}'\u001b[0m\u001b[0;34m)\u001b[0m\u001b[0;34m\u001b[0m\u001b[0;34m\u001b[0m\u001b[0m\n\u001b[1;32m    162\u001b[0m         \u001b[0mself\u001b[0m\u001b[0;34m(\u001b[0m\u001b[0;34mf'after_{event_type}'\u001b[0m\u001b[0;34m)\u001b[0m\u001b[0;34m;\u001b[0m  \u001b[0mfinal\u001b[0m\u001b[0;34m(\u001b[0m\u001b[0;34m)\u001b[0m\u001b[0;34m\u001b[0m\u001b[0;34m\u001b[0m\u001b[0m\n",
            "\u001b[0;32m/usr/local/lib/python3.7/dist-packages/fastai/learner.py\u001b[0m in \u001b[0;36mall_batches\u001b[0;34m(self)\u001b[0m\n\u001b[1;32m    164\u001b[0m     \u001b[0;32mdef\u001b[0m \u001b[0mall_batches\u001b[0m\u001b[0;34m(\u001b[0m\u001b[0mself\u001b[0m\u001b[0;34m)\u001b[0m\u001b[0;34m:\u001b[0m\u001b[0;34m\u001b[0m\u001b[0;34m\u001b[0m\u001b[0m\n\u001b[1;32m    165\u001b[0m         \u001b[0mself\u001b[0m\u001b[0;34m.\u001b[0m\u001b[0mn_iter\u001b[0m \u001b[0;34m=\u001b[0m \u001b[0mlen\u001b[0m\u001b[0;34m(\u001b[0m\u001b[0mself\u001b[0m\u001b[0;34m.\u001b[0m\u001b[0mdl\u001b[0m\u001b[0;34m)\u001b[0m\u001b[0;34m\u001b[0m\u001b[0;34m\u001b[0m\u001b[0m\n\u001b[0;32m--> 166\u001b[0;31m         \u001b[0;32mfor\u001b[0m \u001b[0mo\u001b[0m \u001b[0;32min\u001b[0m \u001b[0menumerate\u001b[0m\u001b[0;34m(\u001b[0m\u001b[0mself\u001b[0m\u001b[0;34m.\u001b[0m\u001b[0mdl\u001b[0m\u001b[0;34m)\u001b[0m\u001b[0;34m:\u001b[0m \u001b[0mself\u001b[0m\u001b[0;34m.\u001b[0m\u001b[0mone_batch\u001b[0m\u001b[0;34m(\u001b[0m\u001b[0;34m*\u001b[0m\u001b[0mo\u001b[0m\u001b[0;34m)\u001b[0m\u001b[0;34m\u001b[0m\u001b[0;34m\u001b[0m\u001b[0m\n\u001b[0m\u001b[1;32m    167\u001b[0m \u001b[0;34m\u001b[0m\u001b[0m\n\u001b[1;32m    168\u001b[0m     \u001b[0;32mdef\u001b[0m \u001b[0m_do_one_batch\u001b[0m\u001b[0;34m(\u001b[0m\u001b[0mself\u001b[0m\u001b[0;34m)\u001b[0m\u001b[0;34m:\u001b[0m\u001b[0;34m\u001b[0m\u001b[0;34m\u001b[0m\u001b[0m\n",
            "\u001b[0;32m/usr/local/lib/python3.7/dist-packages/fastai/learner.py\u001b[0m in \u001b[0;36mone_batch\u001b[0;34m(self, i, b)\u001b[0m\n\u001b[1;32m    189\u001b[0m         \u001b[0mb\u001b[0m \u001b[0;34m=\u001b[0m \u001b[0mself\u001b[0m\u001b[0;34m.\u001b[0m\u001b[0m_set_device\u001b[0m\u001b[0;34m(\u001b[0m\u001b[0mb\u001b[0m\u001b[0;34m)\u001b[0m\u001b[0;34m\u001b[0m\u001b[0;34m\u001b[0m\u001b[0m\n\u001b[1;32m    190\u001b[0m         \u001b[0mself\u001b[0m\u001b[0;34m.\u001b[0m\u001b[0m_split\u001b[0m\u001b[0;34m(\u001b[0m\u001b[0mb\u001b[0m\u001b[0;34m)\u001b[0m\u001b[0;34m\u001b[0m\u001b[0;34m\u001b[0m\u001b[0m\n\u001b[0;32m--> 191\u001b[0;31m         \u001b[0mself\u001b[0m\u001b[0;34m.\u001b[0m\u001b[0m_with_events\u001b[0m\u001b[0;34m(\u001b[0m\u001b[0mself\u001b[0m\u001b[0;34m.\u001b[0m\u001b[0m_do_one_batch\u001b[0m\u001b[0;34m,\u001b[0m \u001b[0;34m'batch'\u001b[0m\u001b[0;34m,\u001b[0m \u001b[0mCancelBatchException\u001b[0m\u001b[0;34m)\u001b[0m\u001b[0;34m\u001b[0m\u001b[0;34m\u001b[0m\u001b[0m\n\u001b[0m\u001b[1;32m    192\u001b[0m \u001b[0;34m\u001b[0m\u001b[0m\n\u001b[1;32m    193\u001b[0m     \u001b[0;32mdef\u001b[0m \u001b[0m_do_epoch_train\u001b[0m\u001b[0;34m(\u001b[0m\u001b[0mself\u001b[0m\u001b[0;34m)\u001b[0m\u001b[0;34m:\u001b[0m\u001b[0;34m\u001b[0m\u001b[0;34m\u001b[0m\u001b[0m\n",
            "\u001b[0;32m/usr/local/lib/python3.7/dist-packages/fastai/learner.py\u001b[0m in \u001b[0;36m_with_events\u001b[0;34m(self, f, event_type, ex, final)\u001b[0m\n\u001b[1;32m    160\u001b[0m         \u001b[0;32mtry\u001b[0m\u001b[0;34m:\u001b[0m \u001b[0mself\u001b[0m\u001b[0;34m(\u001b[0m\u001b[0;34mf'before_{event_type}'\u001b[0m\u001b[0;34m)\u001b[0m\u001b[0;34m;\u001b[0m  \u001b[0mf\u001b[0m\u001b[0;34m(\u001b[0m\u001b[0;34m)\u001b[0m\u001b[0;34m\u001b[0m\u001b[0;34m\u001b[0m\u001b[0m\n\u001b[1;32m    161\u001b[0m         \u001b[0;32mexcept\u001b[0m \u001b[0mex\u001b[0m\u001b[0;34m:\u001b[0m \u001b[0mself\u001b[0m\u001b[0;34m(\u001b[0m\u001b[0;34mf'after_cancel_{event_type}'\u001b[0m\u001b[0;34m)\u001b[0m\u001b[0;34m\u001b[0m\u001b[0;34m\u001b[0m\u001b[0m\n\u001b[0;32m--> 162\u001b[0;31m         \u001b[0mself\u001b[0m\u001b[0;34m(\u001b[0m\u001b[0;34mf'after_{event_type}'\u001b[0m\u001b[0;34m)\u001b[0m\u001b[0;34m;\u001b[0m  \u001b[0mfinal\u001b[0m\u001b[0;34m(\u001b[0m\u001b[0;34m)\u001b[0m\u001b[0;34m\u001b[0m\u001b[0;34m\u001b[0m\u001b[0m\n\u001b[0m\u001b[1;32m    163\u001b[0m \u001b[0;34m\u001b[0m\u001b[0m\n\u001b[1;32m    164\u001b[0m     \u001b[0;32mdef\u001b[0m \u001b[0mall_batches\u001b[0m\u001b[0;34m(\u001b[0m\u001b[0mself\u001b[0m\u001b[0;34m)\u001b[0m\u001b[0;34m:\u001b[0m\u001b[0;34m\u001b[0m\u001b[0;34m\u001b[0m\u001b[0m\n",
            "\u001b[0;32m/usr/local/lib/python3.7/dist-packages/fastai/learner.py\u001b[0m in \u001b[0;36m__call__\u001b[0;34m(self, event_name)\u001b[0m\n\u001b[1;32m    139\u001b[0m \u001b[0;34m\u001b[0m\u001b[0m\n\u001b[1;32m    140\u001b[0m     \u001b[0;32mdef\u001b[0m \u001b[0mordered_cbs\u001b[0m\u001b[0;34m(\u001b[0m\u001b[0mself\u001b[0m\u001b[0;34m,\u001b[0m \u001b[0mevent\u001b[0m\u001b[0;34m)\u001b[0m\u001b[0;34m:\u001b[0m \u001b[0;32mreturn\u001b[0m \u001b[0;34m[\u001b[0m\u001b[0mcb\u001b[0m \u001b[0;32mfor\u001b[0m \u001b[0mcb\u001b[0m \u001b[0;32min\u001b[0m \u001b[0mself\u001b[0m\u001b[0;34m.\u001b[0m\u001b[0mcbs\u001b[0m\u001b[0;34m.\u001b[0m\u001b[0msorted\u001b[0m\u001b[0;34m(\u001b[0m\u001b[0;34m'order'\u001b[0m\u001b[0;34m)\u001b[0m \u001b[0;32mif\u001b[0m \u001b[0mhasattr\u001b[0m\u001b[0;34m(\u001b[0m\u001b[0mcb\u001b[0m\u001b[0;34m,\u001b[0m \u001b[0mevent\u001b[0m\u001b[0;34m)\u001b[0m\u001b[0;34m]\u001b[0m\u001b[0;34m\u001b[0m\u001b[0;34m\u001b[0m\u001b[0m\n\u001b[0;32m--> 141\u001b[0;31m     \u001b[0;32mdef\u001b[0m \u001b[0m__call__\u001b[0m\u001b[0;34m(\u001b[0m\u001b[0mself\u001b[0m\u001b[0;34m,\u001b[0m \u001b[0mevent_name\u001b[0m\u001b[0;34m)\u001b[0m\u001b[0;34m:\u001b[0m \u001b[0mL\u001b[0m\u001b[0;34m(\u001b[0m\u001b[0mevent_name\u001b[0m\u001b[0;34m)\u001b[0m\u001b[0;34m.\u001b[0m\u001b[0mmap\u001b[0m\u001b[0;34m(\u001b[0m\u001b[0mself\u001b[0m\u001b[0;34m.\u001b[0m\u001b[0m_call_one\u001b[0m\u001b[0;34m)\u001b[0m\u001b[0;34m\u001b[0m\u001b[0;34m\u001b[0m\u001b[0m\n\u001b[0m\u001b[1;32m    142\u001b[0m \u001b[0;34m\u001b[0m\u001b[0m\n\u001b[1;32m    143\u001b[0m     \u001b[0;32mdef\u001b[0m \u001b[0m_call_one\u001b[0m\u001b[0;34m(\u001b[0m\u001b[0mself\u001b[0m\u001b[0;34m,\u001b[0m \u001b[0mevent_name\u001b[0m\u001b[0;34m)\u001b[0m\u001b[0;34m:\u001b[0m\u001b[0;34m\u001b[0m\u001b[0;34m\u001b[0m\u001b[0m\n",
            "\u001b[0;32m/usr/local/lib/python3.7/dist-packages/fastcore/foundation.py\u001b[0m in \u001b[0;36mmap\u001b[0;34m(self, f, gen, *args, **kwargs)\u001b[0m\n\u001b[1;32m    152\u001b[0m     \u001b[0;32mdef\u001b[0m \u001b[0mrange\u001b[0m\u001b[0;34m(\u001b[0m\u001b[0mcls\u001b[0m\u001b[0;34m,\u001b[0m \u001b[0ma\u001b[0m\u001b[0;34m,\u001b[0m \u001b[0mb\u001b[0m\u001b[0;34m=\u001b[0m\u001b[0;32mNone\u001b[0m\u001b[0;34m,\u001b[0m \u001b[0mstep\u001b[0m\u001b[0;34m=\u001b[0m\u001b[0;32mNone\u001b[0m\u001b[0;34m)\u001b[0m\u001b[0;34m:\u001b[0m \u001b[0;32mreturn\u001b[0m \u001b[0mcls\u001b[0m\u001b[0;34m(\u001b[0m\u001b[0mrange_of\u001b[0m\u001b[0;34m(\u001b[0m\u001b[0ma\u001b[0m\u001b[0;34m,\u001b[0m \u001b[0mb\u001b[0m\u001b[0;34m=\u001b[0m\u001b[0mb\u001b[0m\u001b[0;34m,\u001b[0m \u001b[0mstep\u001b[0m\u001b[0;34m=\u001b[0m\u001b[0mstep\u001b[0m\u001b[0;34m)\u001b[0m\u001b[0;34m)\u001b[0m\u001b[0;34m\u001b[0m\u001b[0;34m\u001b[0m\u001b[0m\n\u001b[1;32m    153\u001b[0m \u001b[0;34m\u001b[0m\u001b[0m\n\u001b[0;32m--> 154\u001b[0;31m     \u001b[0;32mdef\u001b[0m \u001b[0mmap\u001b[0m\u001b[0;34m(\u001b[0m\u001b[0mself\u001b[0m\u001b[0;34m,\u001b[0m \u001b[0mf\u001b[0m\u001b[0;34m,\u001b[0m \u001b[0;34m*\u001b[0m\u001b[0margs\u001b[0m\u001b[0;34m,\u001b[0m \u001b[0mgen\u001b[0m\u001b[0;34m=\u001b[0m\u001b[0;32mFalse\u001b[0m\u001b[0;34m,\u001b[0m \u001b[0;34m**\u001b[0m\u001b[0mkwargs\u001b[0m\u001b[0;34m)\u001b[0m\u001b[0;34m:\u001b[0m \u001b[0;32mreturn\u001b[0m \u001b[0mself\u001b[0m\u001b[0;34m.\u001b[0m\u001b[0m_new\u001b[0m\u001b[0;34m(\u001b[0m\u001b[0mmap_ex\u001b[0m\u001b[0;34m(\u001b[0m\u001b[0mself\u001b[0m\u001b[0;34m,\u001b[0m \u001b[0mf\u001b[0m\u001b[0;34m,\u001b[0m \u001b[0;34m*\u001b[0m\u001b[0margs\u001b[0m\u001b[0;34m,\u001b[0m \u001b[0mgen\u001b[0m\u001b[0;34m=\u001b[0m\u001b[0mgen\u001b[0m\u001b[0;34m,\u001b[0m \u001b[0;34m**\u001b[0m\u001b[0mkwargs\u001b[0m\u001b[0;34m)\u001b[0m\u001b[0;34m)\u001b[0m\u001b[0;34m\u001b[0m\u001b[0;34m\u001b[0m\u001b[0m\n\u001b[0m\u001b[1;32m    155\u001b[0m     \u001b[0;32mdef\u001b[0m \u001b[0margwhere\u001b[0m\u001b[0;34m(\u001b[0m\u001b[0mself\u001b[0m\u001b[0;34m,\u001b[0m \u001b[0mf\u001b[0m\u001b[0;34m,\u001b[0m \u001b[0mnegate\u001b[0m\u001b[0;34m=\u001b[0m\u001b[0;32mFalse\u001b[0m\u001b[0;34m,\u001b[0m \u001b[0;34m**\u001b[0m\u001b[0mkwargs\u001b[0m\u001b[0;34m)\u001b[0m\u001b[0;34m:\u001b[0m \u001b[0;32mreturn\u001b[0m \u001b[0mself\u001b[0m\u001b[0;34m.\u001b[0m\u001b[0m_new\u001b[0m\u001b[0;34m(\u001b[0m\u001b[0margwhere\u001b[0m\u001b[0;34m(\u001b[0m\u001b[0mself\u001b[0m\u001b[0;34m,\u001b[0m \u001b[0mf\u001b[0m\u001b[0;34m,\u001b[0m \u001b[0mnegate\u001b[0m\u001b[0;34m,\u001b[0m \u001b[0;34m**\u001b[0m\u001b[0mkwargs\u001b[0m\u001b[0;34m)\u001b[0m\u001b[0;34m)\u001b[0m\u001b[0;34m\u001b[0m\u001b[0;34m\u001b[0m\u001b[0m\n\u001b[1;32m    156\u001b[0m     \u001b[0;32mdef\u001b[0m \u001b[0mfilter\u001b[0m\u001b[0;34m(\u001b[0m\u001b[0mself\u001b[0m\u001b[0;34m,\u001b[0m \u001b[0mf\u001b[0m\u001b[0;34m=\u001b[0m\u001b[0mnoop\u001b[0m\u001b[0;34m,\u001b[0m \u001b[0mnegate\u001b[0m\u001b[0;34m=\u001b[0m\u001b[0;32mFalse\u001b[0m\u001b[0;34m,\u001b[0m \u001b[0mgen\u001b[0m\u001b[0;34m=\u001b[0m\u001b[0;32mFalse\u001b[0m\u001b[0;34m,\u001b[0m \u001b[0;34m**\u001b[0m\u001b[0mkwargs\u001b[0m\u001b[0;34m)\u001b[0m\u001b[0;34m:\u001b[0m\u001b[0;34m\u001b[0m\u001b[0;34m\u001b[0m\u001b[0m\n",
            "\u001b[0;32m/usr/local/lib/python3.7/dist-packages/fastcore/basics.py\u001b[0m in \u001b[0;36mmap_ex\u001b[0;34m(iterable, f, gen, *args, **kwargs)\u001b[0m\n\u001b[1;32m    664\u001b[0m     \u001b[0mres\u001b[0m \u001b[0;34m=\u001b[0m \u001b[0mmap\u001b[0m\u001b[0;34m(\u001b[0m\u001b[0mg\u001b[0m\u001b[0;34m,\u001b[0m \u001b[0miterable\u001b[0m\u001b[0;34m)\u001b[0m\u001b[0;34m\u001b[0m\u001b[0;34m\u001b[0m\u001b[0m\n\u001b[1;32m    665\u001b[0m     \u001b[0;32mif\u001b[0m \u001b[0mgen\u001b[0m\u001b[0;34m:\u001b[0m \u001b[0;32mreturn\u001b[0m \u001b[0mres\u001b[0m\u001b[0;34m\u001b[0m\u001b[0;34m\u001b[0m\u001b[0m\n\u001b[0;32m--> 666\u001b[0;31m     \u001b[0;32mreturn\u001b[0m \u001b[0mlist\u001b[0m\u001b[0;34m(\u001b[0m\u001b[0mres\u001b[0m\u001b[0;34m)\u001b[0m\u001b[0;34m\u001b[0m\u001b[0;34m\u001b[0m\u001b[0m\n\u001b[0m\u001b[1;32m    667\u001b[0m \u001b[0;34m\u001b[0m\u001b[0m\n\u001b[1;32m    668\u001b[0m \u001b[0;31m# Cell\u001b[0m\u001b[0;34m\u001b[0m\u001b[0;34m\u001b[0m\u001b[0;34m\u001b[0m\u001b[0m\n",
            "\u001b[0;32m/usr/local/lib/python3.7/dist-packages/fastcore/basics.py\u001b[0m in \u001b[0;36m__call__\u001b[0;34m(self, *args, **kwargs)\u001b[0m\n\u001b[1;32m    649\u001b[0m             \u001b[0;32mif\u001b[0m \u001b[0misinstance\u001b[0m\u001b[0;34m(\u001b[0m\u001b[0mv\u001b[0m\u001b[0;34m,\u001b[0m\u001b[0m_Arg\u001b[0m\u001b[0;34m)\u001b[0m\u001b[0;34m:\u001b[0m \u001b[0mkwargs\u001b[0m\u001b[0;34m[\u001b[0m\u001b[0mk\u001b[0m\u001b[0;34m]\u001b[0m \u001b[0;34m=\u001b[0m \u001b[0margs\u001b[0m\u001b[0;34m.\u001b[0m\u001b[0mpop\u001b[0m\u001b[0;34m(\u001b[0m\u001b[0mv\u001b[0m\u001b[0;34m.\u001b[0m\u001b[0mi\u001b[0m\u001b[0;34m)\u001b[0m\u001b[0;34m\u001b[0m\u001b[0;34m\u001b[0m\u001b[0m\n\u001b[1;32m    650\u001b[0m         \u001b[0mfargs\u001b[0m \u001b[0;34m=\u001b[0m \u001b[0;34m[\u001b[0m\u001b[0margs\u001b[0m\u001b[0;34m[\u001b[0m\u001b[0mx\u001b[0m\u001b[0;34m.\u001b[0m\u001b[0mi\u001b[0m\u001b[0;34m]\u001b[0m \u001b[0;32mif\u001b[0m \u001b[0misinstance\u001b[0m\u001b[0;34m(\u001b[0m\u001b[0mx\u001b[0m\u001b[0;34m,\u001b[0m \u001b[0m_Arg\u001b[0m\u001b[0;34m)\u001b[0m \u001b[0;32melse\u001b[0m \u001b[0mx\u001b[0m \u001b[0;32mfor\u001b[0m \u001b[0mx\u001b[0m \u001b[0;32min\u001b[0m \u001b[0mself\u001b[0m\u001b[0;34m.\u001b[0m\u001b[0mpargs\u001b[0m\u001b[0;34m]\u001b[0m \u001b[0;34m+\u001b[0m \u001b[0margs\u001b[0m\u001b[0;34m[\u001b[0m\u001b[0mself\u001b[0m\u001b[0;34m.\u001b[0m\u001b[0mmaxi\u001b[0m\u001b[0;34m+\u001b[0m\u001b[0;36m1\u001b[0m\u001b[0;34m:\u001b[0m\u001b[0;34m]\u001b[0m\u001b[0;34m\u001b[0m\u001b[0;34m\u001b[0m\u001b[0m\n\u001b[0;32m--> 651\u001b[0;31m         \u001b[0;32mreturn\u001b[0m \u001b[0mself\u001b[0m\u001b[0;34m.\u001b[0m\u001b[0mfunc\u001b[0m\u001b[0;34m(\u001b[0m\u001b[0;34m*\u001b[0m\u001b[0mfargs\u001b[0m\u001b[0;34m,\u001b[0m \u001b[0;34m**\u001b[0m\u001b[0mkwargs\u001b[0m\u001b[0;34m)\u001b[0m\u001b[0;34m\u001b[0m\u001b[0;34m\u001b[0m\u001b[0m\n\u001b[0m\u001b[1;32m    652\u001b[0m \u001b[0;34m\u001b[0m\u001b[0m\n\u001b[1;32m    653\u001b[0m \u001b[0;31m# Cell\u001b[0m\u001b[0;34m\u001b[0m\u001b[0;34m\u001b[0m\u001b[0;34m\u001b[0m\u001b[0m\n",
            "\u001b[0;32m/usr/local/lib/python3.7/dist-packages/fastai/learner.py\u001b[0m in \u001b[0;36m_call_one\u001b[0;34m(self, event_name)\u001b[0m\n\u001b[1;32m    143\u001b[0m     \u001b[0;32mdef\u001b[0m \u001b[0m_call_one\u001b[0m\u001b[0;34m(\u001b[0m\u001b[0mself\u001b[0m\u001b[0;34m,\u001b[0m \u001b[0mevent_name\u001b[0m\u001b[0;34m)\u001b[0m\u001b[0;34m:\u001b[0m\u001b[0;34m\u001b[0m\u001b[0;34m\u001b[0m\u001b[0m\n\u001b[1;32m    144\u001b[0m         \u001b[0;32mif\u001b[0m \u001b[0;32mnot\u001b[0m \u001b[0mhasattr\u001b[0m\u001b[0;34m(\u001b[0m\u001b[0mevent\u001b[0m\u001b[0;34m,\u001b[0m \u001b[0mevent_name\u001b[0m\u001b[0;34m)\u001b[0m\u001b[0;34m:\u001b[0m \u001b[0;32mraise\u001b[0m \u001b[0mException\u001b[0m\u001b[0;34m(\u001b[0m\u001b[0;34mf'missing {event_name}'\u001b[0m\u001b[0;34m)\u001b[0m\u001b[0;34m\u001b[0m\u001b[0;34m\u001b[0m\u001b[0m\n\u001b[0;32m--> 145\u001b[0;31m         \u001b[0;32mfor\u001b[0m \u001b[0mcb\u001b[0m \u001b[0;32min\u001b[0m \u001b[0mself\u001b[0m\u001b[0;34m.\u001b[0m\u001b[0mcbs\u001b[0m\u001b[0;34m.\u001b[0m\u001b[0msorted\u001b[0m\u001b[0;34m(\u001b[0m\u001b[0;34m'order'\u001b[0m\u001b[0;34m)\u001b[0m\u001b[0;34m:\u001b[0m \u001b[0mcb\u001b[0m\u001b[0;34m(\u001b[0m\u001b[0mevent_name\u001b[0m\u001b[0;34m)\u001b[0m\u001b[0;34m\u001b[0m\u001b[0;34m\u001b[0m\u001b[0m\n\u001b[0m\u001b[1;32m    146\u001b[0m \u001b[0;34m\u001b[0m\u001b[0m\n\u001b[1;32m    147\u001b[0m     \u001b[0;32mdef\u001b[0m \u001b[0m_bn_bias_state\u001b[0m\u001b[0;34m(\u001b[0m\u001b[0mself\u001b[0m\u001b[0;34m,\u001b[0m \u001b[0mwith_bias\u001b[0m\u001b[0;34m)\u001b[0m\u001b[0;34m:\u001b[0m \u001b[0;32mreturn\u001b[0m \u001b[0mnorm_bias_params\u001b[0m\u001b[0;34m(\u001b[0m\u001b[0mself\u001b[0m\u001b[0;34m.\u001b[0m\u001b[0mmodel\u001b[0m\u001b[0;34m,\u001b[0m \u001b[0mwith_bias\u001b[0m\u001b[0;34m)\u001b[0m\u001b[0;34m.\u001b[0m\u001b[0mmap\u001b[0m\u001b[0;34m(\u001b[0m\u001b[0mself\u001b[0m\u001b[0;34m.\u001b[0m\u001b[0mopt\u001b[0m\u001b[0;34m.\u001b[0m\u001b[0mstate\u001b[0m\u001b[0;34m)\u001b[0m\u001b[0;34m\u001b[0m\u001b[0;34m\u001b[0m\u001b[0m\n",
            "\u001b[0;32m/usr/local/lib/python3.7/dist-packages/fastai/callback/core.py\u001b[0m in \u001b[0;36m__call__\u001b[0;34m(self, event_name)\u001b[0m\n\u001b[1;32m     42\u001b[0m                (self.run_valid and not getattr(self, 'training', False)))\n\u001b[1;32m     43\u001b[0m         \u001b[0mres\u001b[0m \u001b[0;34m=\u001b[0m \u001b[0;32mNone\u001b[0m\u001b[0;34m\u001b[0m\u001b[0;34m\u001b[0m\u001b[0m\n\u001b[0;32m---> 44\u001b[0;31m         \u001b[0;32mif\u001b[0m \u001b[0mself\u001b[0m\u001b[0;34m.\u001b[0m\u001b[0mrun\u001b[0m \u001b[0;32mand\u001b[0m \u001b[0m_run\u001b[0m\u001b[0;34m:\u001b[0m \u001b[0mres\u001b[0m \u001b[0;34m=\u001b[0m \u001b[0mgetattr\u001b[0m\u001b[0;34m(\u001b[0m\u001b[0mself\u001b[0m\u001b[0;34m,\u001b[0m \u001b[0mevent_name\u001b[0m\u001b[0;34m,\u001b[0m \u001b[0mnoop\u001b[0m\u001b[0;34m)\u001b[0m\u001b[0;34m(\u001b[0m\u001b[0;34m)\u001b[0m\u001b[0;34m\u001b[0m\u001b[0;34m\u001b[0m\u001b[0m\n\u001b[0m\u001b[1;32m     45\u001b[0m         \u001b[0;32mif\u001b[0m \u001b[0mevent_name\u001b[0m\u001b[0;34m==\u001b[0m\u001b[0;34m'after_fit'\u001b[0m\u001b[0;34m:\u001b[0m \u001b[0mself\u001b[0m\u001b[0;34m.\u001b[0m\u001b[0mrun\u001b[0m\u001b[0;34m=\u001b[0m\u001b[0;32mTrue\u001b[0m \u001b[0;31m#Reset self.run to True at each end of fit\u001b[0m\u001b[0;34m\u001b[0m\u001b[0;34m\u001b[0m\u001b[0m\n\u001b[1;32m     46\u001b[0m         \u001b[0;32mreturn\u001b[0m \u001b[0mres\u001b[0m\u001b[0;34m\u001b[0m\u001b[0;34m\u001b[0m\u001b[0m\n",
            "\u001b[0;32m/usr/local/lib/python3.7/dist-packages/fastai/learner.py\u001b[0m in \u001b[0;36mafter_batch\u001b[0;34m(self)\u001b[0m\n\u001b[1;32m    499\u001b[0m         \u001b[0;32mif\u001b[0m \u001b[0mlen\u001b[0m\u001b[0;34m(\u001b[0m\u001b[0mself\u001b[0m\u001b[0;34m.\u001b[0m\u001b[0myb\u001b[0m\u001b[0;34m)\u001b[0m \u001b[0;34m==\u001b[0m \u001b[0;36m0\u001b[0m\u001b[0;34m:\u001b[0m \u001b[0;32mreturn\u001b[0m\u001b[0;34m\u001b[0m\u001b[0;34m\u001b[0m\u001b[0m\n\u001b[1;32m    500\u001b[0m         \u001b[0mmets\u001b[0m \u001b[0;34m=\u001b[0m \u001b[0mself\u001b[0m\u001b[0;34m.\u001b[0m\u001b[0m_train_mets\u001b[0m \u001b[0;32mif\u001b[0m \u001b[0mself\u001b[0m\u001b[0;34m.\u001b[0m\u001b[0mtraining\u001b[0m \u001b[0;32melse\u001b[0m \u001b[0mself\u001b[0m\u001b[0;34m.\u001b[0m\u001b[0m_valid_mets\u001b[0m\u001b[0;34m\u001b[0m\u001b[0;34m\u001b[0m\u001b[0m\n\u001b[0;32m--> 501\u001b[0;31m         \u001b[0;32mfor\u001b[0m \u001b[0mmet\u001b[0m \u001b[0;32min\u001b[0m \u001b[0mmets\u001b[0m\u001b[0;34m:\u001b[0m \u001b[0mmet\u001b[0m\u001b[0;34m.\u001b[0m\u001b[0maccumulate\u001b[0m\u001b[0;34m(\u001b[0m\u001b[0mself\u001b[0m\u001b[0;34m.\u001b[0m\u001b[0mlearn\u001b[0m\u001b[0;34m)\u001b[0m\u001b[0;34m\u001b[0m\u001b[0;34m\u001b[0m\u001b[0m\n\u001b[0m\u001b[1;32m    502\u001b[0m         \u001b[0;32mif\u001b[0m \u001b[0;32mnot\u001b[0m \u001b[0mself\u001b[0m\u001b[0;34m.\u001b[0m\u001b[0mtraining\u001b[0m\u001b[0;34m:\u001b[0m \u001b[0;32mreturn\u001b[0m\u001b[0;34m\u001b[0m\u001b[0;34m\u001b[0m\u001b[0m\n\u001b[1;32m    503\u001b[0m         \u001b[0mself\u001b[0m\u001b[0;34m.\u001b[0m\u001b[0mlrs\u001b[0m\u001b[0;34m.\u001b[0m\u001b[0mappend\u001b[0m\u001b[0;34m(\u001b[0m\u001b[0mself\u001b[0m\u001b[0;34m.\u001b[0m\u001b[0mopt\u001b[0m\u001b[0;34m.\u001b[0m\u001b[0mhypers\u001b[0m\u001b[0;34m[\u001b[0m\u001b[0;34m-\u001b[0m\u001b[0;36m1\u001b[0m\u001b[0;34m]\u001b[0m\u001b[0;34m[\u001b[0m\u001b[0;34m'lr'\u001b[0m\u001b[0;34m]\u001b[0m\u001b[0;34m)\u001b[0m\u001b[0;34m\u001b[0m\u001b[0;34m\u001b[0m\u001b[0m\n",
            "\u001b[0;32m/usr/local/lib/python3.7/dist-packages/fastai/learner.py\u001b[0m in \u001b[0;36maccumulate\u001b[0;34m(self, learn)\u001b[0m\n\u001b[1;32m    421\u001b[0m     \u001b[0;32mdef\u001b[0m \u001b[0maccumulate\u001b[0m\u001b[0;34m(\u001b[0m\u001b[0mself\u001b[0m\u001b[0;34m,\u001b[0m \u001b[0mlearn\u001b[0m\u001b[0;34m)\u001b[0m\u001b[0;34m:\u001b[0m\u001b[0;34m\u001b[0m\u001b[0;34m\u001b[0m\u001b[0m\n\u001b[1;32m    422\u001b[0m         \u001b[0mbs\u001b[0m \u001b[0;34m=\u001b[0m \u001b[0mfind_bs\u001b[0m\u001b[0;34m(\u001b[0m\u001b[0mlearn\u001b[0m\u001b[0;34m.\u001b[0m\u001b[0myb\u001b[0m\u001b[0;34m)\u001b[0m\u001b[0;34m\u001b[0m\u001b[0;34m\u001b[0m\u001b[0m\n\u001b[0;32m--> 423\u001b[0;31m         \u001b[0mself\u001b[0m\u001b[0;34m.\u001b[0m\u001b[0mtotal\u001b[0m \u001b[0;34m+=\u001b[0m \u001b[0mlearn\u001b[0m\u001b[0;34m.\u001b[0m\u001b[0mto_detach\u001b[0m\u001b[0;34m(\u001b[0m\u001b[0mself\u001b[0m\u001b[0;34m.\u001b[0m\u001b[0mfunc\u001b[0m\u001b[0;34m(\u001b[0m\u001b[0mlearn\u001b[0m\u001b[0;34m.\u001b[0m\u001b[0mpred\u001b[0m\u001b[0;34m,\u001b[0m \u001b[0;34m*\u001b[0m\u001b[0mlearn\u001b[0m\u001b[0;34m.\u001b[0m\u001b[0myb\u001b[0m\u001b[0;34m)\u001b[0m\u001b[0;34m)\u001b[0m\u001b[0;34m*\u001b[0m\u001b[0mbs\u001b[0m\u001b[0;34m\u001b[0m\u001b[0;34m\u001b[0m\u001b[0m\n\u001b[0m\u001b[1;32m    424\u001b[0m         \u001b[0mself\u001b[0m\u001b[0;34m.\u001b[0m\u001b[0mcount\u001b[0m \u001b[0;34m+=\u001b[0m \u001b[0mbs\u001b[0m\u001b[0;34m\u001b[0m\u001b[0;34m\u001b[0m\u001b[0m\n\u001b[1;32m    425\u001b[0m     \u001b[0;34m@\u001b[0m\u001b[0mproperty\u001b[0m\u001b[0;34m\u001b[0m\u001b[0;34m\u001b[0m\u001b[0m\n",
            "\u001b[0;32m/usr/local/lib/python3.7/dist-packages/fastai/metrics.py\u001b[0m in \u001b[0;36maccuracy_multi\u001b[0;34m(inp, targ, thresh, sigmoid)\u001b[0m\n\u001b[1;32m    203\u001b[0m \u001b[0;32mdef\u001b[0m \u001b[0maccuracy_multi\u001b[0m\u001b[0;34m(\u001b[0m\u001b[0minp\u001b[0m\u001b[0;34m,\u001b[0m \u001b[0mtarg\u001b[0m\u001b[0;34m,\u001b[0m \u001b[0mthresh\u001b[0m\u001b[0;34m=\u001b[0m\u001b[0;36m0.5\u001b[0m\u001b[0;34m,\u001b[0m \u001b[0msigmoid\u001b[0m\u001b[0;34m=\u001b[0m\u001b[0;32mTrue\u001b[0m\u001b[0;34m)\u001b[0m\u001b[0;34m:\u001b[0m\u001b[0;34m\u001b[0m\u001b[0;34m\u001b[0m\u001b[0m\n\u001b[1;32m    204\u001b[0m     \u001b[0;34m\"Compute accuracy when `inp` and `targ` are the same size.\"\u001b[0m\u001b[0;34m\u001b[0m\u001b[0;34m\u001b[0m\u001b[0m\n\u001b[0;32m--> 205\u001b[0;31m     \u001b[0minp\u001b[0m\u001b[0;34m,\u001b[0m\u001b[0mtarg\u001b[0m \u001b[0;34m=\u001b[0m \u001b[0mflatten_check\u001b[0m\u001b[0;34m(\u001b[0m\u001b[0minp\u001b[0m\u001b[0;34m,\u001b[0m\u001b[0mtarg\u001b[0m\u001b[0;34m)\u001b[0m\u001b[0;34m\u001b[0m\u001b[0;34m\u001b[0m\u001b[0m\n\u001b[0m\u001b[1;32m    206\u001b[0m     \u001b[0;32mif\u001b[0m \u001b[0msigmoid\u001b[0m\u001b[0;34m:\u001b[0m \u001b[0minp\u001b[0m \u001b[0;34m=\u001b[0m \u001b[0minp\u001b[0m\u001b[0;34m.\u001b[0m\u001b[0msigmoid\u001b[0m\u001b[0;34m(\u001b[0m\u001b[0;34m)\u001b[0m\u001b[0;34m\u001b[0m\u001b[0;34m\u001b[0m\u001b[0m\n\u001b[1;32m    207\u001b[0m     \u001b[0;32mreturn\u001b[0m \u001b[0;34m(\u001b[0m\u001b[0;34m(\u001b[0m\u001b[0minp\u001b[0m\u001b[0;34m>\u001b[0m\u001b[0mthresh\u001b[0m\u001b[0;34m)\u001b[0m\u001b[0;34m==\u001b[0m\u001b[0mtarg\u001b[0m\u001b[0;34m.\u001b[0m\u001b[0mbool\u001b[0m\u001b[0;34m(\u001b[0m\u001b[0;34m)\u001b[0m\u001b[0;34m)\u001b[0m\u001b[0;34m.\u001b[0m\u001b[0mfloat\u001b[0m\u001b[0;34m(\u001b[0m\u001b[0;34m)\u001b[0m\u001b[0;34m.\u001b[0m\u001b[0mmean\u001b[0m\u001b[0;34m(\u001b[0m\u001b[0;34m)\u001b[0m\u001b[0;34m\u001b[0m\u001b[0;34m\u001b[0m\u001b[0m\n",
            "\u001b[0;32m/usr/local/lib/python3.7/dist-packages/fastai/torch_core.py\u001b[0m in \u001b[0;36mflatten_check\u001b[0;34m(inp, targ)\u001b[0m\n\u001b[1;32m    802\u001b[0m     \u001b[0;34m\"Check that `out` and `targ` have the same number of elements and flatten them.\"\u001b[0m\u001b[0;34m\u001b[0m\u001b[0;34m\u001b[0m\u001b[0m\n\u001b[1;32m    803\u001b[0m     \u001b[0minp\u001b[0m\u001b[0;34m,\u001b[0m\u001b[0mtarg\u001b[0m \u001b[0;34m=\u001b[0m \u001b[0mTensorBase\u001b[0m\u001b[0;34m(\u001b[0m\u001b[0minp\u001b[0m\u001b[0;34m.\u001b[0m\u001b[0mcontiguous\u001b[0m\u001b[0;34m(\u001b[0m\u001b[0;34m)\u001b[0m\u001b[0;34m)\u001b[0m\u001b[0;34m.\u001b[0m\u001b[0mview\u001b[0m\u001b[0;34m(\u001b[0m\u001b[0;34m-\u001b[0m\u001b[0;36m1\u001b[0m\u001b[0;34m)\u001b[0m\u001b[0;34m,\u001b[0m\u001b[0mTensorBase\u001b[0m\u001b[0;34m(\u001b[0m\u001b[0mtarg\u001b[0m\u001b[0;34m.\u001b[0m\u001b[0mcontiguous\u001b[0m\u001b[0;34m(\u001b[0m\u001b[0;34m)\u001b[0m\u001b[0;34m)\u001b[0m\u001b[0;34m.\u001b[0m\u001b[0mview\u001b[0m\u001b[0;34m(\u001b[0m\u001b[0;34m-\u001b[0m\u001b[0;36m1\u001b[0m\u001b[0;34m)\u001b[0m\u001b[0;34m\u001b[0m\u001b[0;34m\u001b[0m\u001b[0m\n\u001b[0;32m--> 804\u001b[0;31m     \u001b[0mtest_eq\u001b[0m\u001b[0;34m(\u001b[0m\u001b[0mlen\u001b[0m\u001b[0;34m(\u001b[0m\u001b[0minp\u001b[0m\u001b[0;34m)\u001b[0m\u001b[0;34m,\u001b[0m \u001b[0mlen\u001b[0m\u001b[0;34m(\u001b[0m\u001b[0mtarg\u001b[0m\u001b[0;34m)\u001b[0m\u001b[0;34m)\u001b[0m\u001b[0;34m\u001b[0m\u001b[0;34m\u001b[0m\u001b[0m\n\u001b[0m\u001b[1;32m    805\u001b[0m     \u001b[0;32mreturn\u001b[0m \u001b[0minp\u001b[0m\u001b[0;34m,\u001b[0m\u001b[0mtarg\u001b[0m\u001b[0;34m\u001b[0m\u001b[0;34m\u001b[0m\u001b[0m\n",
            "\u001b[0;32m/usr/local/lib/python3.7/dist-packages/fastcore/test.py\u001b[0m in \u001b[0;36mtest_eq\u001b[0;34m(a, b)\u001b[0m\n\u001b[1;32m     34\u001b[0m \u001b[0;32mdef\u001b[0m \u001b[0mtest_eq\u001b[0m\u001b[0;34m(\u001b[0m\u001b[0ma\u001b[0m\u001b[0;34m,\u001b[0m\u001b[0mb\u001b[0m\u001b[0;34m)\u001b[0m\u001b[0;34m:\u001b[0m\u001b[0;34m\u001b[0m\u001b[0;34m\u001b[0m\u001b[0m\n\u001b[1;32m     35\u001b[0m     \u001b[0;34m\"`test` that `a==b`\"\u001b[0m\u001b[0;34m\u001b[0m\u001b[0;34m\u001b[0m\u001b[0m\n\u001b[0;32m---> 36\u001b[0;31m     \u001b[0mtest\u001b[0m\u001b[0;34m(\u001b[0m\u001b[0ma\u001b[0m\u001b[0;34m,\u001b[0m\u001b[0mb\u001b[0m\u001b[0;34m,\u001b[0m\u001b[0mequals\u001b[0m\u001b[0;34m,\u001b[0m \u001b[0;34m'=='\u001b[0m\u001b[0;34m)\u001b[0m\u001b[0;34m\u001b[0m\u001b[0;34m\u001b[0m\u001b[0m\n\u001b[0m\u001b[1;32m     37\u001b[0m \u001b[0;34m\u001b[0m\u001b[0m\n\u001b[1;32m     38\u001b[0m \u001b[0;31m# Cell\u001b[0m\u001b[0;34m\u001b[0m\u001b[0;34m\u001b[0m\u001b[0;34m\u001b[0m\u001b[0m\n",
            "\u001b[0;32m/usr/local/lib/python3.7/dist-packages/fastcore/test.py\u001b[0m in \u001b[0;36mtest\u001b[0;34m(a, b, cmp, cname)\u001b[0m\n\u001b[1;32m     24\u001b[0m     \u001b[0;34m\"`assert` that `cmp(a,b)`; display inputs and `cname or cmp.__name__` if it fails\"\u001b[0m\u001b[0;34m\u001b[0m\u001b[0;34m\u001b[0m\u001b[0m\n\u001b[1;32m     25\u001b[0m     \u001b[0;32mif\u001b[0m \u001b[0mcname\u001b[0m \u001b[0;32mis\u001b[0m \u001b[0;32mNone\u001b[0m\u001b[0;34m:\u001b[0m \u001b[0mcname\u001b[0m\u001b[0;34m=\u001b[0m\u001b[0mcmp\u001b[0m\u001b[0;34m.\u001b[0m\u001b[0m__name__\u001b[0m\u001b[0;34m\u001b[0m\u001b[0;34m\u001b[0m\u001b[0m\n\u001b[0;32m---> 26\u001b[0;31m     \u001b[0;32massert\u001b[0m \u001b[0mcmp\u001b[0m\u001b[0;34m(\u001b[0m\u001b[0ma\u001b[0m\u001b[0;34m,\u001b[0m\u001b[0mb\u001b[0m\u001b[0;34m)\u001b[0m\u001b[0;34m,\u001b[0m\u001b[0;34mf\"{cname}:\\n{a}\\n{b}\"\u001b[0m\u001b[0;34m\u001b[0m\u001b[0;34m\u001b[0m\u001b[0m\n\u001b[0m\u001b[1;32m     27\u001b[0m \u001b[0;34m\u001b[0m\u001b[0m\n\u001b[1;32m     28\u001b[0m \u001b[0;31m# Cell\u001b[0m\u001b[0;34m\u001b[0m\u001b[0;34m\u001b[0m\u001b[0;34m\u001b[0m\u001b[0m\n",
            "\u001b[0;31mAssertionError\u001b[0m: ==:\n256\n64"
          ]
        }
      ]
    },
    {
      "cell_type": "code",
      "metadata": {
        "id": "IoaNTQeqaosN"
      },
      "source": [
        "learn.save('lstm_1')"
      ],
      "execution_count": null,
      "outputs": []
    },
    {
      "cell_type": "code",
      "metadata": {
        "id": "WTCm4CowaosN"
      },
      "source": [
        "learn.freeze_to(-2)\n",
        "learn.fit_one_cycle(1, slice(1e-2/(2.6**4),1e-2))"
      ],
      "execution_count": null,
      "outputs": []
    },
    {
      "cell_type": "code",
      "metadata": {
        "id": "4n7HnfxfaosN"
      },
      "source": [
        "learn.save('lstm_2')"
      ],
      "execution_count": null,
      "outputs": []
    },
    {
      "cell_type": "code",
      "metadata": {
        "id": "3tQAEGt_aosN"
      },
      "source": [
        "learn.freeze_to(-3)\n",
        "learn.fit_one_cycle(1, slice(1e-2/2/(2.6**4),1e-2/2))"
      ],
      "execution_count": null,
      "outputs": []
    },
    {
      "cell_type": "code",
      "metadata": {
        "id": "Qg5HqRsJaosO"
      },
      "source": [
        "learn.save('lstm_3')"
      ],
      "execution_count": null,
      "outputs": []
    },
    {
      "cell_type": "code",
      "metadata": {
        "id": "D6bBBtfEaosO"
      },
      "source": [
        "learn.unfreeze()\n",
        "learn.fit_one_cycle(20, slice(1e-2/10/(2.6**4),1e-2/10))"
      ],
      "execution_count": null,
      "outputs": []
    },
    {
      "cell_type": "code",
      "metadata": {
        "id": "spSi6a9TaosO"
      },
      "source": [
        "learn.save('lstm_4')"
      ],
      "execution_count": null,
      "outputs": []
    },
    {
      "cell_type": "code",
      "metadata": {
        "id": "atzdyESAaosO"
      },
      "source": [
        "# get predictions\n",
        "preds, targets = learn.get_preds()\n",
        "\n",
        "predictions = np.argmax(preds, axis = 1)\n",
        "pd.crosstab(predictions, targets)"
      ],
      "execution_count": null,
      "outputs": []
    },
    {
      "cell_type": "code",
      "metadata": {
        "id": "GemHyFnQaosO"
      },
      "source": [
        "from sklearn.metrics import classification_report\n",
        "\n",
        "print(classification_report(targets, predictions))"
      ],
      "execution_count": null,
      "outputs": []
    },
    {
      "cell_type": "code",
      "metadata": {
        "id": "pAX8OilzaosO"
      },
      "source": [
        "learn.save('final_lstm_model')"
      ],
      "execution_count": null,
      "outputs": []
    },
    {
      "cell_type": "markdown",
      "metadata": {
        "id": "Tm0oQhOgaosO"
      },
      "source": [
        "# Transformers"
      ]
    },
    {
      "cell_type": "code",
      "metadata": {
        "id": "sr_U5uFqaosP"
      },
      "source": [
        "# Try a distill transformer and other models."
      ],
      "execution_count": null,
      "outputs": []
    },
    {
      "cell_type": "code",
      "metadata": {
        "id": "wju0QutxaosP"
      },
      "source": [
        "import tensorflow as tf\n",
        "import ktrain\n",
        "from ktrain import text"
      ],
      "execution_count": 49,
      "outputs": []
    },
    {
      "cell_type": "code",
      "metadata": {
        "id": "sAaJnRVlaosP",
        "colab": {
          "base_uri": "https://localhost:8080/",
          "height": 583
        },
        "outputId": "1b5fd3d7-1391-49cd-e034-8bcbc25883c4"
      },
      "source": [
        "trn, val, preproc = text.texts_from_df(training_df,'text',preprocess_mode='bert',label_columns='target',verbose=True, maxlen=32) # Process the input based on the BERT encoder\n",
        "\n",
        "model = text.text_classifier('bert', trn, preproc=preproc) # Create a text classifier that uses the BERT-based representations created before\n",
        "\n",
        "learner = ktrain.get_learner(model, train_data=trn, val_data=val,  batch_size=128) # Creates the learning process to fine-tune bert and train the classifier."
      ],
      "execution_count": 50,
      "outputs": [
        {
          "output_type": "stream",
          "text": [
            "['automobile', 'medicine', 'religion', 'sport']\n",
            "      automobile  medicine  religion  sport\n",
            "9779         0.0       0.0       1.0    0.0\n",
            "7533         0.0       0.0       1.0    0.0\n",
            "7011         0.0       1.0       0.0    0.0\n",
            "5213         0.0       0.0       1.0    0.0\n",
            "8601         0.0       0.0       0.0    1.0\n",
            "['automobile', 'medicine', 'religion', 'sport']\n",
            "      automobile  medicine  religion  sport\n",
            "9131         0.0       0.0       0.0    1.0\n",
            "1329         0.0       1.0       0.0    0.0\n",
            "5826         0.0       0.0       1.0    0.0\n",
            "934          0.0       0.0       0.0    1.0\n",
            "135          0.0       0.0       1.0    0.0\n",
            "downloading pretrained BERT model (uncased_L-12_H-768_A-12.zip)...\n",
            "[██████████████████████████████████████████████████]\n",
            "extracting pretrained BERT model...\n",
            "done.\n",
            "\n",
            "cleanup downloaded zip...\n",
            "done.\n",
            "\n",
            "preprocessing train...\n",
            "language: en\n"
          ],
          "name": "stdout"
        },
        {
          "output_type": "display_data",
          "data": {
            "text/html": [
              "done."
            ],
            "text/plain": [
              "<IPython.core.display.HTML object>"
            ]
          },
          "metadata": {
            "tags": []
          }
        },
        {
          "output_type": "stream",
          "text": [
            "Is Multi-Label? False\n",
            "preprocessing test...\n",
            "language: en\n"
          ],
          "name": "stdout"
        },
        {
          "output_type": "display_data",
          "data": {
            "text/html": [
              "done."
            ],
            "text/plain": [
              "<IPython.core.display.HTML object>"
            ]
          },
          "metadata": {
            "tags": []
          }
        },
        {
          "output_type": "stream",
          "text": [
            "Is Multi-Label? False\n",
            "maxlen is 32\n",
            "done.\n"
          ],
          "name": "stdout"
        }
      ]
    },
    {
      "cell_type": "code",
      "metadata": {
        "id": "Z_nIzSapaosP",
        "colab": {
          "base_uri": "https://localhost:8080/",
          "height": 498
        },
        "outputId": "584da28e-25f9-425c-f2f4-04b103daeaf1"
      },
      "source": [
        "learner.lr_find(show_plot=True, max_epochs=2)"
      ],
      "execution_count": 51,
      "outputs": [
        {
          "output_type": "stream",
          "text": [
            "simulating training for different learning rates... this may take a few moments...\n"
          ],
          "name": "stdout"
        },
        {
          "output_type": "stream",
          "text": [
            "/usr/local/lib/python3.7/dist-packages/tensorflow/python/keras/utils/generic_utils.py:497: CustomMaskWarning: Custom mask layers require a config and must override get_config. When loading, the custom mask layer must be passed to the custom_objects argument.\n",
            "  category=CustomMaskWarning)\n"
          ],
          "name": "stderr"
        },
        {
          "output_type": "stream",
          "text": [
            "Epoch 1/2\n",
            "31/31 [==============================] - 1358s 43s/step - loss: 1.1903 - accuracy: 0.4241\n",
            "Epoch 2/2\n",
            "31/31 [==============================] - 1223s 39s/step - loss: 35.1952 - accuracy: 0.2866\n",
            "\n",
            "\n",
            "done.\n",
            "Visually inspect loss plot and select learning rate associated with falling loss\n"
          ],
          "name": "stdout"
        },
        {
          "output_type": "display_data",
          "data": {
            "image/png": "[encoded data removed]",
            "text/plain": [
              "<Figure size 432x288 with 1 Axes>"
            ]
          },
          "metadata": {
            "tags": [],
            "needs_background": "light"
          }
        }
      ]
    },
    {
      "cell_type": "code",
      "metadata": {
        "id": "2NzzT6ZHaosP"
      },
      "source": [
        "learner.autofit(lr=1e-4, # Learning Rate \n",
        "                epochs=5, # Number of epochs to train the model\n",
        "                early_stopping=2, # If the model does not improve after 2 epochs, we stop the training\n",
        "                reduce_on_plateau=1,  # If the model does not improve aftear 1 epoch, we reduce the learning rate\n",
        "                monitor='val_loss', # Metric to monitor the peformance of the model (loss computed on the validation dataset)\n",
        "                checkpoint_folder='transformer_cpt_1' # After each epoch we store a checkpoint of the model\n",
        "                )"
      ],
      "execution_count": null,
      "outputs": []
    },
    {
      "cell_type": "code",
      "metadata": {
        "id": "tj0EIvrzaosP"
      },
      "source": [
        "learner.save_model('transformer_1') # Saving the trained model"
      ],
      "execution_count": null,
      "outputs": []
    },
    {
      "cell_type": "code",
      "metadata": {
        "id": "k9k4FvXOaosP"
      },
      "source": [
        "learner.unfreeze()\n",
        "learner.fit_onecycle(1e-4/10, 1, checkpoint_folder='transformer_cpt_2')"
      ],
      "execution_count": null,
      "outputs": []
    },
    {
      "cell_type": "code",
      "metadata": {
        "id": "ieHlO4EEaosQ"
      },
      "source": [
        "learner.save_model('transformer_2') # Store the final model"
      ],
      "execution_count": null,
      "outputs": []
    },
    {
      "cell_type": "code",
      "metadata": {
        "id": "hvLO4jBsaosQ"
      },
      "source": [
        "learner.validate(class_names=['religion', 'automobile', 'medicine','sport'] )"
      ],
      "execution_count": null,
      "outputs": []
    },
    {
      "cell_type": "code",
      "metadata": {
        "id": "9tLPdY--aosQ"
      },
      "source": [
        "learner.view_top_losses(n=10, preproc=preproc)"
      ],
      "execution_count": null,
      "outputs": []
    },
    {
      "cell_type": "code",
      "metadata": {
        "id": "BO04LN8kaosQ"
      },
      "source": [
        "#!pip3 install -q git+https://github.com/amaiya/eli5@tfkeras_0_10_1"
      ],
      "execution_count": null,
      "outputs": []
    },
    {
      "cell_type": "code",
      "metadata": {
        "id": "sw8VIpldaosQ"
      },
      "source": [
        "predictor = ktrain.get_predictor(learner.model, preproc)\n",
        "\n",
        "predictor.explain(\"[CLS] the government is concerned about the population explosion and the population is concerned about the government explosion . - joe moore [SEP]\")"
      ],
      "execution_count": null,
      "outputs": []
    }
  ]
}